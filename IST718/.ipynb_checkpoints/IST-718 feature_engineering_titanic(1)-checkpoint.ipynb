{
 "cells": [
  {
   "cell_type": "code",
   "execution_count": 1,
   "metadata": {},
   "outputs": [],
   "source": [
    "%matplotlib inline\n",
    "from pyspark.sql import SparkSession\n",
    "from pyspark.sql import SQLContext\n",
    "from pyspark.ml import feature\n",
    "from pyspark.ml import classification\n",
    "from pyspark.sql import functions as fn\n",
    "from pyspark.ml import Pipeline\n",
    "from pyspark.ml.evaluation import BinaryClassificationEvaluator, \\\n",
    "    MulticlassClassificationEvaluator, \\\n",
    "    RegressionEvaluator\n",
    "from pyspark.ml.tuning import CrossValidator, ParamGridBuilder\n",
    "import matplotlib.pyplot as plt\n",
    "import seaborn as sns\n",
    "import pandas as pd\n",
    "spark = SparkSession.builder.getOrCreate()\n",
    "sc = spark.sparkContext\n",
    "sqlContext = SQLContext(sc)\n",
    "import os"
   ]
  },
  {
   "cell_type": "code",
   "execution_count": 2,
   "metadata": {
    "nbgrader": {
     "checksum": "c51f80b694da894627ba37be28c86055",
     "grade": false,
     "grade_id": "cell-b038e38b5e3072a9",
     "locked": true,
     "schema_version": 1,
     "solution": false
    }
   },
   "outputs": [],
   "source": [
    "# Define a function to determine if we are running on data bricks\n",
    "# Return true if running in the data bricks environment, false otherwise\n",
    "import os\n",
    "def is_databricks():\n",
    "    if os.getenv(\"DATABRICKS_RUNTIME_VERSION\") != None:\n",
    "        return True\n",
    "    else:\n",
    "        return False\n",
    "\n",
    "# Define a function to read the data. The full path name is constructed by checking\n",
    "# the runtime environment to determine if it is databricks or a personal computer.\n",
    "# On the local filesystem the data is assumed to be in the same directory as the code.\n",
    "# On databricks, the data path is assumed to be at '/FileStore/tables/' location.\n",
    "# \n",
    "# Parameter(s):\n",
    "#   name: The base name of the file, parquet file or parquet directory\n",
    "# Return Value:\n",
    "#   full_path_name: the full path name of the data based on the runtime environment\n",
    "#\n",
    "# Correct Usage Example (pass ONLY the full file name):\n",
    "#   name_to_load = get_datapath(\"sms_spam.csv\") # correct  \n",
    "#   \n",
    "# Incorrect Usage Examples:\n",
    "#   name_to_load = get_datapath(\"/sms_spam.csv\") # incorrect\n",
    "#   name_to_load = get_datapath(\"sms_spam.csv/\") # incorrect\n",
    "#   name_to_load = get_datapath(\"c:/users/will/data/sms_spam.csv\") incorrect\n",
    "#\n",
    "def get_datapath(name):    \n",
    "    if is_databricks():\n",
    "        full_path_name = \"/FileStore/tables/%s\" % name\n",
    "    else:\n",
    "        full_path_name = name\n",
    "    return full_path_name"
   ]
  },
  {
   "cell_type": "code",
   "execution_count": null,
   "metadata": {},
   "outputs": [],
   "source": [
    "titanic_df = spark.read.csv(get_datapath('titanic*csv'), header=True, inferSchema=True)"
   ]
  },
  {
   "cell_type": "markdown",
   "metadata": {},
   "source": [
    "[Column Descriptions](https://data.world/nrippner/titanic-disaster-dataset): <br>\n",
    "survival - Survival (0 = No; 1 = Yes) <br>\n",
    "class - Passenger Class (1 = 1st; 2 = 2nd; 3 = 3rd) <br>\n",
    "name - Name <br>\n",
    "sex - Sex <br>\n",
    "age - Age <br>\n",
    "sibsp - Number of Siblings/Spouses Aboard <br>\n",
    "parch - Number of Parents/Children Aboard <br>\n",
    "ticket - Ticket Number <br>\n",
    "fare - Passenger Fare <br>\n",
    "cabin - Cabin <br>\n",
    "embarked - Port of Embarkation (C = Cherbourg; Q = Queenstown; S = Southampton) <br>\n",
    "boat - Lifeboat (if survived) <br>\n",
    "body - Body number (if did not survive and body was recovered) <br>"
   ]
  },
  {
   "cell_type": "code",
   "execution_count": 4,
   "metadata": {},
   "outputs": [
    {
     "data": {
      "text/html": [
       "<div>\n",
       "<style scoped>\n",
       "    .dataframe tbody tr th:only-of-type {\n",
       "        vertical-align: middle;\n",
       "    }\n",
       "\n",
       "    .dataframe tbody tr th {\n",
       "        vertical-align: top;\n",
       "    }\n",
       "\n",
       "    .dataframe thead th {\n",
       "        text-align: right;\n",
       "    }\n",
       "</style>\n",
       "<table border=\"1\" class=\"dataframe\">\n",
       "  <thead>\n",
       "    <tr style=\"text-align: right;\">\n",
       "      <th></th>\n",
       "      <th>pclass</th>\n",
       "      <th>survived</th>\n",
       "      <th>name</th>\n",
       "      <th>sex</th>\n",
       "      <th>age</th>\n",
       "      <th>sibsp</th>\n",
       "      <th>parch</th>\n",
       "      <th>ticket</th>\n",
       "      <th>fare</th>\n",
       "      <th>cabin</th>\n",
       "      <th>embarked</th>\n",
       "      <th>boat</th>\n",
       "      <th>body</th>\n",
       "      <th>home.dest</th>\n",
       "    </tr>\n",
       "  </thead>\n",
       "  <tbody>\n",
       "    <tr>\n",
       "      <th>0</th>\n",
       "      <td>1</td>\n",
       "      <td>1</td>\n",
       "      <td>Allen, Miss. Elisabeth Walton</td>\n",
       "      <td>female</td>\n",
       "      <td>29.0000</td>\n",
       "      <td>0</td>\n",
       "      <td>0</td>\n",
       "      <td>24160</td>\n",
       "      <td>211.3375</td>\n",
       "      <td>B5</td>\n",
       "      <td>S</td>\n",
       "      <td>2</td>\n",
       "      <td>NaN</td>\n",
       "      <td>St Louis, MO</td>\n",
       "    </tr>\n",
       "    <tr>\n",
       "      <th>1</th>\n",
       "      <td>1</td>\n",
       "      <td>1</td>\n",
       "      <td>Allison, Master. Hudson Trevor</td>\n",
       "      <td>male</td>\n",
       "      <td>0.9167</td>\n",
       "      <td>1</td>\n",
       "      <td>2</td>\n",
       "      <td>113781</td>\n",
       "      <td>151.5500</td>\n",
       "      <td>C22 C26</td>\n",
       "      <td>S</td>\n",
       "      <td>11</td>\n",
       "      <td>NaN</td>\n",
       "      <td>Montreal, PQ / Chesterville, ON</td>\n",
       "    </tr>\n",
       "    <tr>\n",
       "      <th>2</th>\n",
       "      <td>1</td>\n",
       "      <td>0</td>\n",
       "      <td>Allison, Miss. Helen Loraine</td>\n",
       "      <td>female</td>\n",
       "      <td>2.0000</td>\n",
       "      <td>1</td>\n",
       "      <td>2</td>\n",
       "      <td>113781</td>\n",
       "      <td>151.5500</td>\n",
       "      <td>C22 C26</td>\n",
       "      <td>S</td>\n",
       "      <td>None</td>\n",
       "      <td>NaN</td>\n",
       "      <td>Montreal, PQ / Chesterville, ON</td>\n",
       "    </tr>\n",
       "    <tr>\n",
       "      <th>3</th>\n",
       "      <td>1</td>\n",
       "      <td>0</td>\n",
       "      <td>Allison, Mr. Hudson Joshua Creighton</td>\n",
       "      <td>male</td>\n",
       "      <td>30.0000</td>\n",
       "      <td>1</td>\n",
       "      <td>2</td>\n",
       "      <td>113781</td>\n",
       "      <td>151.5500</td>\n",
       "      <td>C22 C26</td>\n",
       "      <td>S</td>\n",
       "      <td>None</td>\n",
       "      <td>135.0</td>\n",
       "      <td>Montreal, PQ / Chesterville, ON</td>\n",
       "    </tr>\n",
       "    <tr>\n",
       "      <th>4</th>\n",
       "      <td>1</td>\n",
       "      <td>0</td>\n",
       "      <td>Allison, Mrs. Hudson J C (Bessie Waldo Daniels)</td>\n",
       "      <td>female</td>\n",
       "      <td>25.0000</td>\n",
       "      <td>1</td>\n",
       "      <td>2</td>\n",
       "      <td>113781</td>\n",
       "      <td>151.5500</td>\n",
       "      <td>C22 C26</td>\n",
       "      <td>S</td>\n",
       "      <td>None</td>\n",
       "      <td>NaN</td>\n",
       "      <td>Montreal, PQ / Chesterville, ON</td>\n",
       "    </tr>\n",
       "  </tbody>\n",
       "</table>\n",
       "</div>"
      ],
      "text/plain": [
       "   pclass  survived                                             name     sex  \\\n",
       "0       1         1                    Allen, Miss. Elisabeth Walton  female   \n",
       "1       1         1                   Allison, Master. Hudson Trevor    male   \n",
       "2       1         0                     Allison, Miss. Helen Loraine  female   \n",
       "3       1         0             Allison, Mr. Hudson Joshua Creighton    male   \n",
       "4       1         0  Allison, Mrs. Hudson J C (Bessie Waldo Daniels)  female   \n",
       "\n",
       "       age  sibsp  parch  ticket      fare    cabin embarked  boat   body  \\\n",
       "0  29.0000      0      0   24160  211.3375       B5        S     2    NaN   \n",
       "1   0.9167      1      2  113781  151.5500  C22 C26        S    11    NaN   \n",
       "2   2.0000      1      2  113781  151.5500  C22 C26        S  None    NaN   \n",
       "3  30.0000      1      2  113781  151.5500  C22 C26        S  None  135.0   \n",
       "4  25.0000      1      2  113781  151.5500  C22 C26        S  None    NaN   \n",
       "\n",
       "                         home.dest  \n",
       "0                     St Louis, MO  \n",
       "1  Montreal, PQ / Chesterville, ON  \n",
       "2  Montreal, PQ / Chesterville, ON  \n",
       "3  Montreal, PQ / Chesterville, ON  \n",
       "4  Montreal, PQ / Chesterville, ON  "
      ]
     },
     "metadata": {},
     "output_type": "display_data"
    },
    {
     "data": {
      "text/plain": [
       "'types:'"
      ]
     },
     "metadata": {},
     "output_type": "display_data"
    },
    {
     "data": {
      "text/plain": [
       "pclass         int32\n",
       "survived       int32\n",
       "name          object\n",
       "sex           object\n",
       "age          float64\n",
       "sibsp          int32\n",
       "parch          int32\n",
       "ticket        object\n",
       "fare         float64\n",
       "cabin         object\n",
       "embarked      object\n",
       "boat          object\n",
       "body         float64\n",
       "home.dest     object\n",
       "dtype: object"
      ]
     },
     "metadata": {},
     "output_type": "display_data"
    }
   ],
   "source": [
    "titanic_df_pd = titanic_df.limit(10).toPandas()\n",
    "display(titanic_df_pd.head())\n",
    "display(\"types:\", titanic_df_pd.dtypes)"
   ]
  },
  {
   "cell_type": "code",
   "execution_count": 5,
   "metadata": {},
   "outputs": [],
   "source": [
    "# some basic cleanup\n",
    "drop_cols = ['boat', 'body']\n",
    "new_titanic_df = titanic_df.\\\n",
    "    drop(*drop_cols).\\\n",
    "    withColumnRenamed('home.dest', 'home_dest') .\\\n",
    "    dropna(subset=['pclass', 'age', 'sibsp', 'parch', 'fare', 'survived'])"
   ]
  },
  {
   "cell_type": "code",
   "execution_count": 6,
   "metadata": {},
   "outputs": [
    {
     "name": "stdout",
     "output_type": "stream",
     "text": [
      "+------+--------+----+---+---+-----+-----+------+----+-----+--------+---------+\n",
      "|pclass|survived|name|sex|age|sibsp|parch|ticket|fare|cabin|embarked|home_dest|\n",
      "+------+--------+----+---+---+-----+-----+------+----+-----+--------+---------+\n",
      "|     0|       0|   0|  0|  0|    0|    0|     0|   0|  773|       2|      360|\n",
      "+------+--------+----+---+---+-----+-----+------+----+-----+--------+---------+\n",
      "\n",
      "+------+--------+----+---+---+-----+-----+------+----+-----+--------+---------+\n",
      "|pclass|survived|name|sex|age|sibsp|parch|ticket|fare|cabin|embarked|home_dest|\n",
      "+------+--------+----+---+---+-----+-----+------+----+-----+--------+---------+\n",
      "|     0|       0|   0|  0|  0|    0|    0|     0|   0|    0|       0|        0|\n",
      "+------+--------+----+---+---+-----+-----+------+----+-----+--------+---------+\n",
      "\n"
     ]
    }
   ],
   "source": [
    "from pyspark.sql.functions import isnan, isnull, when, count, col\n",
    "\n",
    "new_titanic_df.select([count(when(isnull(c), c)).alias(c) for c in new_titanic_df.columns]).show()\n",
    "new_titanic_df.select([count(when(isnan(c), c)).alias(c) for c in new_titanic_df.columns]).show()"
   ]
  },
  {
   "cell_type": "code",
   "execution_count": 7,
   "metadata": {},
   "outputs": [
    {
     "name": "stdout",
     "output_type": "stream",
     "text": [
      "+------+--------+--------------------+------+----+-----+-----+--------+------+-------+--------+--------------------+\n",
      "|pclass|survived|                name|   sex| age|sibsp|parch|  ticket|  fare|  cabin|embarked|           home_dest|\n",
      "+------+--------+--------------------+------+----+-----+-----+--------+------+-------+--------+--------------------+\n",
      "|     1|       0|\"Lindeberg-Lind, ...|  male|42.0|    0|    0|   17475| 26.55|   null|       S|   Stockholm, Sweden|\n",
      "|     1|       0|\"Rosenshine, Mr. ...|  male|46.0|    0|    0|PC 17585|  79.2|   null|       C|        New York, NY|\n",
      "|     1|       0|Allison, Miss. He...|female| 2.0|    1|    2|  113781|151.55|C22 C26|       S|Montreal, PQ / Ch...|\n",
      "|     1|       0|Allison, Mr. Huds...|  male|30.0|    1|    2|  113781|151.55|C22 C26|       S|Montreal, PQ / Ch...|\n",
      "|     1|       0|Allison, Mrs. Hud...|female|25.0|    1|    2|  113781|151.55|C22 C26|       S|Montreal, PQ / Ch...|\n",
      "+------+--------+--------------------+------+----+-----+-----+--------+------+-------+--------+--------------------+\n",
      "only showing top 5 rows\n",
      "\n"
     ]
    }
   ],
   "source": [
    "training, test = new_titanic_df.randomSplit([0.8, 0.2], 0)\n",
    "training.show(5)"
   ]
  },
  {
   "cell_type": "markdown",
   "metadata": {},
   "source": [
    "## classic pipeline"
   ]
  },
  {
   "cell_type": "markdown",
   "metadata": {},
   "source": [
    "Create a logistic regression pipeline"
   ]
  },
  {
   "cell_type": "code",
   "execution_count": 8,
   "metadata": {},
   "outputs": [],
   "source": [
    "model0 = Pipeline(stages=[feature.VectorAssembler(inputCols=['pclass', 'age', 'sibsp', 'parch', 'fare'],\n",
    "                                        outputCol='features'),\n",
    "                  classification.LogisticRegression(labelCol='survived', featuresCol='features')])"
   ]
  },
  {
   "cell_type": "markdown",
   "metadata": {},
   "source": [
    "Fit the logistic regression model on the training data"
   ]
  },
  {
   "cell_type": "code",
   "execution_count": 9,
   "metadata": {},
   "outputs": [],
   "source": [
    "model0_fitted = model0.fit(training)"
   ]
  },
  {
   "cell_type": "markdown",
   "metadata": {},
   "source": [
    "Use the fitted logistic regression model to make predictions on the test data.  Note that the logistic regression model adds `rawPrediction`, `probability`, and `prediction` cols to the dataframe.  `rawPrediction` is the direct probability calculation.  `probability` is `class_k probability: 1/(1 + exp(-rawPrediction_k))`.  The probability col is the predicted probability of a 0 or 1 respectively.  See this [stack overflow](https://stackoverflow.com/questions/37903288/what-do-columns-rawprediction-and-probability-of-dataframe-mean-in-spark-mll) post for more information on the added columns."
   ]
  },
  {
   "cell_type": "code",
   "execution_count": 10,
   "metadata": {
    "scrolled": false
   },
   "outputs": [
    {
     "data": {
      "text/html": [
       "<div>\n",
       "<style scoped>\n",
       "    .dataframe tbody tr th:only-of-type {\n",
       "        vertical-align: middle;\n",
       "    }\n",
       "\n",
       "    .dataframe tbody tr th {\n",
       "        vertical-align: top;\n",
       "    }\n",
       "\n",
       "    .dataframe thead th {\n",
       "        text-align: right;\n",
       "    }\n",
       "</style>\n",
       "<table border=\"1\" class=\"dataframe\">\n",
       "  <thead>\n",
       "    <tr style=\"text-align: right;\">\n",
       "      <th></th>\n",
       "      <th>pclass</th>\n",
       "      <th>survived</th>\n",
       "      <th>name</th>\n",
       "      <th>sex</th>\n",
       "      <th>age</th>\n",
       "      <th>sibsp</th>\n",
       "      <th>parch</th>\n",
       "      <th>ticket</th>\n",
       "      <th>fare</th>\n",
       "      <th>cabin</th>\n",
       "      <th>embarked</th>\n",
       "      <th>home_dest</th>\n",
       "      <th>features</th>\n",
       "      <th>rawPrediction</th>\n",
       "      <th>probability</th>\n",
       "      <th>prediction</th>\n",
       "    </tr>\n",
       "  </thead>\n",
       "  <tbody>\n",
       "    <tr>\n",
       "      <th>0</th>\n",
       "      <td>1</td>\n",
       "      <td>0</td>\n",
       "      <td>Cavendish, Mr. Tyrell William</td>\n",
       "      <td>male</td>\n",
       "      <td>36.0</td>\n",
       "      <td>1</td>\n",
       "      <td>0</td>\n",
       "      <td>19877</td>\n",
       "      <td>78.8500</td>\n",
       "      <td>C46</td>\n",
       "      <td>S</td>\n",
       "      <td>Little Onn Hall, Staffs</td>\n",
       "      <td>[1.0, 36.0, 1.0, 0.0, 78.85]</td>\n",
       "      <td>[-0.3701173610815549, 0.3701173610815549]</td>\n",
       "      <td>[0.40851266329674274, 0.5914873367032573]</td>\n",
       "      <td>1.0</td>\n",
       "    </tr>\n",
       "    <tr>\n",
       "      <th>1</th>\n",
       "      <td>1</td>\n",
       "      <td>0</td>\n",
       "      <td>Chaffee, Mr. Herbert Fuller</td>\n",
       "      <td>male</td>\n",
       "      <td>46.0</td>\n",
       "      <td>1</td>\n",
       "      <td>0</td>\n",
       "      <td>W.E.P. 5734</td>\n",
       "      <td>61.1750</td>\n",
       "      <td>E31</td>\n",
       "      <td>S</td>\n",
       "      <td>Amenia, ND</td>\n",
       "      <td>[1.0, 46.0, 1.0, 0.0, 61.175]</td>\n",
       "      <td>[0.07084649308798685, -0.07084649308798685]</td>\n",
       "      <td>[0.5177042187690748, 0.48229578123092515]</td>\n",
       "      <td>0.0</td>\n",
       "    </tr>\n",
       "    <tr>\n",
       "      <th>2</th>\n",
       "      <td>1</td>\n",
       "      <td>0</td>\n",
       "      <td>Douglas, Mr. Walter Donald</td>\n",
       "      <td>male</td>\n",
       "      <td>50.0</td>\n",
       "      <td>1</td>\n",
       "      <td>0</td>\n",
       "      <td>PC 17761</td>\n",
       "      <td>106.4250</td>\n",
       "      <td>C86</td>\n",
       "      <td>C</td>\n",
       "      <td>Deephaven, MN / Cedar Rapids, IA</td>\n",
       "      <td>[1.0, 50.0, 1.0, 0.0, 106.425]</td>\n",
       "      <td>[0.04922709860310137, -0.04922709860310137]</td>\n",
       "      <td>[0.5123042899948759, 0.4876957100051241]</td>\n",
       "      <td>0.0</td>\n",
       "    </tr>\n",
       "    <tr>\n",
       "      <th>3</th>\n",
       "      <td>1</td>\n",
       "      <td>0</td>\n",
       "      <td>Dulles, Mr. William Crothers</td>\n",
       "      <td>male</td>\n",
       "      <td>39.0</td>\n",
       "      <td>0</td>\n",
       "      <td>0</td>\n",
       "      <td>PC 17580</td>\n",
       "      <td>29.7000</td>\n",
       "      <td>A18</td>\n",
       "      <td>C</td>\n",
       "      <td>Philadelphia, PA</td>\n",
       "      <td>[1.0, 39.0, 0.0, 0.0, 29.7]</td>\n",
       "      <td>[-0.36282993321714807, 0.36282993321714807]</td>\n",
       "      <td>[0.41027469194103966, 0.5897253080589604]</td>\n",
       "      <td>1.0</td>\n",
       "    </tr>\n",
       "    <tr>\n",
       "      <th>4</th>\n",
       "      <td>1</td>\n",
       "      <td>0</td>\n",
       "      <td>Evans, Miss. Edith Corse</td>\n",
       "      <td>female</td>\n",
       "      <td>36.0</td>\n",
       "      <td>0</td>\n",
       "      <td>0</td>\n",
       "      <td>PC 17531</td>\n",
       "      <td>31.6792</td>\n",
       "      <td>A29</td>\n",
       "      <td>C</td>\n",
       "      <td>New York, NY</td>\n",
       "      <td>[1.0, 36.0, 0.0, 0.0, 31.6792]</td>\n",
       "      <td>[-0.4825420672142591, 0.4825420672142591]</td>\n",
       "      <td>[0.3816520330202816, 0.6183479669797184]</td>\n",
       "      <td>1.0</td>\n",
       "    </tr>\n",
       "  </tbody>\n",
       "</table>\n",
       "</div>"
      ],
      "text/plain": [
       "   pclass  survived                           name     sex   age  sibsp  \\\n",
       "0       1         0  Cavendish, Mr. Tyrell William    male  36.0      1   \n",
       "1       1         0    Chaffee, Mr. Herbert Fuller    male  46.0      1   \n",
       "2       1         0     Douglas, Mr. Walter Donald    male  50.0      1   \n",
       "3       1         0   Dulles, Mr. William Crothers    male  39.0      0   \n",
       "4       1         0       Evans, Miss. Edith Corse  female  36.0      0   \n",
       "\n",
       "   parch       ticket      fare cabin embarked  \\\n",
       "0      0        19877   78.8500   C46        S   \n",
       "1      0  W.E.P. 5734   61.1750   E31        S   \n",
       "2      0     PC 17761  106.4250   C86        C   \n",
       "3      0     PC 17580   29.7000   A18        C   \n",
       "4      0     PC 17531   31.6792   A29        C   \n",
       "\n",
       "                          home_dest                        features  \\\n",
       "0           Little Onn Hall, Staffs    [1.0, 36.0, 1.0, 0.0, 78.85]   \n",
       "1                        Amenia, ND   [1.0, 46.0, 1.0, 0.0, 61.175]   \n",
       "2  Deephaven, MN / Cedar Rapids, IA  [1.0, 50.0, 1.0, 0.0, 106.425]   \n",
       "3                  Philadelphia, PA     [1.0, 39.0, 0.0, 0.0, 29.7]   \n",
       "4                      New York, NY  [1.0, 36.0, 0.0, 0.0, 31.6792]   \n",
       "\n",
       "                                 rawPrediction  \\\n",
       "0    [-0.3701173610815549, 0.3701173610815549]   \n",
       "1  [0.07084649308798685, -0.07084649308798685]   \n",
       "2  [0.04922709860310137, -0.04922709860310137]   \n",
       "3  [-0.36282993321714807, 0.36282993321714807]   \n",
       "4    [-0.4825420672142591, 0.4825420672142591]   \n",
       "\n",
       "                                 probability  prediction  \n",
       "0  [0.40851266329674274, 0.5914873367032573]         1.0  \n",
       "1  [0.5177042187690748, 0.48229578123092515]         0.0  \n",
       "2   [0.5123042899948759, 0.4876957100051241]         0.0  \n",
       "3  [0.41027469194103966, 0.5897253080589604]         1.0  \n",
       "4   [0.3816520330202816, 0.6183479669797184]         1.0  "
      ]
     },
     "execution_count": 10,
     "metadata": {},
     "output_type": "execute_result"
    }
   ],
   "source": [
    "model0_fitted.transform(test).toPandas().head()"
   ]
  },
  {
   "cell_type": "markdown",
   "metadata": {},
   "source": [
    "The cell below calculates the predicted percent survived"
   ]
  },
  {
   "cell_type": "code",
   "execution_count": 11,
   "metadata": {
    "scrolled": true
   },
   "outputs": [
    {
     "name": "stdout",
     "output_type": "stream",
     "text": [
      "+-------------------------------------------+\n",
      "|avg(CAST((prediction = survived) AS FLOAT))|\n",
      "+-------------------------------------------+\n",
      "|                         0.6846846846846847|\n",
      "+-------------------------------------------+\n",
      "\n"
     ]
    }
   ],
   "source": [
    "model0_fitted.transform(test).select(fn.avg(fn.expr('prediction = survived').cast('float'))).show()"
   ]
  },
  {
   "cell_type": "markdown",
   "metadata": {},
   "source": [
    "The cell below calculates the percent survived in the original dataframe"
   ]
  },
  {
   "cell_type": "code",
   "execution_count": 12,
   "metadata": {
    "scrolled": false
   },
   "outputs": [
    {
     "name": "stdout",
     "output_type": "stream",
     "text": [
      "+-------------------+\n",
      "|      avg(survived)|\n",
      "+-------------------+\n",
      "|0.40861244019138754|\n",
      "+-------------------+\n",
      "\n"
     ]
    }
   ],
   "source": [
    "new_titanic_df.select(fn.avg('survived')).show()"
   ]
  },
  {
   "cell_type": "markdown",
   "metadata": {},
   "source": [
    "Another way of evaluating the model performance is with the `BinaryClassificationEvaluator`.  The [BinaryClassificationEvaluator](https://spark.apache.org/docs/latest/api/python/pyspark.ml.html) calculates the area under the receiver operating characteristic curve (ROC curve) by default.  `BinaryClassificationEvaluator` uses `rawPrediction` and `label` cols as default column names for the area under the curve (AUC) calculation.  The cell below overrides the label col name with `survived`."
   ]
  },
  {
   "cell_type": "code",
   "execution_count": 13,
   "metadata": {},
   "outputs": [],
   "source": [
    "evaluator = BinaryClassificationEvaluator(labelCol='survived')"
   ]
  },
  {
   "cell_type": "code",
   "execution_count": 14,
   "metadata": {},
   "outputs": [
    {
     "data": {
      "text/plain": [
       "0.7327861952861949"
      ]
     },
     "execution_count": 14,
     "metadata": {},
     "output_type": "execute_result"
    }
   ],
   "source": [
    "evaluator.evaluate(model0_fitted.transform(test))"
   ]
  },
  {
   "cell_type": "markdown",
   "metadata": {},
   "source": [
    "If we wanted to modify the pipeline to add \"sex\" (gender) as a feature, we need to modify the point of entry and the next transformation.  The StringIndexer converts labels where the label with the highest count is label 0, next highest is label 1, etc.  See the spark documentation for [StringIndexer](https://spark.apache.org/docs/latest/ml-features.html#stringindexer) for more information."
   ]
  },
  {
   "cell_type": "code",
   "execution_count": 15,
   "metadata": {},
   "outputs": [],
   "source": [
    "model1 = Pipeline(stages=[feature.VectorAssembler(inputCols=['pclass', 'age', 'sibsp', 'parch', 'fare'], \n",
    "                                                  outputCol='features'),\n",
    "                          feature.StringIndexer(inputCol='sex', outputCol='encoded_sex'),\n",
    "                          feature.VectorAssembler(inputCols=['features', 'encoded_sex'], outputCol='final_features'),\n",
    "                 classification.LogisticRegression(labelCol='survived', featuresCol='final_features')])"
   ]
  },
  {
   "cell_type": "code",
   "execution_count": 16,
   "metadata": {
    "scrolled": true
   },
   "outputs": [],
   "source": [
    "model1_fitted = model1.fit(training)"
   ]
  },
  {
   "cell_type": "code",
   "execution_count": 17,
   "metadata": {},
   "outputs": [
    {
     "data": {
      "text/plain": [
       "0.8341750841750837"
      ]
     },
     "execution_count": 17,
     "metadata": {},
     "output_type": "execute_result"
    }
   ],
   "source": [
    "evaluator.evaluate(model1_fitted.transform(test))"
   ]
  },
  {
   "cell_type": "markdown",
   "metadata": {},
   "source": [
    "# Automated evaluator"
   ]
  },
  {
   "cell_type": "code",
   "execution_count": 18,
   "metadata": {},
   "outputs": [],
   "source": [
    "# Execute the classification pipeline defined by model_fitted using data as the input data.  Returns ROC AUC.\n",
    "# Uses model_pipeline to obtain information needed to execute the fitted model.\n",
    "# Args\n",
    "# model_pipeline:  The unfitted pipeline definition.\n",
    "# model_fitted: The fitted pipeline\n",
    "# data: The data on which to perform predictions\n",
    "def binary_evaluation(model_pipeline, model_fitted, data):\n",
    "    return BinaryClassificationEvaluator(labelCol=model_pipeline.getStages()[-1].getLabelCol(), \n",
    "                                rawPredictionCol=model_pipeline.getStages()[-1].getRawPredictionCol()).\\\n",
    "    evaluate(model_fitted.transform(data))"
   ]
  },
  {
   "cell_type": "markdown",
   "metadata": {},
   "source": [
    "# Initial model\n",
    "\n",
    "$$\n",
    "p(survived = 1) = f(\\text{pclass}, \\text{age}, \\text{sibsp}, \\text{parch}, \\text{fare})\n",
    "$$"
   ]
  },
  {
   "cell_type": "code",
   "execution_count": 19,
   "metadata": {},
   "outputs": [],
   "source": [
    "model1_pipeline = Pipeline(stages=[feature.VectorAssembler(inputCols=['pclass', 'age', 'sibsp', 'parch', 'fare'], \n",
    "                                                           outputCol='features'),\n",
    "                           classification.LogisticRegression(labelCol='survived')])"
   ]
  },
  {
   "cell_type": "code",
   "execution_count": 20,
   "metadata": {
    "scrolled": false
   },
   "outputs": [],
   "source": [
    "model1_fitted = model1_pipeline.fit(training)"
   ]
  },
  {
   "cell_type": "code",
   "execution_count": 21,
   "metadata": {},
   "outputs": [
    {
     "data": {
      "text/plain": [
       "0.7327861952861949"
      ]
     },
     "execution_count": 21,
     "metadata": {},
     "output_type": "execute_result"
    }
   ],
   "source": [
    "binary_evaluation(model1_pipeline, model1_fitted, test)"
   ]
  },
  {
   "cell_type": "code",
   "execution_count": 22,
   "metadata": {},
   "outputs": [
    {
     "data": {
      "text/plain": [
       "DenseVector([-0.9506, -0.0374, -0.2909, 0.3312, 0.0038])"
      ]
     },
     "execution_count": 22,
     "metadata": {},
     "output_type": "execute_result"
    }
   ],
   "source": [
    "model1_fitted.stages[-1].coefficients"
   ]
  },
  {
   "cell_type": "code",
   "execution_count": 23,
   "metadata": {},
   "outputs": [
    {
     "name": "stdout",
     "output_type": "stream",
     "text": [
      "        FPR\n",
      "0  0.000000\n",
      "1  0.002058\n",
      "2  0.004115\n",
      "3  0.008230\n",
      "4  0.012346\n",
      "        TPR\n",
      "0  0.000000\n",
      "1  0.020772\n",
      "2  0.038576\n",
      "3  0.053412\n",
      "4  0.068249\n"
     ]
    }
   ],
   "source": [
    "# extract TPR and FPR values from the model\n",
    "fpr = model1_fitted.stages[-1].summary.roc.select('FPR').toPandas()\n",
    "tpr = model1_fitted.stages[-1].summary.roc.select('TPR').toPandas()\n",
    "print(fpr.head())\n",
    "print(tpr.head())"
   ]
  },
  {
   "cell_type": "code",
   "execution_count": 24,
   "metadata": {},
   "outputs": [
    {
     "data": {
      "text/plain": [
       "2.659936911075746"
      ]
     },
     "execution_count": 24,
     "metadata": {},
     "output_type": "execute_result"
    }
   ],
   "source": [
    "model1_fitted.stages[-1].intercept"
   ]
  },
  {
   "cell_type": "markdown",
   "metadata": {},
   "source": [
    "# Some preprocessing of the data"
   ]
  },
  {
   "cell_type": "code",
   "execution_count": 25,
   "metadata": {},
   "outputs": [
    {
     "data": {
      "text/plain": [
       "Text(0.5, 1.01, 'Titanic Data Pair Plot')"
      ]
     },
     "execution_count": 25,
     "metadata": {},
     "output_type": "execute_result"
    },
    {
     "data": {
      "image/png": "[encoded data removed]",
      "text/plain": [
       "<Figure size 900x900 with 30 Axes>"
      ]
     },
     "metadata": {
      "needs_background": "light"
     },
     "output_type": "display_data"
    }
   ],
   "source": [
    "ax = sns.pairplot(new_titanic_df.toPandas()[['pclass', 'age', 'sibsp', 'parch', 'fare']])\n",
    "ax.fig.suptitle(\"Titanic Data Pair Plot\", y=1.01)"
   ]
  },
  {
   "cell_type": "code",
   "execution_count": 26,
   "metadata": {},
   "outputs": [],
   "source": [
    "import numpy as np"
   ]
  },
  {
   "cell_type": "markdown",
   "metadata": {},
   "source": [
    "The following cell is a quick demo of the StandardScaler."
   ]
  },
  {
   "cell_type": "code",
   "execution_count": 27,
   "metadata": {},
   "outputs": [
    {
     "name": "stdout",
     "output_type": "stream",
     "text": [
      "+--------+----------+-------------------+\n",
      "|    fare|  fare_vec|        scaled_fare|\n",
      "+--------+----------+-------------------+\n",
      "|211.3375|[211.3375]|[3.133742712618657]|\n",
      "|  151.55|  [151.55]|[2.060985086378592]|\n",
      "|  151.55|  [151.55]|[2.060985086378592]|\n",
      "|  151.55|  [151.55]|[2.060985086378592]|\n",
      "|  151.55|  [151.55]|[2.060985086378592]|\n",
      "+--------+----------+-------------------+\n",
      "only showing top 5 rows\n",
      "\n"
     ]
    }
   ],
   "source": [
    "# create a vector assembler\n",
    "va = feature.VectorAssembler(inputCols=[\"fare\"], outputCol=\"fare_vec\")\n",
    "\n",
    "# create a temp data frame for this demo\n",
    "tmpdf = va.transform(new_titanic_df)\n",
    "\n",
    "# create a standard scaler which sacles mean and std\n",
    "sScaler = feature.StandardScaler(withMean=True, withStd=True, inputCol=\"fare_vec\", outputCol=\"scaled_fare\")\n",
    "\n",
    "# fit and transform the standard scaler, and show the results\n",
    "sScaler.fit(tmpdf).transform(tmpdf).select(['fare', 'fare_vec', 'scaled_fare']).show(5)"
   ]
  },
  {
   "cell_type": "markdown",
   "metadata": {},
   "source": [
    "The following cell applies a standard scaler function to 5 columns of the titanic data.  Notice how the scale changed between the below and above pair plots.  Standardization is the process of subtracting the mean and dividing by the standard deviation for each column. Standardization is similar to transforming all columns in the data set to be on the same scale."
   ]
  },
  {
   "cell_type": "code",
   "execution_count": 28,
   "metadata": {},
   "outputs": [
    {
     "data": {
      "text/plain": [
       "Text(0.5, 1.03, 'Titanic Data Pair Plot Using Standard Scaler\\nCompare X axis with Above Pairplot')"
      ]
     },
     "execution_count": 28,
     "metadata": {},
     "output_type": "execute_result"
    },
    {
     "data": {
      "image/png": "[encoded data removed]",
      "text/plain": [
       "<Figure size 900x900 with 30 Axes>"
      ]
     },
     "metadata": {
      "needs_background": "light"
     },
     "output_type": "display_data"
    }
   ],
   "source": [
    "pairplot_va = feature.VectorAssembler(inputCols=['pclass', 'age', 'sibsp', 'parch', 'fare'], outputCol='features')\n",
    "pairplot_lr = classification.LogisticRegression(labelCol='survived')\n",
    "pairplot_sc = feature.StandardScaler(withMean=True, inputCol='features')\n",
    "pairplot_pipe = Pipeline(stages=[pairplot_va, pairplot_lr, pairplot_sc])\n",
    "fitted_pairplot_pipe = pairplot_pipe.fit(new_titanic_df)\n",
    "scaled_df = fitted_pairplot_pipe.transform(new_titanic_df)\n",
    "pd_scaled_df = scaled_df.toPandas()\n",
    "stacked_array = np.vstack(pd_scaled_df.iloc[:,-1])\n",
    "pairplot_df = pd.DataFrame(stacked_array)\n",
    "ax = sns.pairplot(pairplot_df)\n",
    "ax.fig.suptitle(\"Titanic Data Pair Plot Using Standard Scaler\\nCompare X axis with Above Pairplot\", y=1.03)"
   ]
  },
  {
   "cell_type": "code",
   "execution_count": 29,
   "metadata": {
    "scrolled": false
   },
   "outputs": [
    {
     "data": {
      "text/plain": [
       "Text(0.5, 1.0, 'Age Histogram\\nUnscaled Data')"
      ]
     },
     "execution_count": 29,
     "metadata": {},
     "output_type": "execute_result"
    },
    {
     "data": {
      "image/png": "[encoded data removed]",
      "text/plain": [
       "<Figure size 432x288 with 1 Axes>"
      ]
     },
     "metadata": {
      "needs_background": "light"
     },
     "output_type": "display_data"
    }
   ],
   "source": [
    "ax = new_titanic_df.toPandas().age.hist()\n",
    "ax.set_xlabel('age')\n",
    "ax.set_title(\"Age Histogram\\nUnscaled Data\")"
   ]
  },
  {
   "cell_type": "markdown",
   "metadata": {},
   "source": [
    "The following cell contains the same code as the cell above that produced the pairplot except that it also shows the output of various stages of the processing to demonstrate what the pipe is doing.  The goal of this cell is to produce a histogram of the standardized age data for comparison to the age histogram above."
   ]
  },
  {
   "cell_type": "code",
   "execution_count": 30,
   "metadata": {},
   "outputs": [
    {
     "data": {
      "text/plain": [
       "Text(0.5, 1.0, 'Titanic Age Histogram\\nAge Scaled with Standard Scaler')"
      ]
     },
     "execution_count": 30,
     "metadata": {},
     "output_type": "execute_result"
    },
    {
     "data": {
      "image/png": "[encoded data removed]",
      "text/plain": [
       "<Figure size 432x288 with 1 Axes>"
      ]
     },
     "metadata": {
      "needs_background": "light"
     },
     "output_type": "display_data"
    }
   ],
   "source": [
    "pairplot_df.columns = ['pclass', 'age', 'sibsp', 'parch', 'fare']\n",
    "ax = pairplot_df.age.hist()\n",
    "ax.set_xlabel(\"Age\")\n",
    "ax.set_title(\"Titanic Age Histogram\\nAge Scaled with Standard Scaler\")"
   ]
  },
  {
   "cell_type": "markdown",
   "metadata": {},
   "source": [
    "## Initial model on standardized results"
   ]
  },
  {
   "cell_type": "markdown",
   "metadata": {},
   "source": [
    "One common use of standardization is to make the loss function coverge faster.  In some cases, the loss function will not converge if the input data is not standardized in some way.  Logistic regression does not require standardized data to make the loss function converge.  However, it may make the loss function converge faster.  See the spark documentation on [StandardScaler](https://spark.apache.org/docs/latest/ml-features.html#standardscaler) for more information."
   ]
  },
  {
   "cell_type": "code",
   "execution_count": 31,
   "metadata": {},
   "outputs": [],
   "source": [
    "va = feature.VectorAssembler(inputCols=['pclass', 'age', 'sibsp', 'parch', 'fare'], outputCol='features')\n",
    "sc = feature.StandardScaler(withMean=True, inputCol='features')\n",
    "lr = classification.LogisticRegression(labelCol='survived')\n",
    "model2_pipeline = Pipeline(stages=[va, sc, lr])"
   ]
  },
  {
   "cell_type": "code",
   "execution_count": 32,
   "metadata": {},
   "outputs": [],
   "source": [
    "model2_fitted = model2_pipeline.fit(training)"
   ]
  },
  {
   "cell_type": "code",
   "execution_count": 33,
   "metadata": {},
   "outputs": [
    {
     "data": {
      "text/plain": [
       "0.7327861952861949"
      ]
     },
     "execution_count": 33,
     "metadata": {},
     "output_type": "execute_result"
    }
   ],
   "source": [
    "binary_evaluation(model1_pipeline, model1_fitted, test)"
   ]
  },
  {
   "cell_type": "code",
   "execution_count": 34,
   "metadata": {},
   "outputs": [
    {
     "data": {
      "text/plain": [
       "0.7327861952861949"
      ]
     },
     "execution_count": 34,
     "metadata": {},
     "output_type": "execute_result"
    }
   ],
   "source": [
    "binary_evaluation(model2_pipeline, model2_fitted, test)"
   ]
  },
  {
   "cell_type": "code",
   "execution_count": 35,
   "metadata": {},
   "outputs": [
    {
     "data": {
      "text/plain": [
       "2.659936911075746"
      ]
     },
     "execution_count": 35,
     "metadata": {},
     "output_type": "execute_result"
    }
   ],
   "source": [
    "model2_fitted.stages[-1].intercept"
   ]
  },
  {
   "cell_type": "code",
   "execution_count": 36,
   "metadata": {},
   "outputs": [
    {
     "data": {
      "text/plain": [
       "DenseVector([-0.9506, -0.0374, -0.2909, 0.3312, 0.0038])"
      ]
     },
     "execution_count": 36,
     "metadata": {},
     "output_type": "execute_result"
    }
   ],
   "source": [
    "model2_fitted.stages[-1].coefficients"
   ]
  },
  {
   "cell_type": "markdown",
   "metadata": {},
   "source": [
    "## other scaling"
   ]
  },
  {
   "cell_type": "markdown",
   "metadata": {},
   "source": [
    "The following cell uses the `MaxAbsScaler` to scale the data between -1 and +1.  `MaxAbsScaler` does not center the data by subtracting the mean.  See the spark documentation on [MaxAbsScaler](https://spark.apache.org/docs/latest/ml-features.html#maxabsscaler) for more information."
   ]
  },
  {
   "cell_type": "code",
   "execution_count": 37,
   "metadata": {
    "scrolled": true
   },
   "outputs": [
    {
     "data": {
      "text/plain": [
       "Text(0.5, 1.0, 'Age Histogram\\nAge Transformed with Max Abs Scaler')"
      ]
     },
     "execution_count": 37,
     "metadata": {},
     "output_type": "execute_result"
    },
    {
     "data": {
      "image/png": "[encoded data removed]",
      "text/plain": [
       "<Figure size 432x288 with 1 Axes>"
      ]
     },
     "metadata": {
      "needs_background": "light"
     },
     "output_type": "display_data"
    }
   ],
   "source": [
    "va = feature.VectorAssembler(inputCols=['pclass', 'age', 'sibsp', 'parch', 'fare'], outputCol='features')\n",
    "max_abs_scaler = feature.MaxAbsScaler(inputCol='features')\n",
    "pipeline = Pipeline(stages=[va, max_abs_scaler])\n",
    "fitted_pipe = pipeline.fit(new_titanic_df)\n",
    "transformed_df = fitted_pipe.transform(new_titanic_df)\n",
    "pd_transformed_df = transformed_df.toPandas()\n",
    "pd_transformed_df = pd.DataFrame(np.vstack(pd_transformed_df.iloc[:, -1]))\n",
    "pd_transformed_df.columns = ['pclass', 'age', 'sibsp', 'parch', 'fare']\n",
    "ax = pd_transformed_df.age.hist()\n",
    "ax.set_xlabel('Age')\n",
    "ax.set_title(\"Age Histogram\\nAge Transformed with Max Abs Scaler\")"
   ]
  },
  {
   "cell_type": "code",
   "execution_count": 38,
   "metadata": {},
   "outputs": [
    {
     "data": {
      "text/plain": [
       "Text(0.5, 1.0, 'Age Histogram\\nUnscaled Age Data')"
      ]
     },
     "execution_count": 38,
     "metadata": {},
     "output_type": "execute_result"
    },
    {
     "data": {
      "image/png": "[encoded data removed]",
      "text/plain": [
       "<Figure size 432x288 with 1 Axes>"
      ]
     },
     "metadata": {
      "needs_background": "light"
     },
     "output_type": "display_data"
    }
   ],
   "source": [
    "ax = new_titanic_df.toPandas().age.hist()\n",
    "ax.set_xlabel('age')\n",
    "ax.set_title(\"Age Histogram\\nUnscaled Age Data\")"
   ]
  },
  {
   "cell_type": "markdown",
   "metadata": {},
   "source": [
    "# Bucketizer"
   ]
  },
  {
   "cell_type": "markdown",
   "metadata": {},
   "source": [
    "The Bucketizer transforms a col of continuous data into discrete buckets via user specified splits.  See the spark documentation for the [Bucketizer](https://spark.apache.org/docs/latest/ml-features.html#bucketizer) for more information. "
   ]
  },
  {
   "cell_type": "code",
   "execution_count": 39,
   "metadata": {
    "scrolled": true
   },
   "outputs": [
    {
     "data": {
      "text/plain": [
       "Text(0.5, 0, 'fare')"
      ]
     },
     "execution_count": 39,
     "metadata": {},
     "output_type": "execute_result"
    },
    {
     "data": {
      "image/png": "[encoded data removed]",
      "text/plain": [
       "<Figure size 432x288 with 1 Axes>"
      ]
     },
     "metadata": {
      "needs_background": "light"
     },
     "output_type": "display_data"
    }
   ],
   "source": [
    "new_titanic_df.toPandas().fare.hist()\n",
    "plt.xlabel('fare')"
   ]
  },
  {
   "cell_type": "markdown",
   "metadata": {},
   "source": [
    "The plot below shows a histogram of the fare transformed into 5 buckets."
   ]
  },
  {
   "cell_type": "code",
   "execution_count": 40,
   "metadata": {
    "scrolled": false
   },
   "outputs": [
    {
     "data": {
      "text/plain": [
       "Text(0.5, 0, 'Fare bucket')"
      ]
     },
     "execution_count": 40,
     "metadata": {},
     "output_type": "execute_result"
    },
    {
     "data": {
      "image/png": "[encoded data removed]",
      "text/plain": [
       "<Figure size 432x288 with 1 Axes>"
      ]
     },
     "metadata": {
      "needs_background": "light"
     },
     "output_type": "display_data"
    }
   ],
   "source": [
    "feature.Bucketizer(splits=[0, 20, 50, 100, 400, 800], inputCol='fare').transform(new_titanic_df).toPandas().iloc[:, -1].hist()\n",
    "plt.xticks([0, 1, 2, 3, 4, 5]);\n",
    "plt.xlabel('Fare bucket')"
   ]
  },
  {
   "cell_type": "markdown",
   "metadata": {},
   "source": [
    "The QuantileDiscretizer takes col with continuous data and transforms it into binned categorical features where the number of bins is defined by the user.  See the spark documentation for [QuantileDiscretizer](https://spark.apache.org/docs/latest/ml-features.html#quantilediscretizer) for more information."
   ]
  },
  {
   "cell_type": "code",
   "execution_count": 41,
   "metadata": {},
   "outputs": [],
   "source": [
    "qd = feature.QuantileDiscretizer(numBuckets=4, inputCol='fare', outputCol='fare_bins').fit(new_titanic_df)"
   ]
  },
  {
   "cell_type": "code",
   "execution_count": 42,
   "metadata": {},
   "outputs": [
    {
     "data": {
      "text/plain": [
       "[-inf, 8.05, 15.75, 35.5, inf]"
      ]
     },
     "execution_count": 42,
     "metadata": {},
     "output_type": "execute_result"
    }
   ],
   "source": [
    "qd.getSplits()"
   ]
  },
  {
   "cell_type": "code",
   "execution_count": 43,
   "metadata": {},
   "outputs": [
    {
     "data": {
      "text/plain": [
       "Text(0.5, 0, 'Fare quantiles')"
      ]
     },
     "execution_count": 43,
     "metadata": {},
     "output_type": "execute_result"
    },
    {
     "data": {
      "image/png": "[encoded data removed]",
      "text/plain": [
       "<Figure size 432x288 with 1 Axes>"
      ]
     },
     "metadata": {
      "needs_background": "light"
     },
     "output_type": "display_data"
    }
   ],
   "source": [
    "feature.QuantileDiscretizer(numBuckets=4, inputCol='fare', outputCol='fare_bins').fit(new_titanic_df).transform(new_titanic_df).toPandas().iloc[:, -1].hist()\n",
    "plt.xticks([-1, 0, 1, 2, 3, 4, 5]);\n",
    "plt.xlabel('Fare quantiles')"
   ]
  },
  {
   "cell_type": "code",
   "execution_count": 44,
   "metadata": {},
   "outputs": [],
   "source": [
    "# full model"
   ]
  },
  {
   "cell_type": "markdown",
   "metadata": {},
   "source": [
    "Define a `gender_pipe` that uses the StringIndexer to encode the gender data.  The StringIndexer was used and described earlier in this notebook."
   ]
  },
  {
   "cell_type": "code",
   "execution_count": 45,
   "metadata": {},
   "outputs": [],
   "source": [
    "gender_pipe = feature.StringIndexer(inputCol='sex', handleInvalid='skip',outputCol=\"genderIndex\")"
   ]
  },
  {
   "cell_type": "code",
   "execution_count": 46,
   "metadata": {},
   "outputs": [],
   "source": [
    "titles_list = \" Capt  Col  Don  Dona  Dr  Jonkheer  Lady  Major  Master  Miss  Mlle  Mme  Mr  Mrs  Ms  Rev  Sir\".lower().split()"
   ]
  },
  {
   "cell_type": "markdown",
   "metadata": {},
   "source": [
    "Create a title pipeline that creates a vector of counts for each title using the CountVectorizer.  The CountVectorizer produces a count of each word in the titles_list.  See the spark documentation for [RegexTokenizer](https://spark.apache.org/docs/latest/api/python/pyspark.ml.html#pyspark.ml.feature.RegexTokenizer) and [CountVectorizer](https://spark.apache.org/docs/latest/ml-features.html#countvectorizer) for more information.  Setting gaps to False specifies continuous expression matching.  The '\\\\b' is a word boundary.  The expression below essentially creates a regular expression that matches the logical OR of any of the titles in the titles_list.  Here is a link to information to [Java Regular Expressions](https://docs.oracle.com/javase/8/docs/api/java/util/regex/Pattern.html).  Search for \\\\\\b for an explanation about why the double back slash is needed."
   ]
  },
  {
   "cell_type": "code",
   "execution_count": 47,
   "metadata": {},
   "outputs": [],
   "source": [
    "title_pipe = Pipeline(stages=[feature.RegexTokenizer(pattern=\"\\\\b(\" + \"|\".join(titles_list) + \")\\\\b\", gaps=False,\n",
    "                                                     inputCol='name',outputCol = 'tokens'),\n",
    "                      feature.CountVectorizer(inputCol=\"tokens\", outputCol=\"count\")])"
   ]
  },
  {
   "cell_type": "markdown",
   "metadata": {},
   "source": [
    "Show the distinct embarkment codes in the data."
   ]
  },
  {
   "cell_type": "code",
   "execution_count": 48,
   "metadata": {},
   "outputs": [
    {
     "name": "stdout",
     "output_type": "stream",
     "text": [
      "+--------+\n",
      "|embarked|\n",
      "+--------+\n",
      "|       Q|\n",
      "|    null|\n",
      "|       C|\n",
      "|       S|\n",
      "+--------+\n",
      "\n"
     ]
    }
   ],
   "source": [
    "new_titanic_df.select('embarked').distinct().show()"
   ]
  },
  {
   "cell_type": "markdown",
   "metadata": {},
   "source": [
    "The OneHotEncoder encodes a categorical value into a vector of Boolean values where the Boolean is true in the position corresponding to the feature.  The length of the one hot vector is equal to the number of distinct feature values - 1.  For example, if we have categorical values 'Q', 'C', 'S', and 'O', this will be transformed into a one hot vector of length 3 because there are 4 distinct feature values.  Assuming the ordering in the code examplebelow, if the value is 'Q', the one hot vector will be 001.  If the value is 'C', the one hot vector will be 010.  If the value is 'S', the one hot vector will be 100.  If the value is 'O', the one hot vector will be 000.  Essentially, a 1 appears in the position corresponding to the value, and 0 everywhere else.  <br>\n",
    "\n",
    "Value One Hot Vector <br>\n",
    "Q &emsp;&nbsp;&nbsp; 001<br>\n",
    "C &emsp;&nbsp;&nbsp; 010 <br>\n",
    "S &emsp;&nbsp;&nbsp; 100 <br>\n",
    "O &emsp;&nbsp;&nbsp; 000 <br>\n",
    "\n",
    "The interpretation of the OneHotEncoder values in the output below is as follows (taken from this [stackoverflow](https://stackoverflow.com/questions/42295001/how-to-interpret-results-of-spark-onehotencoder) post:  The values in column categoryVec are represented in sparse format. In this format the zeros of a vector are not printed. The first value (3) shows the length of the vector, the second value is an array that lists zero or more indices where non-zero entries are found. The third value is another array that tells which numbers are found at these indices. So (3,[2],[1.0]) means a vector of length 3 with 1.0 at position 2 and 0 elsewhere. <br>\n",
    "\n",
    "See the spark documentation for [OneHotEncoder](https://spark.apache.org/docs/latest/ml-features.html#onehotencoder-deprecated-since-230) for more information."
   ]
  },
  {
   "cell_type": "code",
   "execution_count": 49,
   "metadata": {},
   "outputs": [],
   "source": [
    "embarked_pipe = Pipeline(stages=[feature.StringIndexer(inputCol='embarked', handleInvalid='skip',outputCol = \"indexed\"), \n",
    "                                 feature.OneHotEncoder(inputCol='indexed',outputCol = \"One Hot Embarked\")])"
   ]
  },
  {
   "cell_type": "code",
   "execution_count": 50,
   "metadata": {
    "scrolled": false
   },
   "outputs": [
    {
     "name": "stdout",
     "output_type": "stream",
     "text": [
      "+--------+-------+----------------+\n",
      "|embarked|indexed|One Hot Embarked|\n",
      "+--------+-------+----------------+\n",
      "|       S|    0.0|   (2,[0],[1.0])|\n",
      "|       Q|    2.0|       (2,[],[])|\n",
      "|       C|    1.0|   (2,[1],[1.0])|\n",
      "+--------+-------+----------------+\n",
      "\n"
     ]
    }
   ],
   "source": [
    "embarked_pipe.fit(new_titanic_df.select('embarked')).transform(new_titanic_df.select('embarked')).distinct().show()"
   ]
  },
  {
   "cell_type": "markdown",
   "metadata": {},
   "source": [
    "Create a cabin pipeline that one hot encodes the `cabin_col`"
   ]
  },
  {
   "cell_type": "code",
   "execution_count": 51,
   "metadata": {},
   "outputs": [],
   "source": [
    "cabin_pipe = Pipeline(stages=[feature.SQLTransformer(statement='select *, substring(cabin,1,1) as cabin_col from __THIS__'),\n",
    "                              feature.StringIndexer(inputCol='cabin_col', outputCol='cabin_col2', handleInvalid='skip'),\n",
    "                              feature.OneHotEncoder(inputCol='cabin_col2',outputCol = \"One Hot Cabin\")])"
   ]
  },
  {
   "cell_type": "markdown",
   "metadata": {},
   "source": [
    "Create a pipeline to apply a standard scaler to the numeric columns in the data."
   ]
  },
  {
   "cell_type": "code",
   "execution_count": 52,
   "metadata": {},
   "outputs": [],
   "source": [
    "numerical_features = Pipeline(stages=[feature.VectorAssembler(inputCols=['pclass', 'age', 'sibsp', 'parch'], \n",
    "                                                              outputCol = 'num_features'),\n",
    "                                      feature.StandardScaler(inputCol=\"num_features\", outputCol=\"scaledFeatures\")])"
   ]
  },
  {
   "cell_type": "markdown",
   "metadata": {},
   "source": [
    "Create an `all_features` pipeline that collects all the pipelines together into one pipeline."
   ]
  },
  {
   "cell_type": "code",
   "execution_count": 53,
   "metadata": {},
   "outputs": [],
   "source": [
    "all_features = Pipeline(stages=[numerical_features,\n",
    "                               feature.QuantileDiscretizer(inputCol='fare', outputCol='fare_bins', numBuckets=4),\n",
    "                               gender_pipe,title_pipe,embarked_pipe,cabin_pipe,\n",
    "                               feature.VectorAssembler(inputCols=['scaledFeatures','fare_bins','genderIndex','count',\n",
    "                                                                'One Hot Embarked','One Hot Cabin'],outputCol = 'features')\n",
    "                               ])"
   ]
  },
  {
   "cell_type": "code",
   "execution_count": 54,
   "metadata": {},
   "outputs": [],
   "source": [
    "lr = classification.LogisticRegression(labelCol='survived')"
   ]
  },
  {
   "cell_type": "code",
   "execution_count": 55,
   "metadata": {},
   "outputs": [],
   "source": [
    "final_model_pipeline = Pipeline(stages=[all_features, lr])"
   ]
  },
  {
   "cell_type": "markdown",
   "metadata": {},
   "source": [
    "Define a grid search [ParamGridBuilder](https://spark.apache.org/docs/2.2.0/api/java/index.html?org/apache/spark/ml/tuning/ParamGridBuilder.html) object.  The grid search object iterates over different combinations of paramters (elasticNetParam and regParam in this example).  "
   ]
  },
  {
   "cell_type": "code",
   "execution_count": 56,
   "metadata": {},
   "outputs": [],
   "source": [
    "paramGrid = ParamGridBuilder() \\\n",
    "    .addGrid(lr.elasticNetParam, [0., 0.01, 0.1]) \\\n",
    "    .addGrid(lr.regParam, [0.1, 0.01, 0.001, 0.0001]) \\\n",
    "    .build()"
   ]
  },
  {
   "cell_type": "markdown",
   "metadata": {},
   "source": [
    "The length of the grid is 12 because it implements all combinations of elasticNetParam (3 options) and regParam (4 options).  "
   ]
  },
  {
   "cell_type": "code",
   "execution_count": 57,
   "metadata": {},
   "outputs": [
    {
     "data": {
      "text/plain": [
       "12"
      ]
     },
     "execution_count": 57,
     "metadata": {},
     "output_type": "execute_result"
    }
   ],
   "source": [
    "len(paramGrid)"
   ]
  },
  {
   "cell_type": "markdown",
   "metadata": {},
   "source": [
    "Define an evaluator and a `CrossValidator`.  The [CrossValidator](https://spark.apache.org/docs/2.2.0/api/python/pyspark.ml.html#pyspark.ml.tuning.CrossValidator) performs cross validation on each model in the grid defined above.  The evaluator is used to evaluate the performance of each pass of the cross validation."
   ]
  },
  {
   "cell_type": "code",
   "execution_count": 58,
   "metadata": {},
   "outputs": [],
   "source": [
    "evaluator = BinaryClassificationEvaluator(labelCol=lr.getLabelCol(), rawPredictionCol=lr.getRawPredictionCol())\n",
    "crossval = CrossValidator(estimator=final_model_pipeline, \n",
    "                          estimatorParamMaps=paramGrid, \n",
    "                          evaluator=evaluator, \n",
    "                          numFolds=2)"
   ]
  },
  {
   "cell_type": "markdown",
   "metadata": {},
   "source": [
    "The cell below will take a while to complete because we are training and testing 12 separate logistic regression models.  And for each model, we train and evaluate the model twice (numFolds = 2).  The total number of training and evaluation cycles is 12 * 2 = 24."
   ]
  },
  {
   "cell_type": "code",
   "execution_count": 59,
   "metadata": {
    "scrolled": false
   },
   "outputs": [],
   "source": [
    "final_model_fitted = crossval.fit(training)"
   ]
  },
  {
   "cell_type": "code",
   "execution_count": 60,
   "metadata": {},
   "outputs": [
    {
     "data": {
      "text/plain": [
       "[0.821102616625973,\n",
       " 0.7981362999745354,\n",
       " 0.7610401781033269,\n",
       " 0.7484214051039311,\n",
       " 0.8211026166259727,\n",
       " 0.7994697656246101,\n",
       " 0.7644267377182603,\n",
       " 0.747664016587027,\n",
       " 0.8180942831678126,\n",
       " 0.8014161324066169,\n",
       " 0.7649678632593858,\n",
       " 0.7485281322867827]"
      ]
     },
     "execution_count": 60,
     "metadata": {},
     "output_type": "execute_result"
    }
   ],
   "source": [
    "final_model_fitted.avgMetrics"
   ]
  },
  {
   "cell_type": "markdown",
   "metadata": {},
   "source": [
    "Show the test data and then test and predict on the test data."
   ]
  },
  {
   "cell_type": "code",
   "execution_count": 61,
   "metadata": {
    "scrolled": false
   },
   "outputs": [
    {
     "name": "stdout",
     "output_type": "stream",
     "text": [
      "+------+--------+--------------------+------+----+-----+-----+-----------+--------+-------+--------+--------------------+\n",
      "|pclass|survived|                name|   sex| age|sibsp|parch|     ticket|    fare|  cabin|embarked|           home_dest|\n",
      "+------+--------+--------------------+------+----+-----+-----+-----------+--------+-------+--------+--------------------+\n",
      "|     1|       0|Cavendish, Mr. Ty...|  male|36.0|    1|    0|      19877|   78.85|    C46|       S|Little Onn Hall, ...|\n",
      "|     1|       0|Chaffee, Mr. Herb...|  male|46.0|    1|    0|W.E.P. 5734|  61.175|    E31|       S|          Amenia, ND|\n",
      "|     1|       0|Douglas, Mr. Walt...|  male|50.0|    1|    0|   PC 17761| 106.425|    C86|       C|Deephaven, MN / C...|\n",
      "|     1|       0|Dulles, Mr. Willi...|  male|39.0|    0|    0|   PC 17580|    29.7|    A18|       C|    Philadelphia, PA|\n",
      "|     1|       0|Evans, Miss. Edit...|female|36.0|    0|    0|   PC 17531| 31.6792|    A29|       C|        New York, NY|\n",
      "|     1|       0|  Giglio, Mr. Victor|  male|24.0|    0|    0|   PC 17593|    79.2|    B86|       C|                null|\n",
      "|     1|       0|Goldschmidt, Mr. ...|  male|71.0|    0|    0|   PC 17754| 34.6542|     A5|       C|        New York, NY|\n",
      "|     1|       0|Guggenheim, Mr. B...|  male|46.0|    0|    0|   PC 17593|    79.2|B82 B84|       C|        New York, NY|\n",
      "|     1|       0|  Keeping, Mr. Edwin|  male|32.5|    0|    0|     113503|   211.5|   C132|       C|                null|\n",
      "|     1|       0|Loring, Mr. Josep...|  male|30.0|    0|    0|     113801|    45.5|   null|       S|London / New York...|\n",
      "|     1|       0|Minahan, Dr. Will...|  male|44.0|    2|    0|      19928|    90.0|    C78|       Q|     Fond du Lac, WI|\n",
      "|     1|       0|Molson, Mr. Harry...|  male|55.0|    0|    0|     113787|    30.5|    C30|       S|        Montreal, PQ|\n",
      "|     1|       0|Moore, Mr. Claren...|  male|47.0|    0|    0|     113796|    42.4|   null|       S|      Washington, DC|\n",
      "|     1|       0|Nicholson, Mr. Ar...|  male|64.0|    0|    0|        693|    26.0|   null|       S|Isle of Wight, En...|\n",
      "|     1|       0|Porter, Mr. Walte...|  male|47.0|    0|    0|     110465|    52.0|   C110|       S|       Worcester, MA|\n",
      "|     1|       0|Roebling, Mr. Was...|  male|31.0|    0|    0|   PC 17590| 50.4958|    A24|       S|         Trenton, NJ|\n",
      "|     1|       0|Straus, Mrs. Isid...|female|63.0|    1|    0|   PC 17483|221.7792|C55 C57|       S|        New York, NY|\n",
      "|     1|       0|   Taussig, Mr. Emil|  male|52.0|    1|    1|     110413|   79.65|    E67|       S|        New York, NY|\n",
      "|     1|       0|Thayer, Mr. John ...|  male|49.0|    1|    1|      17421|110.8833|    C68|       C|       Haverford, PA|\n",
      "|     1|       0|Widener, Mr. Harr...|  male|27.0|    0|    2|     113503|   211.5|    C82|       C|     Elkins Park, PA|\n",
      "+------+--------+--------------------+------+----+-----+-----+-----------+--------+-------+--------+--------------------+\n",
      "only showing top 20 rows\n",
      "\n"
     ]
    }
   ],
   "source": [
    "test.show()"
   ]
  },
  {
   "cell_type": "markdown",
   "metadata": {},
   "source": [
    "Print the AUC accuracy of the test data on the best model produced by the grid search."
   ]
  },
  {
   "cell_type": "code",
   "execution_count": 62,
   "metadata": {
    "scrolled": true
   },
   "outputs": [
    {
     "data": {
      "text/plain": [
       "0.8511278195488723"
      ]
     },
     "execution_count": 62,
     "metadata": {},
     "output_type": "execute_result"
    }
   ],
   "source": [
    "evaluator.evaluate(final_model_fitted.transform(test))"
   ]
  },
  {
   "cell_type": "markdown",
   "metadata": {},
   "source": [
    "Print the stages of the best model produced from the grid search."
   ]
  },
  {
   "cell_type": "code",
   "execution_count": 63,
   "metadata": {
    "scrolled": false
   },
   "outputs": [
    {
     "data": {
      "text/plain": [
       "[PipelineModel_e6ab37f365a7,\n",
       " LogisticRegressionModel: uid=LogisticRegression_9478abf634aa, numClasses=2, numFeatures=31]"
      ]
     },
     "execution_count": 63,
     "metadata": {},
     "output_type": "execute_result"
    }
   ],
   "source": [
    "final_model_fitted.bestModel.stages"
   ]
  },
  {
   "cell_type": "markdown",
   "metadata": {},
   "source": [
    "Print the stages of the pipeline in the above list of stages"
   ]
  },
  {
   "cell_type": "code",
   "execution_count": 64,
   "metadata": {},
   "outputs": [
    {
     "data": {
      "text/plain": [
       "[PipelineModel_bc2cf89c3f71,\n",
       " Bucketizer_061f6efd03a2,\n",
       " StringIndexerModel: uid=StringIndexer_79d837a21b1b, handleInvalid=skip,\n",
       " PipelineModel_15dde75ca45c,\n",
       " PipelineModel_bbc3327beb68,\n",
       " PipelineModel_89922de51ed4,\n",
       " VectorAssembler_2882ab66a3d2]"
      ]
     },
     "execution_count": 64,
     "metadata": {},
     "output_type": "execute_result"
    }
   ],
   "source": [
    "final_model_fitted.bestModel.stages[0].stages"
   ]
  },
  {
   "cell_type": "markdown",
   "metadata": {},
   "source": [
    "Get a handle to the bucketizer in the first stage of the best model."
   ]
  },
  {
   "cell_type": "code",
   "execution_count": 65,
   "metadata": {},
   "outputs": [],
   "source": [
    "b = final_model_fitted.bestModel.stages[0].stages[1]"
   ]
  },
  {
   "cell_type": "code",
   "execution_count": 66,
   "metadata": {},
   "outputs": [
    {
     "data": {
      "text/plain": [
       "'fare'"
      ]
     },
     "execution_count": 66,
     "metadata": {},
     "output_type": "execute_result"
    }
   ],
   "source": [
    "b.getInputCol()"
   ]
  },
  {
   "cell_type": "code",
   "execution_count": 67,
   "metadata": {
    "scrolled": true
   },
   "outputs": [
    {
     "data": {
      "text/plain": [
       "[-inf, 8.05, 15.55, 512.3292, inf]"
      ]
     },
     "execution_count": 67,
     "metadata": {},
     "output_type": "execute_result"
    }
   ],
   "source": [
    "b.getSplits()"
   ]
  },
  {
   "cell_type": "markdown",
   "metadata": {},
   "source": [
    "Access and show info about the logistic regression model (last element of the pipeline)."
   ]
  },
  {
   "cell_type": "code",
   "execution_count": 68,
   "metadata": {
    "scrolled": true
   },
   "outputs": [
    {
     "data": {
      "text/plain": [
       "LogisticRegressionModel: uid=LogisticRegression_9478abf634aa, numClasses=2, numFeatures=31"
      ]
     },
     "execution_count": 68,
     "metadata": {},
     "output_type": "execute_result"
    }
   ],
   "source": [
    "final_model_fitted.bestModel.stages[-1]"
   ]
  },
  {
   "cell_type": "code",
   "execution_count": 69,
   "metadata": {
    "scrolled": true
   },
   "outputs": [
    {
     "data": {
      "text/plain": [
       "DenseVector([0.0144, -0.1858, 0.1743, -0.0953, 0.271, 0.913, -1.0597, 0.4917, 0.6811, 1.0243, 0.0, 1.078, -0.0872, -0.2489, 0.5362, 0.8017, 1.4357, 0.0, 0.0, -1.8228, 0.586, 0.0, -0.2347, 0.1999, -0.2484, 0.112, 0.4426, -0.1311, 0.2706, 0.3801, -2.063])"
      ]
     },
     "execution_count": 69,
     "metadata": {},
     "output_type": "execute_result"
    }
   ],
   "source": [
    "final_model_fitted.bestModel.stages[-1].coefficients"
   ]
  },
  {
   "cell_type": "code",
   "execution_count": 70,
   "metadata": {},
   "outputs": [
    {
     "data": {
      "text/plain": [
       "31"
      ]
     },
     "execution_count": 70,
     "metadata": {},
     "output_type": "execute_result"
    }
   ],
   "source": [
    "len(final_model_fitted.bestModel.stages[-1].coefficients)"
   ]
  },
  {
   "cell_type": "code",
   "execution_count": 71,
   "metadata": {},
   "outputs": [],
   "source": [
    "lr_fit = final_model_fitted.bestModel.stages[-1]"
   ]
  },
  {
   "cell_type": "code",
   "execution_count": 72,
   "metadata": {
    "scrolled": true
   },
   "outputs": [
    {
     "data": {
      "text/plain": [
       "'features'"
      ]
     },
     "execution_count": 72,
     "metadata": {},
     "output_type": "execute_result"
    }
   ],
   "source": [
    "lr_fit.summary.featuresCol"
   ]
  },
  {
   "cell_type": "markdown",
   "metadata": {},
   "source": [
    "Access the numerical_features pipeline and print it's input cols."
   ]
  },
  {
   "cell_type": "code",
   "execution_count": 73,
   "metadata": {
    "scrolled": true
   },
   "outputs": [
    {
     "data": {
      "text/plain": [
       "['pclass', 'age', 'sibsp', 'parch']"
      ]
     },
     "execution_count": 73,
     "metadata": {},
     "output_type": "execute_result"
    }
   ],
   "source": [
    "final_model_fitted.bestModel.stages[0].stages[0].stages[0].getInputCols()"
   ]
  },
  {
   "cell_type": "markdown",
   "metadata": {},
   "source": [
    "Show the stages within this stage of the pipeline.  Remember that the final pipeline is made up of sub pipelines.  Here we are accessing the numerocal_features stage which contains the vector assembler and standard scaler."
   ]
  },
  {
   "cell_type": "code",
   "execution_count": 74,
   "metadata": {},
   "outputs": [
    {
     "data": {
      "text/plain": [
       "[VectorAssembler_43b1bbb7bd62,\n",
       " StandardScalerModel: uid=StandardScaler_bc079ccae88b, numFeatures=4, withMean=false, withStd=true]"
      ]
     },
     "execution_count": 74,
     "metadata": {},
     "output_type": "execute_result"
    }
   ],
   "source": [
    "final_model_fitted.bestModel.stages[0].stages[0].stages"
   ]
  },
  {
   "cell_type": "markdown",
   "metadata": {},
   "source": [
    "Access the QuantileDiscreteizer element of the pipeline and print it's input col."
   ]
  },
  {
   "cell_type": "code",
   "execution_count": 75,
   "metadata": {},
   "outputs": [
    {
     "data": {
      "text/plain": [
       "Bucketizer_061f6efd03a2"
      ]
     },
     "execution_count": 75,
     "metadata": {},
     "output_type": "execute_result"
    }
   ],
   "source": [
    "final_model_fitted.bestModel.stages[0].stages[1]"
   ]
  },
  {
   "cell_type": "code",
   "execution_count": 76,
   "metadata": {},
   "outputs": [
    {
     "data": {
      "text/plain": [
       "'fare'"
      ]
     },
     "execution_count": 76,
     "metadata": {},
     "output_type": "execute_result"
    }
   ],
   "source": [
    "final_model_fitted.bestModel.stages[0].stages[1].getInputCol()"
   ]
  },
  {
   "cell_type": "markdown",
   "metadata": {},
   "source": [
    "Access the gender_pipe and print the labels."
   ]
  },
  {
   "cell_type": "code",
   "execution_count": 77,
   "metadata": {},
   "outputs": [],
   "source": [
    "si = final_model_fitted.bestModel.stages[0].stages[2]"
   ]
  },
  {
   "cell_type": "code",
   "execution_count": 78,
   "metadata": {
    "scrolled": true
   },
   "outputs": [
    {
     "data": {
      "text/plain": [
       "['male', 'female']"
      ]
     },
     "execution_count": 78,
     "metadata": {},
     "output_type": "execute_result"
    }
   ],
   "source": [
    "si.labels"
   ]
  },
  {
   "cell_type": "markdown",
   "metadata": {},
   "source": [
    "Access the title_pipe and print it's vocabulary."
   ]
  },
  {
   "cell_type": "code",
   "execution_count": 79,
   "metadata": {
    "scrolled": true
   },
   "outputs": [
    {
     "data": {
      "text/plain": [
       "['mr',\n",
       " 'miss',\n",
       " 'mrs',\n",
       " 'master',\n",
       " 'rev',\n",
       " 'dr',\n",
       " 'col',\n",
       " 'major',\n",
       " 'mlle',\n",
       " 'dona',\n",
       " 'sir',\n",
       " 'don',\n",
       " 'ms',\n",
       " 'capt',\n",
       " 'mme',\n",
       " 'jonkheer']"
      ]
     },
     "execution_count": 79,
     "metadata": {},
     "output_type": "execute_result"
    }
   ],
   "source": [
    "final_model_fitted.bestModel.stages[0].stages[3].stages[1].vocabulary"
   ]
  }
 ],
 "metadata": {
  "kernelspec": {
   "display_name": "Python 3",
   "language": "python",
   "name": "python3"
  },
  "language_info": {
   "codemirror_mode": {
    "name": "ipython",
    "version": 3
   },
   "file_extension": ".py",
   "mimetype": "text/x-python",
   "name": "python",
   "nbconvert_exporter": "python",
   "pygments_lexer": "ipython3",
   "version": "3.8.3"
  },
  "name": "feature_engineering_titanic",
  "notebookId": 4503310255797310
 },
 "nbformat": 4,
 "nbformat_minor": 2
}

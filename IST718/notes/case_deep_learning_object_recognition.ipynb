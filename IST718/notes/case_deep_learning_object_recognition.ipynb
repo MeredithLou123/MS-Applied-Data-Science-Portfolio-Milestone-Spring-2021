{
 "cells": [
  {
   "cell_type": "markdown",
   "metadata": {},
   "source": [
    "# Object recognition with deep learning"
   ]
  },
  {
   "cell_type": "markdown",
   "metadata": {},
   "source": [
    "Load preliminary packages and launch a Spark connection"
   ]
  },
  {
   "cell_type": "code",
   "execution_count": 1,
   "metadata": {},
   "outputs": [],
   "source": [
    "from pyspark.sql import SparkSession\n",
    "from pyspark.ml import feature\n",
    "from pyspark.ml import classification\n",
    "from pyspark.sql import functions as fn\n",
    "from pyspark.ml import Pipeline\n",
    "from pyspark.ml.evaluation import BinaryClassificationEvaluator, \\\n",
    "    MulticlassClassificationEvaluator, \\\n",
    "    RegressionEvaluator\n",
    "from pyspark.ml.tuning import CrossValidator, ParamGridBuilder\n",
    "import matplotlib.pyplot as plt\n",
    "import seaborn as sns\n",
    "import pandas as pd\n",
    "import numpy as np\n",
    "import os\n",
    "from pyspark.sql import SparkSession\n",
    "\n",
    "spark = SparkSession.builder.master(\"local\").appName(\"MLP Demo\").config(\"spark.master\", \"local[*]\").getOrCreate()\n",
    "sc = spark.sparkContext\n",
    "\n",
    "%matplotlib inline"
   ]
  },
  {
   "cell_type": "code",
   "execution_count": 2,
   "metadata": {},
   "outputs": [
    {
     "data": {
      "text/plain": [
       "[('spark.app.name', 'MLP Demo'),\n",
       " ('spark.driver.host', '192.168.1.8'),\n",
       " ('spark.rdd.compress', 'True'),\n",
       " ('spark.app.id', 'local-1602964864956'),\n",
       " ('spark.serializer.objectStreamReset', '100'),\n",
       " ('spark.master', 'local[*]'),\n",
       " ('spark.submit.pyFiles', ''),\n",
       " ('spark.executor.id', 'driver'),\n",
       " ('spark.submit.deployMode', 'client'),\n",
       " ('spark.ui.showConsoleProgress', 'true'),\n",
       " ('spark.driver.port', '50337')]"
      ]
     },
     "execution_count": 2,
     "metadata": {},
     "output_type": "execute_result"
    }
   ],
   "source": [
    "# show the spark configuration params\n",
    "sc.getConf().getAll()"
   ]
  },
  {
   "cell_type": "code",
   "execution_count": 3,
   "metadata": {},
   "outputs": [],
   "source": [
    "# utility function to display the first element of a Spark dataframe as an image\n",
    "def display_first_as_img(df):\n",
    "    plt.imshow(df.first().raw_pixels.toArray().reshape([60,40]), 'gray', aspect=0.5);\n",
    "    display()"
   ]
  },
  {
   "cell_type": "code",
   "execution_count": 4,
   "metadata": {},
   "outputs": [],
   "source": [
    "# Define a function to determine if we are running on data bricks\n",
    "# Return true if running in the data bricks environment, false otherwise\n",
    "import os\n",
    "def is_databricks():\n",
    "    if os.getenv(\"DATABRICKS_RUNTIME_VERSION\") != None:\n",
    "        return True\n",
    "    else:\n",
    "        return False\n",
    "\n",
    "# Define a function to read the data. The full path name is constructed by checking\n",
    "# the runtime environment to determine if it is databricks or a personal computer.\n",
    "# On the local filesystem the data is assumed to be in the same directory as the code.\n",
    "# On databricks, the data path is assumed to be at '/FileStore/tables/' location.\n",
    "# \n",
    "# Parameter(s):\n",
    "#   name: The base name of the file, parquet file or parquet directory\n",
    "# Return Value:\n",
    "#   full_path_name: the full path name of the data based on the runtime environment\n",
    "#\n",
    "# Correct Usage Example (pass ONLY the full file name):\n",
    "#   name_to_load = get_datapath(\"sms_spam.csv\") # correct  \n",
    "#   \n",
    "# Incorrect Usage Examples:\n",
    "#   name_to_load = get_datapath(\"/sms_spam.csv\") # incorrect\n",
    "#   name_to_load = get_datapath(\"sms_spam.csv/\") # incorrect\n",
    "#   name_to_load = get_datapath(\"c:/users/will/data/sms_spam.csv\") incorrect\n",
    "#\n",
    "def get_datapath(name):    \n",
    "    if is_databricks():\n",
    "        full_path_name = \"/FileStore/tables/%s\" % name\n",
    "    else:\n",
    "        full_path_name = name\n",
    "    return full_path_name"
   ]
  },
  {
   "cell_type": "markdown",
   "metadata": {},
   "source": [
    "Define a function to read a parquet file and return a dataframe.  If we are running on databricks, the parquet files will be read from the databricks data directory.  Otherwise, the parquet files are assumed to be in the same directory as this notebook. You may change this function if you store the parquet files elsewhere. Note that parquet files are often represented as directories"
   ]
  },
  {
   "cell_type": "code",
   "execution_count": 5,
   "metadata": {},
   "outputs": [],
   "source": [
    "def read_parquet(parquet_file_name):\n",
    "    return spark.read.parquet(get_datapath(parquet_file_name))"
   ]
  },
  {
   "cell_type": "markdown",
   "metadata": {},
   "source": [
    "# Read the data"
   ]
  },
  {
   "cell_type": "code",
   "execution_count": 6,
   "metadata": {
    "scrolled": false
   },
   "outputs": [],
   "source": [
    "caltech101_df = read_parquet('caltech101_60_40_ubyte.parquet')"
   ]
  },
  {
   "cell_type": "markdown",
   "metadata": {},
   "source": [
    "The dataframe contains images from the [Caltech 101 dataset](http://www.vision.caltech.edu/Image_Datasets/Caltech101). These images have been downsized and transformed to gray scale by the professor. Let's look at the content of the dataset:"
   ]
  },
  {
   "cell_type": "code",
   "execution_count": 7,
   "metadata": {
    "scrolled": true
   },
   "outputs": [
    {
     "name": "stdout",
     "output_type": "stream",
     "text": [
      "root\n",
      " |-- category: string (nullable = true)\n",
      " |-- filename: string (nullable = true)\n",
      " |-- raw_pixels: vector (nullable = true)\n",
      "\n"
     ]
    }
   ],
   "source": [
    "caltech101_df.printSchema()"
   ]
  },
  {
   "cell_type": "markdown",
   "metadata": {},
   "source": [
    "The following cells convert the pixel arrays into dense vectors to be compatible with spark maching learning."
   ]
  },
  {
   "cell_type": "code",
   "execution_count": 8,
   "metadata": {},
   "outputs": [],
   "source": [
    "from pyspark.ml.linalg import DenseVector"
   ]
  },
  {
   "cell_type": "code",
   "execution_count": 9,
   "metadata": {},
   "outputs": [
    {
     "name": "stdout",
     "output_type": "stream",
     "text": [
      "Exception occurred: conversion to dense vectors\n"
     ]
    }
   ],
   "source": [
    "try:\n",
    "    caltech_rdd = caltech101_df.rdd\n",
    "    caltech101_df = caltech_rdd.map(lambda x: (x[0],x[1],DenseVector(x[2]),)).toDF(['category','filename','raw_pixels'])\n",
    "except:\n",
    "    print(\"Exception occurred: conversion to dense vectors\")"
   ]
  },
  {
   "cell_type": "markdown",
   "metadata": {},
   "source": [
    "The column `raw_pixels` contains a flattened version of the 60 by 40 images. The dataset has 101 categories plus 1  distracting category:"
   ]
  },
  {
   "cell_type": "code",
   "execution_count": 10,
   "metadata": {},
   "outputs": [
    {
     "name": "stdout",
     "output_type": "stream",
     "text": [
      "+------------------------+\n",
      "|count(DISTINCT category)|\n",
      "+------------------------+\n",
      "|                     102|\n",
      "+------------------------+\n",
      "\n"
     ]
    }
   ],
   "source": [
    "caltech101_df.select(fn.countDistinct('category')).show()"
   ]
  },
  {
   "cell_type": "markdown",
   "metadata": {},
   "source": [
    "The number of examples for each category is not balanced. For example the _airplanes_ and _motorbikes_ categories have nearly 10 times more examples than kangaroo and starfish:"
   ]
  },
  {
   "cell_type": "code",
   "execution_count": 11,
   "metadata": {},
   "outputs": [
    {
     "name": "stdout",
     "output_type": "stream",
     "text": [
      "+-----------------+--------+\n",
      "|         category|n_images|\n",
      "+-----------------+--------+\n",
      "|        airplanes|     800|\n",
      "|       Motorbikes|     798|\n",
      "|BACKGROUND_Google|     468|\n",
      "|            Faces|     435|\n",
      "|       Faces_easy|     435|\n",
      "|            watch|     239|\n",
      "|         Leopards|     200|\n",
      "|           bonsai|     128|\n",
      "|         car_side|     123|\n",
      "|            ketch|     114|\n",
      "|       chandelier|     107|\n",
      "|        hawksbill|     100|\n",
      "|      grand_piano|      99|\n",
      "|            brain|      98|\n",
      "|        butterfly|      91|\n",
      "|       helicopter|      88|\n",
      "|          menorah|      87|\n",
      "|        trilobite|      86|\n",
      "|         kangaroo|      86|\n",
      "|         starfish|      86|\n",
      "+-----------------+--------+\n",
      "only showing top 20 rows\n",
      "\n"
     ]
    }
   ],
   "source": [
    "caltech101_df.groupby('category').agg(fn.count('*').alias('n_images')).orderBy(fn.desc('n_images')).show()"
   ]
  },
  {
   "cell_type": "markdown",
   "metadata": {},
   "source": [
    "We will use the helper function `display_first_as_img` to display some images on the notebook. This function takes the first row of the dataframe and displays the `raw_pixels` as an image."
   ]
  },
  {
   "cell_type": "code",
   "execution_count": 12,
   "metadata": {},
   "outputs": [
    {
     "data": {
      "image/png": "[encoded data removed]",
      "text/plain": [
       "<Figure size 432x288 with 1 Axes>"
      ]
     },
     "metadata": {
      "needs_background": "light"
     },
     "output_type": "display_data"
    }
   ],
   "source": [
    "display_first_as_img(caltech101_df.where(fn.col('category') == \"Motorbikes\").sample(True, 0.1))"
   ]
  },
  {
   "cell_type": "code",
   "execution_count": 13,
   "metadata": {},
   "outputs": [
    {
     "data": {
      "image/png": "[encoded data removed]",
      "text/plain": [
       "<Figure size 432x288 with 1 Axes>"
      ]
     },
     "metadata": {
      "needs_background": "light"
     },
     "output_type": "display_data"
    }
   ],
   "source": [
    "display_first_as_img(caltech101_df.where(fn.col('category') == \"Faces_easy\").sample(True, 0.5))"
   ]
  },
  {
   "cell_type": "code",
   "execution_count": 14,
   "metadata": {},
   "outputs": [
    {
     "data": {
      "image/png": "[encoded data removed]",
      "text/plain": [
       "<Figure size 432x288 with 1 Axes>"
      ]
     },
     "metadata": {
      "needs_background": "light"
     },
     "output_type": "display_data"
    }
   ],
   "source": [
    "display_first_as_img(caltech101_df.where(fn.col('category') == \"airplanes\").sample(True, 1.))"
   ]
  },
  {
   "cell_type": "markdown",
   "metadata": {
    "collapsed": true
   },
   "source": [
    "## Multilayer perceptron in SparkML"
   ]
  },
  {
   "cell_type": "markdown",
   "metadata": {},
   "source": [
    "In this notebook, we will use the multilayer perceptron as a learning model. Our idea is to take the raw pixels of an image and predict the category of such an image. This is therefore a classification problem. A multilayer perceptron for classification is [available in Spark ML](http://spark.apache.org/docs/latest/ml-classification-regression.html#multilayer-perceptron-classifier)."
   ]
  },
  {
   "cell_type": "markdown",
   "metadata": {},
   "source": [
    "We will focus on only three categories: airplanes, faces (easy), and motorbikes. We will split the dataset into training, validation, and testing as usual:"
   ]
  },
  {
   "cell_type": "code",
   "execution_count": 15,
   "metadata": {},
   "outputs": [],
   "source": [
    "training_df, validation_df, testing_df = caltech101_df.\\\n",
    "    where(fn.col('category').isin(['airplanes', 'Faces_easy', 'Motorbikes'])).\\\n",
    "    randomSplit([0.6, 0.2, 0.2], seed=0)"
   ]
  },
  {
   "cell_type": "code",
   "execution_count": 16,
   "metadata": {},
   "outputs": [
    {
     "data": {
      "text/plain": [
       "[1197, 398, 438]"
      ]
     },
     "execution_count": 16,
     "metadata": {},
     "output_type": "execute_result"
    }
   ],
   "source": [
    "[training_df.count(), validation_df.count(), testing_df.count()]"
   ]
  },
  {
   "cell_type": "markdown",
   "metadata": {},
   "source": [
    "It is important to check the distribution of cateogires in the validation and testing dataframes to see if they have a similar distribution as the training dataset:"
   ]
  },
  {
   "cell_type": "code",
   "execution_count": 17,
   "metadata": {},
   "outputs": [
    {
     "name": "stdout",
     "output_type": "stream",
     "text": [
      "+----------+--------+\n",
      "|  category|count(1)|\n",
      "+----------+--------+\n",
      "|Motorbikes|     154|\n",
      "|Faces_easy|      85|\n",
      "| airplanes|     159|\n",
      "+----------+--------+\n",
      "\n",
      "+----------+--------+\n",
      "|  category|count(1)|\n",
      "+----------+--------+\n",
      "|Motorbikes|     165|\n",
      "|Faces_easy|      93|\n",
      "| airplanes|     180|\n",
      "+----------+--------+\n",
      "\n"
     ]
    }
   ],
   "source": [
    "validation_df.groupBy('category').agg(fn.count('*')).show()\n",
    "testing_df.groupBy('category').agg(fn.count('*')).show()"
   ]
  },
  {
   "cell_type": "markdown",
   "metadata": {},
   "source": [
    "They are similar."
   ]
  },
  {
   "cell_type": "markdown",
   "metadata": {},
   "source": [
    "## Transforming string labels into numerical labels"
   ]
  },
  {
   "cell_type": "markdown",
   "metadata": {},
   "source": [
    "To use a multilayer perceptron, we first need to transform the input data to be fitted by Spark ML. One of the things that Spark ML needs is a numerical representation of the category (`label` as they call it). In our case, we only have a string representation of such category. Luckily, the [`StringIndexer`](http://spark.apache.org/docs/latest/ml-features.html#stringindexer) estimator allows us to do that.\n",
    "\n",
    "We first need to fit the estimator to the data so that it learns the distribution of labels:"
   ]
  },
  {
   "cell_type": "code",
   "execution_count": 18,
   "metadata": {},
   "outputs": [],
   "source": [
    "from pyspark.ml import feature"
   ]
  },
  {
   "cell_type": "code",
   "execution_count": 19,
   "metadata": {},
   "outputs": [],
   "source": [
    "category_to_number_model = feature.StringIndexer(inputCol='category', outputCol='label').\\\n",
    "    fit(training_df)"
   ]
  },
  {
   "cell_type": "markdown",
   "metadata": {},
   "source": [
    "Now, we can see how it transforms the category into a `label`:"
   ]
  },
  {
   "cell_type": "code",
   "execution_count": 20,
   "metadata": {},
   "outputs": [
    {
     "name": "stdout",
     "output_type": "stream",
     "text": [
      "+----------+--------------+--------------------+-----+\n",
      "|  category|      filename|          raw_pixels|label|\n",
      "+----------+--------------+--------------------+-----+\n",
      "|Faces_easy|image_0013.jpg|[254.0,221.0,110....|  2.0|\n",
      "|Faces_easy|image_0034.jpg|[82.0,79.0,80.0,7...|  2.0|\n",
      "|Faces_easy|image_0063.jpg|[115.0,151.0,155....|  2.0|\n",
      "|Faces_easy|image_0077.jpg|[94.0,91.0,93.0,9...|  2.0|\n",
      "|Faces_easy|image_0091.jpg|[125.0,125.0,125....|  2.0|\n",
      "|Faces_easy|image_0099.jpg|[169.0,172.0,172....|  2.0|\n",
      "|Faces_easy|image_0121.jpg|[33.0,20.0,31.0,3...|  2.0|\n",
      "|Faces_easy|image_0132.jpg|[53.0,11.0,32.0,8...|  2.0|\n",
      "|Faces_easy|image_0158.jpg|[113.0,113.0,114....|  2.0|\n",
      "|Faces_easy|image_0198.jpg|[74.0,31.0,44.0,8...|  2.0|\n",
      "|Faces_easy|image_0199.jpg|[154.0,182.0,194....|  2.0|\n",
      "|Faces_easy|image_0211.jpg|[117.0,117.0,121....|  2.0|\n",
      "|Faces_easy|image_0213.jpg|[77.0,121.0,117.0...|  2.0|\n",
      "|Faces_easy|image_0226.jpg|[150.0,161.0,156....|  2.0|\n",
      "|Faces_easy|image_0250.jpg|[167.0,167.0,168....|  2.0|\n",
      "|Faces_easy|image_0338.jpg|[106.0,106.0,105....|  2.0|\n",
      "|Faces_easy|image_0377.jpg|[79.0,82.0,86.0,8...|  2.0|\n",
      "|Faces_easy|image_0407.jpg|[198.0,195.0,123....|  2.0|\n",
      "|Motorbikes|image_0001.jpg|[255.0,255.0,255....|  0.0|\n",
      "|Motorbikes|image_0002.jpg|[255.0,255.0,255....|  0.0|\n",
      "+----------+--------------+--------------------+-----+\n",
      "only showing top 20 rows\n",
      "\n"
     ]
    }
   ],
   "source": [
    "category_to_number_model.transform(training_df).show()"
   ]
  },
  {
   "cell_type": "markdown",
   "metadata": {},
   "source": [
    "There are the categories found the estimator:"
   ]
  },
  {
   "cell_type": "code",
   "execution_count": 21,
   "metadata": {},
   "outputs": [
    {
     "data": {
      "text/plain": [
       "[(0, 'Motorbikes'), (1, 'airplanes'), (2, 'Faces_easy')]"
      ]
     },
     "execution_count": 21,
     "metadata": {},
     "output_type": "execute_result"
    }
   ],
   "source": [
    "list(enumerate(category_to_number_model.labels))"
   ]
  },
  {
   "cell_type": "markdown",
   "metadata": {},
   "source": [
    "## Multi-layer perceptron"
   ]
  },
  {
   "cell_type": "markdown",
   "metadata": {},
   "source": [
    "The multi-layer perceptron will take the inputs as a flattened list of pixels and it will have three output neurons, each representing a label:"
   ]
  },
  {
   "cell_type": "code",
   "execution_count": 22,
   "metadata": {},
   "outputs": [],
   "source": [
    "from pyspark.ml import classification"
   ]
  },
  {
   "cell_type": "code",
   "execution_count": 23,
   "metadata": {},
   "outputs": [],
   "source": [
    "mlp = classification.MultilayerPerceptronClassifier(seed=0).\\\n",
    "    setStepSize(0.2).\\\n",
    "    setMaxIter(200).\\\n",
    "    setFeaturesCol('raw_pixels')"
   ]
  },
  {
   "cell_type": "markdown",
   "metadata": {},
   "source": [
    "The parameter `stepSize` is the learning rate for stochastic gradient descent and we set the maximum number of stochastic gradient descent epochs to 200."
   ]
  },
  {
   "cell_type": "markdown",
   "metadata": {},
   "source": [
    "Now, to define the layers, the multilayer perceptron needs to receive the number of neurons of each intermediate layer (hidden layers).\n",
    "\n",
    "As we saw in class, however, if we don't have hidden layers, then the model is simply logistic regression. In this case, it will be logistic regression for multiple outputs."
   ]
  },
  {
   "cell_type": "markdown",
   "metadata": {},
   "source": [
    "For this case, the number of input neurons will be equal to the number of pixels (60*40) and the output will be equal to the categories in the dataset:"
   ]
  },
  {
   "cell_type": "code",
   "execution_count": 24,
   "metadata": {},
   "outputs": [],
   "source": [
    "mlp = mlp.setLayers([60*40, 3])"
   ]
  },
  {
   "cell_type": "markdown",
   "metadata": {},
   "source": [
    "Now, we are ready to fit this simple multi-class logistic regression to the data. We need to create a pipeline that will take the training data, transform the category column, and apply the perceptron."
   ]
  },
  {
   "cell_type": "code",
   "execution_count": 25,
   "metadata": {},
   "outputs": [],
   "source": [
    "from pyspark.ml import Pipeline"
   ]
  },
  {
   "cell_type": "code",
   "execution_count": 26,
   "metadata": {},
   "outputs": [],
   "source": [
    "mlp_simple_model = Pipeline(stages=[category_to_number_model, mlp]).fit(training_df)"
   ]
  },
  {
   "cell_type": "markdown",
   "metadata": {},
   "source": [
    "Now we can apply the model to the validation data to do some simple tests:"
   ]
  },
  {
   "cell_type": "code",
   "execution_count": 27,
   "metadata": {},
   "outputs": [
    {
     "name": "stdout",
     "output_type": "stream",
     "text": [
      "+----------+--------------+--------------------+-----+--------------------+--------------------+----------+\n",
      "|  category|      filename|          raw_pixels|label|       rawPrediction|         probability|prediction|\n",
      "+----------+--------------+--------------------+-----+--------------------+--------------------+----------+\n",
      "|Faces_easy|image_0007.jpg|[122.0,128.0,131....|  2.0|[-148.68692065394...|[4.85807559905885...|       2.0|\n",
      "|Faces_easy|image_0068.jpg|[158.0,139.0,90.0...|  2.0|[-31.186227992370...|[5.11462854497154...|       2.0|\n",
      "|Faces_easy|image_0112.jpg|[155.0,141.0,142....|  2.0|[125.330378536090...|[1.0,8.4679167997...|       0.0|\n",
      "|Faces_easy|image_0138.jpg|[200.0,201.0,203....|  2.0|[-131.52643675608...|[3.32344249320957...|       2.0|\n",
      "|Faces_easy|image_0246.jpg|[83.0,85.0,89.0,8...|  2.0|[-86.654688966245...|[1.82001739399561...|       2.0|\n",
      "|Faces_easy|image_0426.jpg|[155.0,141.0,151....|  2.0|[38.5981857757254...|[5.79985954933308...|       2.0|\n",
      "|Motorbikes|image_0006.jpg|[255.0,255.0,255....|  0.0|[295.048423614769...|[1.0,6.3595650411...|       0.0|\n",
      "|Motorbikes|image_0009.jpg|[255.0,255.0,255....|  0.0|[345.934817170479...|[1.0,1.7769425960...|       0.0|\n",
      "|Motorbikes|image_0018.jpg|[255.0,255.0,255....|  0.0|[178.351270784384...|[4.03451360085320...|       1.0|\n",
      "|Motorbikes|image_0019.jpg|[255.0,255.0,255....|  0.0|[247.245618833289...|[1.0,1.2796954227...|       0.0|\n",
      "+----------+--------------+--------------------+-----+--------------------+--------------------+----------+\n",
      "only showing top 10 rows\n",
      "\n"
     ]
    }
   ],
   "source": [
    "mlp_simple_model.transform(validation_df).show(10)"
   ]
  },
  {
   "cell_type": "markdown",
   "metadata": {},
   "source": [
    "As we can see, the label and prediction mostly coincides."
   ]
  },
  {
   "cell_type": "markdown",
   "metadata": {},
   "source": [
    "We can be more systematic by computing the accuracy of the prediction:"
   ]
  },
  {
   "cell_type": "code",
   "execution_count": 28,
   "metadata": {
    "scrolled": true
   },
   "outputs": [
    {
     "name": "stdout",
     "output_type": "stream",
     "text": [
      "+------------------+\n",
      "|          accuracy|\n",
      "+------------------+\n",
      "|0.8341708542713567|\n",
      "+------------------+\n",
      "\n"
     ]
    }
   ],
   "source": [
    "mlp_simple_model.transform(validation_df).select(fn.expr('avg(float(label=prediction))').alias('accuracy')).show()"
   ]
  },
  {
   "cell_type": "markdown",
   "metadata": {},
   "source": [
    "Alternatively, we can take advantage of the [evaluators shipped with Spark ML](https://spark.apache.org/docs/latest/mllib-evaluation-metrics.html) as follows:"
   ]
  },
  {
   "cell_type": "code",
   "execution_count": 29,
   "metadata": {},
   "outputs": [],
   "source": [
    "from pyspark.ml import evaluation\n",
    "evaluator = evaluation.MulticlassClassificationEvaluator(metricName=\"accuracy\")"
   ]
  },
  {
   "cell_type": "code",
   "execution_count": 30,
   "metadata": {},
   "outputs": [
    {
     "data": {
      "text/plain": [
       "0.8341708542713567"
      ]
     },
     "execution_count": 30,
     "metadata": {},
     "output_type": "execute_result"
    }
   ],
   "source": [
    "evaluator.evaluate(mlp_simple_model.transform(validation_df))"
   ]
  },
  {
   "cell_type": "markdown",
   "metadata": {},
   "source": [
    "Which gives us the same number as before."
   ]
  },
  {
   "cell_type": "markdown",
   "metadata": {},
   "source": [
    "## More layers (warning: this will take a long time)"
   ]
  },
  {
   "cell_type": "markdown",
   "metadata": {},
   "source": [
    "Now, let's see if we add one hidden layer, which adds non-linearity and interactions to the input. The definition will be similar, but we need to define how many hidden layers and how many neurons per hiden layer. This is a field of its own and we can use cross validation to see which direction is better. However, for now, we will only add one hidden layer, and play with the number of neurons."
   ]
  },
  {
   "cell_type": "markdown",
   "metadata": {},
   "source": [
    "Let's define a Multilayer Perceptron (MLP) with 1 hidden layer with 100 neurons:"
   ]
  },
  {
   "cell_type": "code",
   "execution_count": 31,
   "metadata": {},
   "outputs": [],
   "source": [
    "mlp2 = classification.MultilayerPerceptronClassifier(seed=0).\\\n",
    "    setStepSize(0.2).\\\n",
    "    setMaxIter(200).\\\n",
    "    setFeaturesCol('raw_pixels').\\\n",
    "    setLayers([60*40, 100, 3])"
   ]
  },
  {
   "cell_type": "markdown",
   "metadata": {},
   "source": [
    "Now, __fitting this model will take significantly more time because we are adding 2 orders of magnitude more parameters than the previous model__:"
   ]
  },
  {
   "cell_type": "code",
   "execution_count": 32,
   "metadata": {},
   "outputs": [],
   "source": [
    "mlp2_model = Pipeline(stages=[category_to_number_model, mlp2]).fit(training_df)"
   ]
  },
  {
   "cell_type": "markdown",
   "metadata": {},
   "source": [
    "But the model is significantly more powerful and fits the data better:"
   ]
  },
  {
   "cell_type": "code",
   "execution_count": 33,
   "metadata": {},
   "outputs": [
    {
     "data": {
      "text/plain": [
       "0.9321608040201005"
      ]
     },
     "execution_count": 33,
     "metadata": {},
     "output_type": "execute_result"
    }
   ],
   "source": [
    "evaluator.evaluate(mlp2_model.transform(validation_df))"
   ]
  },
  {
   "cell_type": "markdown",
   "metadata": {},
   "source": [
    "# Complexity of the model with more data (warning: this will take a long time)"
   ]
  },
  {
   "cell_type": "markdown",
   "metadata": {},
   "source": [
    "We will evaluate how the multilayer percetron learns"
   ]
  },
  {
   "cell_type": "markdown",
   "metadata": {},
   "source": [
    "Let's evaluate how the performance changes with 1) the amount of training data and 2) the number of neurons in the hidden layer"
   ]
  },
  {
   "cell_type": "code",
   "execution_count": 34,
   "metadata": {
    "scrolled": true
   },
   "outputs": [
    {
     "name": "stdout",
     "output_type": "stream",
     "text": [
      "Training size:  0.1 ; # Neurons:  1\n",
      "Training size:  0.1 ; # Neurons:  3\n",
      "Training size:  0.1 ; # Neurons:  10\n",
      "Training size:  0.1 ; # Neurons:  20\n",
      "Training size:  0.5 ; # Neurons:  1\n",
      "Training size:  0.5 ; # Neurons:  3\n",
      "Training size:  0.5 ; # Neurons:  10\n",
      "Training size:  0.5 ; # Neurons:  20\n",
      "Training size:  1.0 ; # Neurons:  1\n",
      "Training size:  1.0 ; # Neurons:  3\n",
      "Training size:  1.0 ; # Neurons:  10\n",
      "Training size:  1.0 ; # Neurons:  20\n"
     ]
    }
   ],
   "source": [
    "evaluation_info = []\n",
    "\n",
    "for training_size in [0.1, 0.5, 1.]:\n",
    "    for n_neurons in [1, 3, 10, 20]:\n",
    "        print(\"Training size: \", training_size, \"; # Neurons: \", n_neurons)\n",
    "        training_sample_df = training_df.sample(False, training_size, seed=0)\n",
    "        mlp_template = classification.MultilayerPerceptronClassifier(seed=0).\\\n",
    "            setStepSize(0.2).\\\n",
    "            setMaxIter(200).\\\n",
    "            setFeaturesCol('raw_pixels').\\\n",
    "            setLayers([60*40, n_neurons, 3])\n",
    "        mlp_template_model = Pipeline(stages=[category_to_number_model, mlp_template]).fit(training_sample_df)\n",
    "        # append training performance\n",
    "        evaluation_info.append({'dataset': 'training', \n",
    "                                'training_size': training_size,\n",
    "                                'n_neurons': n_neurons,\n",
    "                                'accuracy': evaluator.evaluate(mlp_template_model.transform(training_sample_df))})\n",
    "        evaluation_info.append({'dataset': 'validation', \n",
    "                                'training_size': training_size,\n",
    "                                'n_neurons': n_neurons,\n",
    "                                'accuracy': evaluator.evaluate(mlp_template_model.transform(validation_df))})"
   ]
  },
  {
   "cell_type": "markdown",
   "metadata": {},
   "source": [
    "We will try to understand some trends based on these numbers and plots:"
   ]
  },
  {
   "cell_type": "code",
   "execution_count": 35,
   "metadata": {},
   "outputs": [],
   "source": [
    "import pandas as pd"
   ]
  },
  {
   "cell_type": "code",
   "execution_count": 36,
   "metadata": {},
   "outputs": [
    {
     "data": {
      "text/html": [
       "<div>\n",
       "<style scoped>\n",
       "    .dataframe tbody tr th:only-of-type {\n",
       "        vertical-align: middle;\n",
       "    }\n",
       "\n",
       "    .dataframe tbody tr th {\n",
       "        vertical-align: top;\n",
       "    }\n",
       "\n",
       "    .dataframe thead th {\n",
       "        text-align: right;\n",
       "    }\n",
       "</style>\n",
       "<table border=\"1\" class=\"dataframe\">\n",
       "  <thead>\n",
       "    <tr style=\"text-align: right;\">\n",
       "      <th></th>\n",
       "      <th>dataset</th>\n",
       "      <th>training_size</th>\n",
       "      <th>n_neurons</th>\n",
       "      <th>accuracy</th>\n",
       "    </tr>\n",
       "  </thead>\n",
       "  <tbody>\n",
       "    <tr>\n",
       "      <th>0</th>\n",
       "      <td>training</td>\n",
       "      <td>0.1</td>\n",
       "      <td>1</td>\n",
       "      <td>0.234848</td>\n",
       "    </tr>\n",
       "    <tr>\n",
       "      <th>1</th>\n",
       "      <td>validation</td>\n",
       "      <td>0.1</td>\n",
       "      <td>1</td>\n",
       "      <td>0.213568</td>\n",
       "    </tr>\n",
       "    <tr>\n",
       "      <th>2</th>\n",
       "      <td>training</td>\n",
       "      <td>0.1</td>\n",
       "      <td>3</td>\n",
       "      <td>0.234848</td>\n",
       "    </tr>\n",
       "    <tr>\n",
       "      <th>3</th>\n",
       "      <td>validation</td>\n",
       "      <td>0.1</td>\n",
       "      <td>3</td>\n",
       "      <td>0.211055</td>\n",
       "    </tr>\n",
       "    <tr>\n",
       "      <th>4</th>\n",
       "      <td>training</td>\n",
       "      <td>0.1</td>\n",
       "      <td>10</td>\n",
       "      <td>0.242424</td>\n",
       "    </tr>\n",
       "    <tr>\n",
       "      <th>5</th>\n",
       "      <td>validation</td>\n",
       "      <td>0.1</td>\n",
       "      <td>10</td>\n",
       "      <td>0.218593</td>\n",
       "    </tr>\n",
       "    <tr>\n",
       "      <th>6</th>\n",
       "      <td>training</td>\n",
       "      <td>0.1</td>\n",
       "      <td>20</td>\n",
       "      <td>0.886364</td>\n",
       "    </tr>\n",
       "    <tr>\n",
       "      <th>7</th>\n",
       "      <td>validation</td>\n",
       "      <td>0.1</td>\n",
       "      <td>20</td>\n",
       "      <td>0.889447</td>\n",
       "    </tr>\n",
       "    <tr>\n",
       "      <th>8</th>\n",
       "      <td>training</td>\n",
       "      <td>0.5</td>\n",
       "      <td>1</td>\n",
       "      <td>0.222772</td>\n",
       "    </tr>\n",
       "    <tr>\n",
       "      <th>9</th>\n",
       "      <td>validation</td>\n",
       "      <td>0.5</td>\n",
       "      <td>1</td>\n",
       "      <td>0.213568</td>\n",
       "    </tr>\n",
       "    <tr>\n",
       "      <th>10</th>\n",
       "      <td>training</td>\n",
       "      <td>0.5</td>\n",
       "      <td>3</td>\n",
       "      <td>0.222772</td>\n",
       "    </tr>\n",
       "    <tr>\n",
       "      <th>11</th>\n",
       "      <td>validation</td>\n",
       "      <td>0.5</td>\n",
       "      <td>3</td>\n",
       "      <td>0.213568</td>\n",
       "    </tr>\n",
       "    <tr>\n",
       "      <th>12</th>\n",
       "      <td>training</td>\n",
       "      <td>0.5</td>\n",
       "      <td>10</td>\n",
       "      <td>0.759076</td>\n",
       "    </tr>\n",
       "    <tr>\n",
       "      <th>13</th>\n",
       "      <td>validation</td>\n",
       "      <td>0.5</td>\n",
       "      <td>10</td>\n",
       "      <td>0.746231</td>\n",
       "    </tr>\n",
       "    <tr>\n",
       "      <th>14</th>\n",
       "      <td>training</td>\n",
       "      <td>0.5</td>\n",
       "      <td>20</td>\n",
       "      <td>0.869637</td>\n",
       "    </tr>\n",
       "    <tr>\n",
       "      <th>15</th>\n",
       "      <td>validation</td>\n",
       "      <td>0.5</td>\n",
       "      <td>20</td>\n",
       "      <td>0.884422</td>\n",
       "    </tr>\n",
       "    <tr>\n",
       "      <th>16</th>\n",
       "      <td>training</td>\n",
       "      <td>1.0</td>\n",
       "      <td>1</td>\n",
       "      <td>0.400167</td>\n",
       "    </tr>\n",
       "    <tr>\n",
       "      <th>17</th>\n",
       "      <td>validation</td>\n",
       "      <td>1.0</td>\n",
       "      <td>1</td>\n",
       "      <td>0.386935</td>\n",
       "    </tr>\n",
       "    <tr>\n",
       "      <th>18</th>\n",
       "      <td>training</td>\n",
       "      <td>1.0</td>\n",
       "      <td>3</td>\n",
       "      <td>0.401003</td>\n",
       "    </tr>\n",
       "    <tr>\n",
       "      <th>19</th>\n",
       "      <td>validation</td>\n",
       "      <td>1.0</td>\n",
       "      <td>3</td>\n",
       "      <td>0.386935</td>\n",
       "    </tr>\n",
       "    <tr>\n",
       "      <th>20</th>\n",
       "      <td>training</td>\n",
       "      <td>1.0</td>\n",
       "      <td>10</td>\n",
       "      <td>0.900585</td>\n",
       "    </tr>\n",
       "    <tr>\n",
       "      <th>21</th>\n",
       "      <td>validation</td>\n",
       "      <td>1.0</td>\n",
       "      <td>10</td>\n",
       "      <td>0.902010</td>\n",
       "    </tr>\n",
       "    <tr>\n",
       "      <th>22</th>\n",
       "      <td>training</td>\n",
       "      <td>1.0</td>\n",
       "      <td>20</td>\n",
       "      <td>0.918964</td>\n",
       "    </tr>\n",
       "    <tr>\n",
       "      <th>23</th>\n",
       "      <td>validation</td>\n",
       "      <td>1.0</td>\n",
       "      <td>20</td>\n",
       "      <td>0.912060</td>\n",
       "    </tr>\n",
       "  </tbody>\n",
       "</table>\n",
       "</div>"
      ],
      "text/plain": [
       "       dataset  training_size  n_neurons  accuracy\n",
       "0     training            0.1          1  0.234848\n",
       "1   validation            0.1          1  0.213568\n",
       "2     training            0.1          3  0.234848\n",
       "3   validation            0.1          3  0.211055\n",
       "4     training            0.1         10  0.242424\n",
       "5   validation            0.1         10  0.218593\n",
       "6     training            0.1         20  0.886364\n",
       "7   validation            0.1         20  0.889447\n",
       "8     training            0.5          1  0.222772\n",
       "9   validation            0.5          1  0.213568\n",
       "10    training            0.5          3  0.222772\n",
       "11  validation            0.5          3  0.213568\n",
       "12    training            0.5         10  0.759076\n",
       "13  validation            0.5         10  0.746231\n",
       "14    training            0.5         20  0.869637\n",
       "15  validation            0.5         20  0.884422\n",
       "16    training            1.0          1  0.400167\n",
       "17  validation            1.0          1  0.386935\n",
       "18    training            1.0          3  0.401003\n",
       "19  validation            1.0          3  0.386935\n",
       "20    training            1.0         10  0.900585\n",
       "21  validation            1.0         10  0.902010\n",
       "22    training            1.0         20  0.918964\n",
       "23  validation            1.0         20  0.912060"
      ]
     },
     "execution_count": 36,
     "metadata": {},
     "output_type": "execute_result"
    }
   ],
   "source": [
    "evaluation_df = pd.DataFrame(evaluation_info)\n",
    "evaluation_df"
   ]
  },
  {
   "cell_type": "code",
   "execution_count": 37,
   "metadata": {},
   "outputs": [
    {
     "data": {
      "image/png": "[encoded data removed]",
      "text/plain": [
       "<Figure size 432x288 with 1 Axes>"
      ]
     },
     "metadata": {
      "needs_background": "light"
     },
     "output_type": "display_data"
    },
    {
     "data": {
      "image/png": "[encoded data removed]",
      "text/plain": [
       "<Figure size 432x288 with 1 Axes>"
      ]
     },
     "metadata": {
      "needs_background": "light"
     },
     "output_type": "display_data"
    },
    {
     "data": {
      "image/png": "[encoded data removed]",
      "text/plain": [
       "<Figure size 432x288 with 1 Axes>"
      ]
     },
     "metadata": {
      "needs_background": "light"
     },
     "output_type": "display_data"
    }
   ],
   "source": [
    "for training_size in sorted(evaluation_df.training_size.unique()):\n",
    "    fig, ax = plt.subplots(1, 1);\n",
    "    evaluation_df.query('training_size == ' + str(training_size)).groupby(['dataset']).\\\n",
    "        plot(x='n_neurons', y='accuracy', ax=ax);\n",
    "    plt.legend(['training', 'validation'], loc='upper left');\n",
    "    plt.title('Training size: ' + str(int(training_size*100)) + '%');\n",
    "    plt.ylabel('accuracy');\n",
    "    plt.ylim([0, 1]);\n",
    "    display()"
   ]
  },
  {
   "cell_type": "markdown",
   "metadata": {},
   "source": [
    "Another way to look at it is by varying the training size"
   ]
  },
  {
   "cell_type": "code",
   "execution_count": 38,
   "metadata": {},
   "outputs": [
    {
     "data": {
      "image/png": "[encoded data removed]",
      "text/plain": [
       "<Figure size 432x288 with 1 Axes>"
      ]
     },
     "metadata": {
      "needs_background": "light"
     },
     "output_type": "display_data"
    },
    {
     "data": {
      "image/png": "[encoded data removed]",
      "text/plain": [
       "<Figure size 432x288 with 1 Axes>"
      ]
     },
     "metadata": {
      "needs_background": "light"
     },
     "output_type": "display_data"
    },
    {
     "data": {
      "image/png": "[encoded data removed]",
      "text/plain": [
       "<Figure size 432x288 with 1 Axes>"
      ]
     },
     "metadata": {
      "needs_background": "light"
     },
     "output_type": "display_data"
    },
    {
     "data": {
      "image/png": "[encoded data removed]",
      "text/plain": [
       "<Figure size 432x288 with 1 Axes>"
      ]
     },
     "metadata": {
      "needs_background": "light"
     },
     "output_type": "display_data"
    }
   ],
   "source": [
    "for n_neurons in sorted(evaluation_df.n_neurons.unique()):\n",
    "    fig, ax = plt.subplots(1, 1);\n",
    "    evaluation_df.query('n_neurons == ' + str(n_neurons)).groupby(['dataset']).\\\n",
    "        plot(x='training_size', y='accuracy', ax=ax);\n",
    "    plt.legend(['training', 'validation'], loc='upper left');\n",
    "    plt.title('# Neurons: ' + str(n_neurons));\n",
    "    plt.ylabel('accuracy');\n",
    "    plt.ylim([0, 1]);\n",
    "    display()"
   ]
  },
  {
   "cell_type": "markdown",
   "metadata": {},
   "source": [
    "# Predicting"
   ]
  },
  {
   "cell_type": "markdown",
   "metadata": {},
   "source": [
    "We will load an image from the Internet.  Note that the following cell uses the python \"Pillow\" package.  You can install Pillow in Anaconda with the following command:  conda install pillow <br><br>\n",
    "If you are running on databricks, execute the cell below to install Pillow on your databricks instance."
   ]
  },
  {
   "cell_type": "code",
   "execution_count": 39,
   "metadata": {},
   "outputs": [],
   "source": [
    "# only execute this cell on databricks\n",
    "if is_databricks():\n",
    "    dbutils.library.installPyPI\n",
    "    dbutils.library.installPyPI('pillow')\n",
    "    dbutils.library.list()"
   ]
  },
  {
   "cell_type": "code",
   "execution_count": 40,
   "metadata": {},
   "outputs": [],
   "source": [
    "from PIL import Image\n",
    "import requests\n",
    "from io import BytesIO\n",
    "# response = requests.get(\"http://images.all-free-download.com/images/graphicthumb/airplane_311727.jpg\")\n",
    "# response = requests.get(\"https://www.tugraz.at/uploads/pics/Alexander_by_Kanizaj_02.jpg\")\n",
    "\n",
    "# face\n",
    "response = requests.get(\"https://www.sciencenewsforstudents.org/sites/default/files/scald-image/350_.inline2_beauty_w.png\")\n",
    "# motorbujke\n",
    "response = requests.get(\"https://www.cubomoto.co.uk/img-src/_themev2-cubomoto-1613/theme/panel-1.png\")\n",
    "img = Image.open(BytesIO(response.content))"
   ]
  },
  {
   "cell_type": "markdown",
   "metadata": {},
   "source": [
    "We need to transform this image to grayscale and shrink it to the size that the neural network expects. We will use these steps using several packages:"
   ]
  },
  {
   "cell_type": "markdown",
   "metadata": {},
   "source": [
    "Transform to grayscale:"
   ]
  },
  {
   "cell_type": "code",
   "execution_count": 41,
   "metadata": {},
   "outputs": [
    {
     "data": {
      "image/png": "[encoded data removed]",
      "text/plain": [
       "<Figure size 432x288 with 1 Axes>"
      ]
     },
     "metadata": {
      "needs_background": "light"
     },
     "output_type": "display_data"
    }
   ],
   "source": [
    "# convert to grayscale\n",
    "gray_img = np.array(img.convert('P'))\n",
    "plt.imshow(255-gray_img, 'gray');"
   ]
  },
  {
   "cell_type": "markdown",
   "metadata": {},
   "source": [
    "Shrink it to 60 by 40:"
   ]
  },
  {
   "cell_type": "code",
   "execution_count": 42,
   "metadata": {
    "scrolled": true
   },
   "outputs": [
    {
     "data": {
      "image/png": "[encoded data removed]",
      "text/plain": [
       "<Figure size 432x288 with 1 Axes>"
      ]
     },
     "metadata": {
      "needs_background": "light"
     },
     "output_type": "display_data"
    }
   ],
   "source": [
    "shrinked_img = np.array((img.resize([40, 60]).convert('P')))\n",
    "plt.imshow(shrinked_img, 'gray')\n",
    "display()"
   ]
  },
  {
   "cell_type": "markdown",
   "metadata": {},
   "source": [
    "Flatten it and put it in a Spark dataframe:"
   ]
  },
  {
   "cell_type": "code",
   "execution_count": 43,
   "metadata": {},
   "outputs": [],
   "source": [
    "from pyspark.ml.linalg import Vectors\n",
    "new_image = shrinked_img.flatten()\n",
    "new_img_df = spark.createDataFrame([[Vectors.dense(new_image)]], ['raw_pixels'])"
   ]
  },
  {
   "cell_type": "code",
   "execution_count": 44,
   "metadata": {
    "scrolled": false
   },
   "outputs": [
    {
     "data": {
      "image/png": "[encoded data removed]",
      "text/plain": [
       "<Figure size 432x288 with 1 Axes>"
      ]
     },
     "metadata": {
      "needs_background": "light"
     },
     "output_type": "display_data"
    }
   ],
   "source": [
    "display_first_as_img(new_img_df)"
   ]
  },
  {
   "cell_type": "markdown",
   "metadata": {},
   "source": [
    "Now `new_img_df` has one image"
   ]
  },
  {
   "cell_type": "code",
   "execution_count": 45,
   "metadata": {
    "scrolled": true
   },
   "outputs": [
    {
     "data": {
      "text/html": [
       "<div>\n",
       "<style scoped>\n",
       "    .dataframe tbody tr th:only-of-type {\n",
       "        vertical-align: middle;\n",
       "    }\n",
       "\n",
       "    .dataframe tbody tr th {\n",
       "        vertical-align: top;\n",
       "    }\n",
       "\n",
       "    .dataframe thead th {\n",
       "        text-align: right;\n",
       "    }\n",
       "</style>\n",
       "<table border=\"1\" class=\"dataframe\">\n",
       "  <thead>\n",
       "    <tr style=\"text-align: right;\">\n",
       "      <th></th>\n",
       "      <th>raw_pixels</th>\n",
       "    </tr>\n",
       "  </thead>\n",
       "  <tbody>\n",
       "    <tr>\n",
       "      <th>0</th>\n",
       "      <td>[0.0, 0.0, 0.0, 0.0, 0.0, 0.0, 0.0, 0.0, 0.0, ...</td>\n",
       "    </tr>\n",
       "  </tbody>\n",
       "</table>\n",
       "</div>"
      ],
      "text/plain": [
       "                                          raw_pixels\n",
       "0  [0.0, 0.0, 0.0, 0.0, 0.0, 0.0, 0.0, 0.0, 0.0, ..."
      ]
     },
     "execution_count": 45,
     "metadata": {},
     "output_type": "execute_result"
    }
   ],
   "source": [
    "new_img_df.toPandas().head()"
   ]
  },
  {
   "cell_type": "markdown",
   "metadata": {},
   "source": [
    "Use the `mlp2_model` and `new_img_df` to predict the category that the new image belongs to."
   ]
  },
  {
   "cell_type": "code",
   "execution_count": 46,
   "metadata": {
    "scrolled": true
   },
   "outputs": [
    {
     "name": "stdout",
     "output_type": "stream",
     "text": [
      "+--------------------+--------------------+--------------------+----------+\n",
      "|          raw_pixels|       rawPrediction|         probability|prediction|\n",
      "+--------------------+--------------------+--------------------+----------+\n",
      "|[0.0,0.0,0.0,0.0,...|[-59.346148860299...|[7.66125810719375...|       2.0|\n",
      "+--------------------+--------------------+--------------------+----------+\n",
      "\n"
     ]
    }
   ],
   "source": [
    "mlp_simple_model.transform(new_img_df).show()"
   ]
  },
  {
   "cell_type": "markdown",
   "metadata": {},
   "source": [
    "*END OF CODE*"
   ]
  }
 ],
 "metadata": {
  "anaconda-cloud": {},
  "kernelspec": {
   "display_name": "Python 3",
   "language": "python",
   "name": "python3"
  },
  "language_info": {
   "codemirror_mode": {
    "name": "ipython",
    "version": 3
   },
   "file_extension": ".py",
   "mimetype": "text/x-python",
   "name": "python",
   "nbconvert_exporter": "python",
   "pygments_lexer": "ipython3",
   "version": "3.8.3"
  },
  "name": "lab_object-recognition-deep-learning",
  "notebookId": 4044428636126148
 },
 "nbformat": 4,
 "nbformat_minor": 1
}

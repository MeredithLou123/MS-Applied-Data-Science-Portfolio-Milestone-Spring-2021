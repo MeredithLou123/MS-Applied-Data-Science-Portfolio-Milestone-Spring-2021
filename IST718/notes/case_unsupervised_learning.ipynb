{
 "cells": [
  {
   "cell_type": "markdown",
   "metadata": {},
   "source": [
    "# Unsupervised learning"
   ]
  },
  {
   "cell_type": "code",
   "execution_count": 1,
   "metadata": {},
   "outputs": [],
   "source": [
    "from pyspark.ml import feature\n",
    "from pyspark.ml import clustering\n",
    "from pyspark.ml import Pipeline\n",
    "from pyspark.sql import functions as fn\n",
    "import numpy as np\n",
    "from pyspark.sql import SparkSession\n",
    "from pyspark.ml import feature, regression, evaluation, Pipeline\n",
    "from pyspark.sql import functions as fn, Row\n",
    "import matplotlib.pyplot as plt\n",
    "import pandas as pd\n",
    "\n",
    "# seting master(\"local[*]\") enables multicore processing on all available logical cores on your machine\n",
    "spark = SparkSession.builder.master(\"local[*]\").getOrCreate()\n",
    "sc = spark.sparkContext"
   ]
  },
  {
   "cell_type": "code",
   "execution_count": 2,
   "metadata": {},
   "outputs": [],
   "source": [
    "import os\n",
    "\n",
    "# Define a function to determine if we are running on data bricks\n",
    "# Return true if running in the data bricks environment, false otherwise\n",
    "def is_databricks():\n",
    "    # get the databricks runtime version\n",
    "    db_env = os.getenv(\"DATABRICKS_RUNTIME_VERSION\")\n",
    "    \n",
    "    # if running on data bricks\n",
    "    if db_env != None:\n",
    "        return True\n",
    "    else:\n",
    "        return False"
   ]
  },
  {
   "cell_type": "markdown",
   "metadata": {},
   "source": [
    "# PCA example with diabetes dataset"
   ]
  },
  {
   "cell_type": "code",
   "execution_count": 3,
   "metadata": {},
   "outputs": [],
   "source": [
    "# we will use pandas to display the data nicely\n",
    "datasource = pd.read_csv('http://www4.stat.ncsu.edu/~boos/var.select/diabetes.tab.txt', delimiter='\\t')\n",
    "datasource.columns = ['age', 'sex', 'bmi', 'map', 'tc', 'ldl', 'hdl', 'tch', 'ltg', 'glu', 'disease_progression']\n",
    "diabetes_df = spark.createDataFrame(datasource)"
   ]
  },
  {
   "cell_type": "code",
   "execution_count": 4,
   "metadata": {},
   "outputs": [
    {
     "name": "stdout",
     "output_type": "stream",
     "text": [
      "datasource: (442, 11)\n"
     ]
    },
    {
     "data": {
      "text/plain": [
       "DataFrame[age: bigint, sex: bigint, bmi: double, map: double, tc: bigint, ldl: double, hdl: double, tch: double, ltg: double, glu: bigint, disease_progression: bigint]"
      ]
     },
     "execution_count": 4,
     "metadata": {},
     "output_type": "execute_result"
    }
   ],
   "source": [
    "print(\"datasource:\", datasource.shape)\n",
    "diabetes_df"
   ]
  },
  {
   "cell_type": "markdown",
   "metadata": {},
   "source": [
    "## Build a pipeline"
   ]
  },
  {
   "cell_type": "code",
   "execution_count": 5,
   "metadata": {},
   "outputs": [],
   "source": [
    "pipeline_diabetes = Pipeline(stages=[\n",
    "    # vector assembler concatenates the specified input cols into vectors in the specified output col \n",
    "    feature.VectorAssembler(inputCols=['age', 'sex', 'bmi', 'map', 'tc', 'ldl', 'hdl', 'tch', 'ltg', 'glu'],\n",
    "                           outputCol='features'),\n",
    "    feature.StandardScaler(withMean=True,\n",
    "                           inputCol='features', outputCol='zfeatures'),\n",
    "    # build a principal component object with the same number of components as features (10)\n",
    "    feature.PCA(k=10, inputCol='zfeatures', outputCol='scores')\n",
    "]).fit(diabetes_df)"
   ]
  },
  {
   "cell_type": "markdown",
   "metadata": {},
   "source": [
    "The `loadings` array are the loadings in ISLR equation 10.1.  The loadings are the coefficients in equation 10.1 that are used to perform the linear combination of column vectors in the dataset.  The linear combination of column vectors forms a principal component where each principal component captures a degree of variance in the data.  The first principal component captures the highest degree of variance, the 2nd principal component captures the next highest degree of variance in an orthoganal direction, etc.  <br> <br>\n",
    "Each loading vector represents a specific direction in the data set's p dimensional space (where p is the number of features) which captures variance.  The direction of the loading vector associated with the first principal component represents the direction which captures the most variance in the data.  The loading vector associated with the 2nd principal component is orthogonal to the 1st component and captures the 2nd most varinace, etc."
   ]
  },
  {
   "cell_type": "code",
   "execution_count": 6,
   "metadata": {},
   "outputs": [],
   "source": [
    "loadings = pipeline_diabetes.stages[-1].pc.toArray()"
   ]
  },
  {
   "cell_type": "code",
   "execution_count": 7,
   "metadata": {
    "scrolled": true
   },
   "outputs": [
    {
     "name": "stdout",
     "output_type": "stream",
     "text": [
      "loadings.shape (10, 10)\n",
      "[-0.2164309  -0.18696688 -0.30316216 -0.27173773 -0.34325511 -0.35186068\n",
      "  0.28243681 -0.4288337  -0.37861802 -0.32218296]\n"
     ]
    }
   ],
   "source": [
    "print(\"loadings.shape\", loadings.shape)\n",
    "\n",
    "# print the first column of the loading matrix - the first principal component\n",
    "print(loadings[:,0])"
   ]
  },
  {
   "cell_type": "markdown",
   "metadata": {},
   "source": [
    "The proportion of explained variance associated with each of the principal components is found in the explainedVariance attribute of the PCA object.  The explained variance shows the percentage of variance captured by each of the principal components.  For example, the first component captures 40.24 percent of the total variance in the diabetes dataset.  The 2nd component captures 14.92 percent of the total variance."
   ]
  },
  {
   "cell_type": "code",
   "execution_count": 8,
   "metadata": {
    "scrolled": true
   },
   "outputs": [
    {
     "data": {
      "text/plain": [
       "DenseVector([0.4024, 0.1492, 0.1206, 0.0955, 0.0662, 0.0603, 0.0537, 0.0434, 0.0078, 0.0009])"
      ]
     },
     "execution_count": 8,
     "metadata": {},
     "output_type": "execute_result"
    }
   ],
   "source": [
    "pipeline_diabetes.stages[-1].explainedVariance"
   ]
  },
  {
   "cell_type": "markdown",
   "metadata": {},
   "source": [
    "Note that if we sum the explained variance vector that it sums to 1 (or 100%, or very very close to 100%)."
   ]
  },
  {
   "cell_type": "code",
   "execution_count": 9,
   "metadata": {},
   "outputs": [
    {
     "data": {
      "text/plain": [
       "1.0000000000000002"
      ]
     },
     "execution_count": 9,
     "metadata": {},
     "output_type": "execute_result"
    }
   ],
   "source": [
    "sum(pipeline_diabetes.stages[-1].explainedVariance)"
   ]
  },
  {
   "cell_type": "markdown",
   "metadata": {},
   "source": [
    "The cell below generates a \"scree polot\" using the explainedVariance attribute.  See ISLR figure 10.4."
   ]
  },
  {
   "cell_type": "code",
   "execution_count": 10,
   "metadata": {},
   "outputs": [
    {
     "data": {
      "text/plain": [
       "Text(0, 0.5, 'Proportion Variance Explained')"
      ]
     },
     "execution_count": 10,
     "metadata": {},
     "output_type": "execute_result"
    },
    {
     "data": {
      "image/png": "[encoded data removed]",
      "text/plain": [
       "<Figure size 432x288 with 1 Axes>"
      ]
     },
     "metadata": {
      "needs_background": "light"
     },
     "output_type": "display_data"
    }
   ],
   "source": [
    "plt.figure()\n",
    "explained_var = pipeline_diabetes.stages[-1].explainedVariance\n",
    "plt.plot(np.arange(1, len(explained_var)+1), explained_var)\n",
    "plt.title(\"Diabetes Dataset Scree Plot\")\n",
    "plt.xlabel(\"Principal Component\")\n",
    "plt.ylabel(\"Proportion Variance Explained\")"
   ]
  },
  {
   "cell_type": "markdown",
   "metadata": {},
   "source": [
    "Here is another way of looking at the explained variance - plot the cumulative variance vs. the principal components.  See ISLR figure 10.4."
   ]
  },
  {
   "cell_type": "code",
   "execution_count": 11,
   "metadata": {},
   "outputs": [
    {
     "data": {
      "text/plain": [
       "Text(0, 0.5, 'Cumulative Sum of Variance Explained')"
      ]
     },
     "execution_count": 11,
     "metadata": {},
     "output_type": "execute_result"
    },
    {
     "data": {
      "image/png": "[encoded data removed]",
      "text/plain": [
       "<Figure size 432x288 with 1 Axes>"
      ]
     },
     "metadata": {
      "needs_background": "light"
     },
     "output_type": "display_data"
    }
   ],
   "source": [
    "cum_sum = np.cumsum(explained_var)\n",
    "plt.figure()\n",
    "plt.plot(np.arange(1, len(explained_var)+1), cum_sum)\n",
    "plt.title(\"Diabetes Dataset Cumulative Sum of Variance Explained\")\n",
    "plt.xlabel(\"Cumulative Components\")\n",
    "plt.ylabel(\"Cumulative Sum of Variance Explained\")"
   ]
  },
  {
   "cell_type": "markdown",
   "metadata": {},
   "source": [
    "Execute the diabetes pipeline and show the first row of standardized features and PCA scores.  The \"scores\" are like ISLR equation 10.2.  The scores are produced by projecting the data observations onto the loading vectors.  A projection is performed by multiplying the loading vector by the data observations which \"projects\" the observation in the direction of the loading vector."
   ]
  },
  {
   "cell_type": "code",
   "execution_count": 12,
   "metadata": {},
   "outputs": [
    {
     "name": "stdout",
     "output_type": "stream",
     "text": [
      "[Row(zfeatures=DenseVector([0.7996, 1.0643, 1.2956, 0.4593, -0.9287, -0.7312, -0.9114, -0.0544, 0.4181, -0.3706]), scores=DenseVector([-0.5865, -1.9446, 0.5885, 0.0827, 0.2564, -1.0101, -0.1796, 0.7566, 0.1809, 0.0489]))]\n"
     ]
    },
    {
     "data": {
      "text/html": [
       "<div>\n",
       "<style scoped>\n",
       "    .dataframe tbody tr th:only-of-type {\n",
       "        vertical-align: middle;\n",
       "    }\n",
       "\n",
       "    .dataframe tbody tr th {\n",
       "        vertical-align: top;\n",
       "    }\n",
       "\n",
       "    .dataframe thead th {\n",
       "        text-align: right;\n",
       "    }\n",
       "</style>\n",
       "<table border=\"1\" class=\"dataframe\">\n",
       "  <thead>\n",
       "    <tr style=\"text-align: right;\">\n",
       "      <th></th>\n",
       "      <th>age</th>\n",
       "      <th>sex</th>\n",
       "      <th>bmi</th>\n",
       "      <th>map</th>\n",
       "      <th>tc</th>\n",
       "      <th>ldl</th>\n",
       "      <th>hdl</th>\n",
       "      <th>tch</th>\n",
       "      <th>ltg</th>\n",
       "      <th>glu</th>\n",
       "      <th>disease_progression</th>\n",
       "      <th>features</th>\n",
       "      <th>zfeatures</th>\n",
       "      <th>scores</th>\n",
       "    </tr>\n",
       "  </thead>\n",
       "  <tbody>\n",
       "    <tr>\n",
       "      <th>0</th>\n",
       "      <td>59</td>\n",
       "      <td>2</td>\n",
       "      <td>32.1</td>\n",
       "      <td>101.0</td>\n",
       "      <td>157</td>\n",
       "      <td>93.2</td>\n",
       "      <td>38.0</td>\n",
       "      <td>4.0</td>\n",
       "      <td>4.8598</td>\n",
       "      <td>87</td>\n",
       "      <td>151</td>\n",
       "      <td>[59.0, 2.0, 32.1, 101.0, 157.0, 93.2, 38.0, 4....</td>\n",
       "      <td>[0.7995940351018831, 1.0642824935361896, 1.295...</td>\n",
       "      <td>[-0.5865345004627985, -1.9446286568771196, 0.5...</td>\n",
       "    </tr>\n",
       "    <tr>\n",
       "      <th>1</th>\n",
       "      <td>48</td>\n",
       "      <td>1</td>\n",
       "      <td>21.6</td>\n",
       "      <td>87.0</td>\n",
       "      <td>183</td>\n",
       "      <td>103.2</td>\n",
       "      <td>70.0</td>\n",
       "      <td>3.0</td>\n",
       "      <td>3.8918</td>\n",
       "      <td>69</td>\n",
       "      <td>75</td>\n",
       "      <td>[48.0, 1.0, 21.6, 87.0, 183.0, 103.2, 70.0, 3....</td>\n",
       "      <td>[-0.03952234708360268, -0.9374743666467716, -1...</td>\n",
       "      <td>[2.82842037257402, 1.3705287266001898, 0.02789...</td>\n",
       "    </tr>\n",
       "    <tr>\n",
       "      <th>2</th>\n",
       "      <td>72</td>\n",
       "      <td>2</td>\n",
       "      <td>30.5</td>\n",
       "      <td>93.0</td>\n",
       "      <td>156</td>\n",
       "      <td>93.6</td>\n",
       "      <td>41.0</td>\n",
       "      <td>4.0</td>\n",
       "      <td>4.6728</td>\n",
       "      <td>85</td>\n",
       "      <td>141</td>\n",
       "      <td>[72.0, 2.0, 30.5, 93.0, 156.0, 93.6, 41.0, 4.0...</td>\n",
       "      <td>[1.7912770322301845, 1.0642824935361896, 0.933...</td>\n",
       "      <td>[-0.27182053685504176, -1.633050761291527, 0.7...</td>\n",
       "    </tr>\n",
       "    <tr>\n",
       "      <th>3</th>\n",
       "      <td>24</td>\n",
       "      <td>1</td>\n",
       "      <td>25.3</td>\n",
       "      <td>84.0</td>\n",
       "      <td>198</td>\n",
       "      <td>131.4</td>\n",
       "      <td>40.0</td>\n",
       "      <td>5.0</td>\n",
       "      <td>4.8903</td>\n",
       "      <td>89</td>\n",
       "      <td>206</td>\n",
       "      <td>[24.0, 1.0, 25.3, 84.0, 198.0, 131.4, 40.0, 5....</td>\n",
       "      <td>[-1.8703217263973897, -0.9374743666467716, -0....</td>\n",
       "      <td>[-0.04922536519991158, 0.3818453424540627, -2....</td>\n",
       "    </tr>\n",
       "    <tr>\n",
       "      <th>4</th>\n",
       "      <td>50</td>\n",
       "      <td>1</td>\n",
       "      <td>23.0</td>\n",
       "      <td>101.0</td>\n",
       "      <td>192</td>\n",
       "      <td>125.4</td>\n",
       "      <td>52.0</td>\n",
       "      <td>4.0</td>\n",
       "      <td>4.2905</td>\n",
       "      <td>80</td>\n",
       "      <td>135</td>\n",
       "      <td>[50.0, 1.0, 23.0, 101.0, 192.0, 125.4, 52.0, 4...</td>\n",
       "      <td>[0.11304426785921291, -0.9374743666467716, -0....</td>\n",
       "      <td>[0.7555651902794562, 0.8110412184450319, -0.05...</td>\n",
       "    </tr>\n",
       "  </tbody>\n",
       "</table>\n",
       "</div>"
      ],
      "text/plain": [
       "   age  sex   bmi    map   tc    ldl   hdl  tch     ltg  glu  \\\n",
       "0   59    2  32.1  101.0  157   93.2  38.0  4.0  4.8598   87   \n",
       "1   48    1  21.6   87.0  183  103.2  70.0  3.0  3.8918   69   \n",
       "2   72    2  30.5   93.0  156   93.6  41.0  4.0  4.6728   85   \n",
       "3   24    1  25.3   84.0  198  131.4  40.0  5.0  4.8903   89   \n",
       "4   50    1  23.0  101.0  192  125.4  52.0  4.0  4.2905   80   \n",
       "\n",
       "   disease_progression                                           features  \\\n",
       "0                  151  [59.0, 2.0, 32.1, 101.0, 157.0, 93.2, 38.0, 4....   \n",
       "1                   75  [48.0, 1.0, 21.6, 87.0, 183.0, 103.2, 70.0, 3....   \n",
       "2                  141  [72.0, 2.0, 30.5, 93.0, 156.0, 93.6, 41.0, 4.0...   \n",
       "3                  206  [24.0, 1.0, 25.3, 84.0, 198.0, 131.4, 40.0, 5....   \n",
       "4                  135  [50.0, 1.0, 23.0, 101.0, 192.0, 125.4, 52.0, 4...   \n",
       "\n",
       "                                           zfeatures  \\\n",
       "0  [0.7995940351018831, 1.0642824935361896, 1.295...   \n",
       "1  [-0.03952234708360268, -0.9374743666467716, -1...   \n",
       "2  [1.7912770322301845, 1.0642824935361896, 0.933...   \n",
       "3  [-1.8703217263973897, -0.9374743666467716, -0....   \n",
       "4  [0.11304426785921291, -0.9374743666467716, -0....   \n",
       "\n",
       "                                              scores  \n",
       "0  [-0.5865345004627985, -1.9446286568771196, 0.5...  \n",
       "1  [2.82842037257402, 1.3705287266001898, 0.02789...  \n",
       "2  [-0.27182053685504176, -1.633050761291527, 0.7...  \n",
       "3  [-0.04922536519991158, 0.3818453424540627, -2....  \n",
       "4  [0.7555651902794562, 0.8110412184450319, -0.05...  "
      ]
     },
     "metadata": {},
     "output_type": "display_data"
    }
   ],
   "source": [
    "first_row_scores = pipeline_diabetes.transform(diabetes_df).select('zfeatures', 'scores').take(1)\n",
    "print(first_row_scores)\n",
    "display(pipeline_diabetes.transform(diabetes_df).toPandas().head())"
   ]
  },
  {
   "cell_type": "markdown",
   "metadata": {},
   "source": [
    "Assign the first row of standardized features to the variable `z`."
   ]
  },
  {
   "cell_type": "code",
   "execution_count": 13,
   "metadata": {},
   "outputs": [
    {
     "name": "stdout",
     "output_type": "stream",
     "text": [
      "[0.7995940351018831,1.0642824935361896,1.295620336892354,0.4593200957947729,-0.9286934669133675,-0.731236019591678,-0.9114177586925227,-0.05443750196184952,0.41805720957971554,-0.37056862835588317]\n"
     ]
    }
   ],
   "source": [
    "z = pipeline_diabetes.transform(diabetes_df).select('zfeatures', 'scores').first()['zfeatures']\n",
    "print(z)"
   ]
  },
  {
   "cell_type": "markdown",
   "metadata": {},
   "source": [
    "The purpose of the next cell is to show that if we multiply the first loading vector by the first observation row we will obtain the same score which we extracted from the pipeline above.  The matrix dot product of a standardized observation with the loadings vector projects the observation onto the loading vector (see equation 10.2 in ISLR).  Also note that the resulting score is equal to the score for the first row computed by the pipeline above."
   ]
  },
  {
   "cell_type": "code",
   "execution_count": 14,
   "metadata": {},
   "outputs": [
    {
     "name": "stdout",
     "output_type": "stream",
     "text": [
      "-0.5865345004627985\n"
     ]
    }
   ],
   "source": [
    "scores = z.dot(loadings[:,0])\n",
    "print(scores)"
   ]
  },
  {
   "cell_type": "markdown",
   "metadata": {},
   "source": [
    "In the next cell, we multiply the first observation row of the data by all of the loading vectors producing a score for each of the 10 principal components.  Note that the resulting array of scores is equal to the scores for the first row computed by the pipeline above."
   ]
  },
  {
   "cell_type": "code",
   "execution_count": 15,
   "metadata": {},
   "outputs": [
    {
     "name": "stdout",
     "output_type": "stream",
     "text": [
      "[-0.5865345  -1.94462866  0.58853858  0.08272184  0.25638973 -1.01006557\n",
      " -0.17964046  0.75657348  0.18087041  0.04889746]\n"
     ]
    }
   ],
   "source": [
    "scores = z.dot(loadings)\n",
    "print(scores)"
   ]
  },
  {
   "cell_type": "markdown",
   "metadata": {},
   "source": [
    "The purpose of the following cell is the show that we can do an inverse transform which transforms the scores from the projection space back to the original data.  The The dot product of the loading vectors with the scores produces an approximation of the original observation row held in variable `z` (see equation 10.5 in ISLR).  The more loadings we use for the inverse transform, the closer the approximation to the original observation row.  The cell below computes the original data using from between 4 and 10 loading vectors.  Notice how the resulting transformed data gets closer to the original data held in 'z' above as the number of loading vectors increases."
   ]
  },
  {
   "cell_type": "code",
   "execution_count": 16,
   "metadata": {},
   "outputs": [
    {
     "name": "stdout",
     "output_type": "stream",
     "text": [
      "all loadings shape: (10, 10)\n",
      "all scores shape: (10,)\n",
      "\n",
      "num_loadings: 4\n",
      "loadings shape: (10, 4)\n",
      "scores shape: (4,)\n",
      "inverse xform shape: (10,)\n",
      "inverse_xform: [ 0.36604541  0.85469882  0.53897377  0.73214235 -0.94769719 -0.82510297\n",
      " -0.91662271  0.15941187  0.28857141  0.50989389]\n",
      "\n",
      "num_loadings: 5\n",
      "loadings shape: (10, 5)\n",
      "scores shape: (5,)\n",
      "inverse xform shape: (10,)\n",
      "inverse_xform: [ 0.54215325  0.75894648  0.5058142   0.60731275 -0.98081759 -0.85502933\n",
      " -0.97943845  0.19624122  0.32745007  0.50183738]\n",
      "\n",
      "num_loadings: 6\n",
      "loadings shape: (10, 6)\n",
      "scores shape: (6,)\n",
      "inverse xform shape: (10,)\n",
      "inverse_xform: [ 0.77024155  0.71682127  0.91302331  0.88284174 -0.98627012 -0.72042643\n",
      " -1.08686299  0.23051869  0.14692016 -0.31133202]\n",
      "\n",
      "num_loadings: 7\n",
      "loadings shape: (10, 7)\n",
      "scores shape: (7,)\n",
      "inverse xform shape: (10,)\n",
      "inverse_xform: [ 0.78991759  0.72896895  1.00641379  0.82523917 -0.99949948 -0.6790131\n",
      " -1.08550707  0.21772038  0.03063855 -0.24715244]\n",
      "\n",
      "num_loadings: 8\n",
      "loadings shape: (10, 8)\n",
      "scores shape: (8,)\n",
      "inverse xform shape: (10,)\n",
      "inverse_xform: [ 0.80121861  1.06408061  1.30368837  0.46408114 -0.90159063 -0.82376452\n",
      " -0.83989672  0.08109313  0.37085778 -0.37320364]\n",
      "\n",
      "num_loadings: 9\n",
      "loadings shape: (10, 9)\n",
      "scores shape: (9,)\n",
      "inverse xform shape: (10,)\n",
      "inverse_xform: [ 0.79975356  1.06446148  1.29602361  0.45916254 -0.89398727 -0.75877482\n",
      " -0.92694003 -0.05886742  0.40512549 -0.37044098]\n",
      "\n",
      "num_loadings: 10\n",
      "loadings shape: (10, 10)\n",
      "scores shape: (10,)\n",
      "inverse xform shape: (10,)\n",
      "inverse_xform: [ 0.79959404  1.06428249  1.29562034  0.4593201  -0.92869347 -0.73123602\n",
      " -0.91141776 -0.0544375   0.41805721 -0.37056863]\n",
      "\n"
     ]
    }
   ],
   "source": [
    "print(\"all loadings shape:\", loadings.shape)\n",
    "print(\"all scores shape:\", scores.shape)\n",
    "print()\n",
    "\n",
    "num_loadings = loadings.shape[1]\n",
    "for i in np.arange(4, num_loadings+1):\n",
    "    print(\"num_loadings:\", i)\n",
    "    print(\"loadings shape:\", loadings[:,:i].shape)\n",
    "    print(\"scores shape:\", scores[:i].shape)\n",
    "    inverse_xform = loadings[:,:i].dot(scores[:i])\n",
    "    print(\"inverse xform shape:\", inverse_xform.shape)\n",
    "    print(\"inverse_xform:\", inverse_xform)\n",
    "    print()"
   ]
  },
  {
   "cell_type": "markdown",
   "metadata": {},
   "source": [
    "The cell below prints the first row scores from the original transormation we did above.  Note that the zfeatures in the cell below match very closely with the inverse_xform in the cell above using 10 loadings.  Also note that as the number of loading vectors used in the inverse xform in the call above reduces from 10, the inverse xform becomes less and less accurate."
   ]
  },
  {
   "cell_type": "code",
   "execution_count": 17,
   "metadata": {},
   "outputs": [
    {
     "name": "stdout",
     "output_type": "stream",
     "text": [
      "first_row_scores from above:\n",
      " [Row(zfeatures=DenseVector([0.7996, 1.0643, 1.2956, 0.4593, -0.9287, -0.7312, -0.9114, -0.0544, 0.4181, -0.3706]), scores=DenseVector([-0.5865, -1.9446, 0.5885, 0.0827, 0.2564, -1.0101, -0.1796, 0.7566, 0.1809, 0.0489]))]\n"
     ]
    }
   ],
   "source": [
    "print(\"first_row_scores from above:\\n\", first_row_scores)"
   ]
  },
  {
   "cell_type": "markdown",
   "metadata": {},
   "source": [
    "Note that the sum of the squares of the loading columns equal 1 as per ISLR equation 10.3."
   ]
  },
  {
   "cell_type": "code",
   "execution_count": 18,
   "metadata": {},
   "outputs": [
    {
     "data": {
      "text/plain": [
       "array([1., 1., 1., 1., 1., 1., 1., 1., 1., 1.])"
      ]
     },
     "execution_count": 18,
     "metadata": {},
     "output_type": "execute_result"
    }
   ],
   "source": [
    "np.sum(np.square(loadings), axis=0)"
   ]
  },
  {
   "cell_type": "markdown",
   "metadata": {},
   "source": [
    "## Examine the principal components"
   ]
  },
  {
   "cell_type": "code",
   "execution_count": 19,
   "metadata": {
    "scrolled": true
   },
   "outputs": [
    {
     "data": {
      "text/plain": [
       "[('age', -0.2164308964889745, 0.044367212393232686),\n",
       " ('sex', -0.18696687908602572, -0.38654720385516295),\n",
       " ('bmi', -0.3031621631388775, -0.15628128429437488),\n",
       " ('map', -0.27173773048440564, -0.13826600177995552),\n",
       " ('tc', -0.34325510837891776, 0.5730269088415818),\n",
       " ('ldl', -0.3518606824177599, 0.45594185472401416),\n",
       " ('hdl', 0.2824368131997489, 0.5062390689011842),\n",
       " ('tch', -0.4288336980133311, -0.06818071604588931),\n",
       " ('ltg', -0.3786180159906992, -0.02618699595415274),\n",
       " ('glu', -0.3221829550849704, -0.08494884202867321)]"
      ]
     },
     "execution_count": 19,
     "metadata": {},
     "output_type": "execute_result"
    }
   ],
   "source": [
    "list(zip(['age', 'sex', 'bmi', 'map', 'tc', 'ldl', 'hdl', 'tch', 'ltg', 'glu'], \n",
    "         loadings[:, 0], loadings[:, 1]))"
   ]
  },
  {
   "cell_type": "markdown",
   "metadata": {},
   "source": [
    "# Analysis of IM courses"
   ]
  },
  {
   "cell_type": "code",
   "execution_count": 20,
   "metadata": {},
   "outputs": [],
   "source": [
    "im_courses = spark.createDataFrame(pd.read_csv('https://github.com/daniel-acuna/data_science_programs/raw/master/data/im_masters_ischool.csv'))"
   ]
  },
  {
   "cell_type": "code",
   "execution_count": 21,
   "metadata": {},
   "outputs": [
    {
     "name": "stdout",
     "output_type": "stream",
     "text": [
      "+-------+----+-------+--------------------+--------------------+\n",
      "| course|core|credits|               title|         description|\n",
      "+-------+----+-------+--------------------+--------------------+\n",
      "|IST 553|  IM|      3|Information Archi...|Building and mana...|\n",
      "|IST 558| CAS|      3|Technologies in W...|Concepts and tech...|\n",
      "|IST 565| CAS|      3|         Data Mining|Introduction to d...|\n",
      "|IST 601|  IM|      3|Information and I...|A broad overview ...|\n",
      "|IST 614|  IM|      3|Management Princi...|Basic ideas, conc...|\n",
      "|IST 617|  IM|      3|Motivational Aspe...|Theories of motiv...|\n",
      "|IST 618|  IM|      3|  Information Policy|Public policy iss...|\n",
      "|IST 619|  IM|      3|Applied Economics...|Economic principl...|\n",
      "|IST 621|  IM|      3|Introduction to I...|Overview of gener...|\n",
      "|IST 631|  IM|      3|Theory of Classif...|Classification is...|\n",
      "|IST 639|  IM|      3|Enterprise Techno...|Coverage of manag...|\n",
      "|IST 641|  IM|      3|   User-Based Design|System design bas...|\n",
      "|IST 645|  IM|      3|Managing Informat...|Project managemen...|\n",
      "|IST 649|  IM|      3|Human Interaction...|Human performance...|\n",
      "|IST 653|  IM|      3|Telecommunication...|A survey of telec...|\n",
      "|IST 654|  IM|      3|Information Syste...|Concepts and meth...|\n",
      "|IST 656|  IM|      3|Telecommunication...|Hardware and soft...|\n",
      "|IST 657| CAS|      3|Basics of Informa...|Design, developme...|\n",
      "|IST 659|  IM|      3|Data Administrati...|Definition, devel...|\n",
      "|IST 662|  IM|      3|Instructional Str...|Introduction to i...|\n",
      "+-------+----+-------+--------------------+--------------------+\n",
      "only showing top 20 rows\n",
      "\n"
     ]
    }
   ],
   "source": [
    "im_courses.show()"
   ]
  },
  {
   "cell_type": "markdown",
   "metadata": {},
   "source": [
    "## Let's transform course descriptions into vectors"
   ]
  },
  {
   "cell_type": "code",
   "execution_count": 22,
   "metadata": {},
   "outputs": [],
   "source": [
    "tokenizer = feature.RegexTokenizer(minTokenLength=2)\\\n",
    "  .setGaps(False)\\\n",
    "  .setPattern(\"\\\\p{L}+\")\\\n",
    "  .setInputCol(\"description\")\\\n",
    "  .setOutputCol(\"words\")\n",
    "\n",
    "import requests\n",
    "stop_words = requests.get('http://ir.dcs.gla.ac.uk/resources/linguistic_utils/stop_words').text.split()\n",
    "\n",
    "sw_filter = feature.StopWordsRemover()\\\n",
    "  .setStopWords(stop_words)\\\n",
    "  .setCaseSensitive(False)\\\n",
    "  .setInputCol(\"words\")\\\n",
    "  .setOutputCol(\"filtered\")\n",
    "\n",
    "cv = feature.CountVectorizer(inputCol='filtered', outputCol='tf')\n",
    "idf = feature.IDF(inputCol='tf', outputCol='tfidf')"
   ]
  },
  {
   "cell_type": "markdown",
   "metadata": {},
   "source": [
    "Let's create a pipeline that transforms descriptions into TFIDF:"
   ]
  },
  {
   "cell_type": "code",
   "execution_count": 23,
   "metadata": {},
   "outputs": [],
   "source": [
    "tfidf = Pipeline(stages=[tokenizer, sw_filter, cv, idf]).fit(im_courses)"
   ]
  },
  {
   "cell_type": "code",
   "execution_count": 24,
   "metadata": {},
   "outputs": [
    {
     "data": {
      "text/html": [
       "<div>\n",
       "<style scoped>\n",
       "    .dataframe tbody tr th:only-of-type {\n",
       "        vertical-align: middle;\n",
       "    }\n",
       "\n",
       "    .dataframe tbody tr th {\n",
       "        vertical-align: top;\n",
       "    }\n",
       "\n",
       "    .dataframe thead th {\n",
       "        text-align: right;\n",
       "    }\n",
       "</style>\n",
       "<table border=\"1\" class=\"dataframe\">\n",
       "  <thead>\n",
       "    <tr style=\"text-align: right;\">\n",
       "      <th></th>\n",
       "      <th>course</th>\n",
       "      <th>core</th>\n",
       "      <th>credits</th>\n",
       "      <th>title</th>\n",
       "      <th>description</th>\n",
       "      <th>words</th>\n",
       "      <th>filtered</th>\n",
       "      <th>tf</th>\n",
       "      <th>tfidf</th>\n",
       "    </tr>\n",
       "  </thead>\n",
       "  <tbody>\n",
       "    <tr>\n",
       "      <th>0</th>\n",
       "      <td>IST 553</td>\n",
       "      <td>IM</td>\n",
       "      <td>3</td>\n",
       "      <td>Information Architecture for Internet Services</td>\n",
       "      <td>Building and management of Internet informatio...</td>\n",
       "      <td>[building, and, management, of, internet, info...</td>\n",
       "      <td>[building, management, internet, information, ...</td>\n",
       "      <td>(4.0, 2.0, 0.0, 0.0, 0.0, 0.0, 0.0, 0.0, 0.0, ...</td>\n",
       "      <td>(1.8572224325243911, 1.444269434866395, 0.0, 0...</td>\n",
       "    </tr>\n",
       "    <tr>\n",
       "      <th>1</th>\n",
       "      <td>IST 558</td>\n",
       "      <td>CAS</td>\n",
       "      <td>3</td>\n",
       "      <td>Technologies in Web Content Management</td>\n",
       "      <td>Concepts and techniques in web content represe...</td>\n",
       "      <td>[concepts, and, techniques, in, web, content, ...</td>\n",
       "      <td>[concepts, techniques, web, content, represent...</td>\n",
       "      <td>(0.0, 1.0, 1.0, 1.0, 1.0, 0.0, 0.0, 0.0, 0.0, ...</td>\n",
       "      <td>(0.0, 0.7221347174331975, 1.252762968495368, 1...</td>\n",
       "    </tr>\n",
       "    <tr>\n",
       "      <th>2</th>\n",
       "      <td>IST 565</td>\n",
       "      <td>CAS</td>\n",
       "      <td>3</td>\n",
       "      <td>Data Mining</td>\n",
       "      <td>Introduction to data mining techniques, famili...</td>\n",
       "      <td>[introduction, to, data, mining, techniques, f...</td>\n",
       "      <td>[introduction, data, mining, techniques, famil...</td>\n",
       "      <td>(0.0, 0.0, 1.0, 1.0, 0.0, 0.0, 0.0, 0.0, 1.0, ...</td>\n",
       "      <td>(0.0, 0.0, 1.252762968495368, 1.07044141170141...</td>\n",
       "    </tr>\n",
       "    <tr>\n",
       "      <th>3</th>\n",
       "      <td>IST 601</td>\n",
       "      <td>IM</td>\n",
       "      <td>3</td>\n",
       "      <td>Information and Information Environments</td>\n",
       "      <td>A broad overview of the field and an orientati...</td>\n",
       "      <td>[broad, overview, of, the, field, and, an, ori...</td>\n",
       "      <td>[broad, overview, field, orientation, school, ...</td>\n",
       "      <td>(2.0, 0.0, 0.0, 0.0, 0.0, 0.0, 0.0, 0.0, 0.0, ...</td>\n",
       "      <td>(0.9286112162621956, 0.0, 0.0, 0.0, 0.0, 0.0, ...</td>\n",
       "    </tr>\n",
       "    <tr>\n",
       "      <th>4</th>\n",
       "      <td>IST 614</td>\n",
       "      <td>IM</td>\n",
       "      <td>3</td>\n",
       "      <td>Management Principles for Information Professi...</td>\n",
       "      <td>Basic ideas, concepts and perspectives of mana...</td>\n",
       "      <td>[basic, ideas, concepts, and, perspectives, of...</td>\n",
       "      <td>[basic, ideas, concepts, perspectives, managem...</td>\n",
       "      <td>(1.0, 1.0, 0.0, 1.0, 1.0, 0.0, 1.0, 0.0, 0.0, ...</td>\n",
       "      <td>(0.4643056081310978, 0.7221347174331975, 0.0, ...</td>\n",
       "    </tr>\n",
       "  </tbody>\n",
       "</table>\n",
       "</div>"
      ],
      "text/plain": [
       "    course core  credits                                              title  \\\n",
       "0  IST 553   IM        3     Information Architecture for Internet Services   \n",
       "1  IST 558  CAS        3             Technologies in Web Content Management   \n",
       "2  IST 565  CAS        3                                        Data Mining   \n",
       "3  IST 601   IM        3           Information and Information Environments   \n",
       "4  IST 614   IM        3  Management Principles for Information Professi...   \n",
       "\n",
       "                                         description  \\\n",
       "0  Building and management of Internet informatio...   \n",
       "1  Concepts and techniques in web content represe...   \n",
       "2  Introduction to data mining techniques, famili...   \n",
       "3  A broad overview of the field and an orientati...   \n",
       "4  Basic ideas, concepts and perspectives of mana...   \n",
       "\n",
       "                                               words  \\\n",
       "0  [building, and, management, of, internet, info...   \n",
       "1  [concepts, and, techniques, in, web, content, ...   \n",
       "2  [introduction, to, data, mining, techniques, f...   \n",
       "3  [broad, overview, of, the, field, and, an, ori...   \n",
       "4  [basic, ideas, concepts, and, perspectives, of...   \n",
       "\n",
       "                                            filtered  \\\n",
       "0  [building, management, internet, information, ...   \n",
       "1  [concepts, techniques, web, content, represent...   \n",
       "2  [introduction, data, mining, techniques, famil...   \n",
       "3  [broad, overview, field, orientation, school, ...   \n",
       "4  [basic, ideas, concepts, perspectives, managem...   \n",
       "\n",
       "                                                  tf  \\\n",
       "0  (4.0, 2.0, 0.0, 0.0, 0.0, 0.0, 0.0, 0.0, 0.0, ...   \n",
       "1  (0.0, 1.0, 1.0, 1.0, 1.0, 0.0, 0.0, 0.0, 0.0, ...   \n",
       "2  (0.0, 0.0, 1.0, 1.0, 0.0, 0.0, 0.0, 0.0, 1.0, ...   \n",
       "3  (2.0, 0.0, 0.0, 0.0, 0.0, 0.0, 0.0, 0.0, 0.0, ...   \n",
       "4  (1.0, 1.0, 0.0, 1.0, 1.0, 0.0, 1.0, 0.0, 0.0, ...   \n",
       "\n",
       "                                               tfidf  \n",
       "0  (1.8572224325243911, 1.444269434866395, 0.0, 0...  \n",
       "1  (0.0, 0.7221347174331975, 1.252762968495368, 1...  \n",
       "2  (0.0, 0.0, 1.252762968495368, 1.07044141170141...  \n",
       "3  (0.9286112162621956, 0.0, 0.0, 0.0, 0.0, 0.0, ...  \n",
       "4  (0.4643056081310978, 0.7221347174331975, 0.0, ...  "
      ]
     },
     "execution_count": 24,
     "metadata": {},
     "output_type": "execute_result"
    }
   ],
   "source": [
    "tfidf.transform(im_courses).toPandas().head()"
   ]
  },
  {
   "cell_type": "markdown",
   "metadata": {},
   "source": [
    "The cell below defines a standard scaler object which will be used to standardize data before applying unsupervised learning algorithms."
   ]
  },
  {
   "cell_type": "code",
   "execution_count": 25,
   "metadata": {},
   "outputs": [],
   "source": [
    "# standardize features\n",
    "center = feature.StandardScaler(withMean=True, withStd=False, inputCol='tfidf', outputCol='centered_tfidf')"
   ]
  },
  {
   "cell_type": "markdown",
   "metadata": {},
   "source": [
    "In the cell below we define a PCA transformer.  PCA needs the number of principal components to be learned `k`:"
   ]
  },
  {
   "cell_type": "code",
   "execution_count": 26,
   "metadata": {},
   "outputs": [],
   "source": [
    "pca = feature.PCA(k=10, inputCol='centered_tfidf', outputCol='scores')"
   ]
  },
  {
   "cell_type": "markdown",
   "metadata": {},
   "source": [
    "For KMeans, we need to provide the number of clusters, but we will normalize the vectors so that they have unit length.  The cell below defines a `Normalizer` transformer which will normalize vectors to unit length."
   ]
  },
  {
   "cell_type": "code",
   "execution_count": 1,
   "metadata": {},
   "outputs": [
    {
     "ename": "NameError",
     "evalue": "name 'feature' is not defined",
     "output_type": "error",
     "traceback": [
      "\u001b[1;31m---------------------------------------------------------------------------\u001b[0m",
      "\u001b[1;31mNameError\u001b[0m                                 Traceback (most recent call last)",
      "\u001b[1;32m<ipython-input-1-8a64863d3a71>\u001b[0m in \u001b[0;36m<module>\u001b[1;34m\u001b[0m\n\u001b[1;32m----> 1\u001b[1;33m \u001b[0mnorm\u001b[0m \u001b[1;33m=\u001b[0m \u001b[0mfeature\u001b[0m\u001b[1;33m.\u001b[0m\u001b[0mNormalizer\u001b[0m\u001b[1;33m(\u001b[0m\u001b[0minputCol\u001b[0m\u001b[1;33m=\u001b[0m\u001b[1;34m\"centered_tfidf\"\u001b[0m\u001b[1;33m,\u001b[0m \u001b[0moutputCol\u001b[0m\u001b[1;33m=\u001b[0m\u001b[1;34m\"norm_tfidf\"\u001b[0m\u001b[1;33m,\u001b[0m \u001b[0mp\u001b[0m\u001b[1;33m=\u001b[0m\u001b[1;36m2.0\u001b[0m\u001b[1;33m)\u001b[0m\u001b[1;33m\u001b[0m\u001b[1;33m\u001b[0m\u001b[0m\n\u001b[0m",
      "\u001b[1;31mNameError\u001b[0m: name 'feature' is not defined"
     ]
    }
   ],
   "source": [
    "norm = feature.Normalizer(inputCol=\"centered_tfidf\", outputCol=\"norm_tfidf\", p=2.0)"
   ]
  },
  {
   "cell_type": "markdown",
   "metadata": {},
   "source": [
    "The cell below defines a Spark KMeans clustering object."
   ]
  },
  {
   "cell_type": "code",
   "execution_count": 28,
   "metadata": {},
   "outputs": [],
   "source": [
    "kmeans = clustering.KMeans(k=5, featuresCol='norm_tfidf', predictionCol='kmeans_feat')"
   ]
  },
  {
   "cell_type": "code",
   "execution_count": 29,
   "metadata": {},
   "outputs": [],
   "source": [
    "pipeline = Pipeline(stages=[tokenizer, sw_filter, cv, idf, center, norm, kmeans, pca])"
   ]
  },
  {
   "cell_type": "code",
   "execution_count": 30,
   "metadata": {},
   "outputs": [],
   "source": [
    "pipeline_model = pipeline.fit(im_courses)"
   ]
  },
  {
   "cell_type": "code",
   "execution_count": 31,
   "metadata": {},
   "outputs": [
    {
     "data": {
      "text/html": [
       "<div>\n",
       "<style scoped>\n",
       "    .dataframe tbody tr th:only-of-type {\n",
       "        vertical-align: middle;\n",
       "    }\n",
       "\n",
       "    .dataframe tbody tr th {\n",
       "        vertical-align: top;\n",
       "    }\n",
       "\n",
       "    .dataframe thead th {\n",
       "        text-align: right;\n",
       "    }\n",
       "</style>\n",
       "<table border=\"1\" class=\"dataframe\">\n",
       "  <thead>\n",
       "    <tr style=\"text-align: right;\">\n",
       "      <th></th>\n",
       "      <th>course</th>\n",
       "      <th>core</th>\n",
       "      <th>credits</th>\n",
       "      <th>title</th>\n",
       "      <th>description</th>\n",
       "      <th>words</th>\n",
       "      <th>filtered</th>\n",
       "      <th>tf</th>\n",
       "      <th>tfidf</th>\n",
       "      <th>centered_tfidf</th>\n",
       "      <th>norm_tfidf</th>\n",
       "      <th>kmeans_feat</th>\n",
       "      <th>scores</th>\n",
       "    </tr>\n",
       "  </thead>\n",
       "  <tbody>\n",
       "    <tr>\n",
       "      <th>0</th>\n",
       "      <td>IST 553</td>\n",
       "      <td>IM</td>\n",
       "      <td>3</td>\n",
       "      <td>Information Arch...</td>\n",
       "      <td>Building and man...</td>\n",
       "      <td>[building, and, ...</td>\n",
       "      <td>[building, manag...</td>\n",
       "      <td>(4.0, 2.0, 0.0, ...</td>\n",
       "      <td>(1.8572224325243...</td>\n",
       "      <td>[1.3929168243932...</td>\n",
       "      <td>[0.1387283323560...</td>\n",
       "      <td>0</td>\n",
       "      <td>[-0.675221334034...</td>\n",
       "    </tr>\n",
       "    <tr>\n",
       "      <th>1</th>\n",
       "      <td>IST 558</td>\n",
       "      <td>CAS</td>\n",
       "      <td>3</td>\n",
       "      <td>Technologies in ...</td>\n",
       "      <td>Concepts and tec...</td>\n",
       "      <td>[concepts, and, ...</td>\n",
       "      <td>[concepts, techn...</td>\n",
       "      <td>(0.0, 1.0, 1.0, ...</td>\n",
       "      <td>(0.0, 0.72213471...</td>\n",
       "      <td>[-0.464305608131...</td>\n",
       "      <td>[-0.036605311117...</td>\n",
       "      <td>4</td>\n",
       "      <td>[-1.056009219723...</td>\n",
       "    </tr>\n",
       "    <tr>\n",
       "      <th>2</th>\n",
       "      <td>IST 565</td>\n",
       "      <td>CAS</td>\n",
       "      <td>3</td>\n",
       "      <td>Data Mining</td>\n",
       "      <td>Introduction to ...</td>\n",
       "      <td>[introduction, t...</td>\n",
       "      <td>[introduction, d...</td>\n",
       "      <td>(0.0, 0.0, 1.0, ...</td>\n",
       "      <td>(0.0, 0.0, 1.252...</td>\n",
       "      <td>[-0.464305608131...</td>\n",
       "      <td>[-0.039878871417...</td>\n",
       "      <td>3</td>\n",
       "      <td>[0.1961821942253...</td>\n",
       "    </tr>\n",
       "    <tr>\n",
       "      <th>3</th>\n",
       "      <td>IST 601</td>\n",
       "      <td>IM</td>\n",
       "      <td>3</td>\n",
       "      <td>Information and ...</td>\n",
       "      <td>A broad overview...</td>\n",
       "      <td>[broad, overview...</td>\n",
       "      <td>[broad, overview...</td>\n",
       "      <td>(2.0, 0.0, 0.0, ...</td>\n",
       "      <td>(0.9286112162621...</td>\n",
       "      <td>[0.4643056081310...</td>\n",
       "      <td>[0.0515310315160...</td>\n",
       "      <td>0</td>\n",
       "      <td>[-0.682379184988...</td>\n",
       "    </tr>\n",
       "    <tr>\n",
       "      <th>4</th>\n",
       "      <td>IST 614</td>\n",
       "      <td>IM</td>\n",
       "      <td>3</td>\n",
       "      <td>Management Princ...</td>\n",
       "      <td>Basic ideas, con...</td>\n",
       "      <td>[basic, ideas, c...</td>\n",
       "      <td>[basic, ideas, c...</td>\n",
       "      <td>(1.0, 1.0, 0.0, ...</td>\n",
       "      <td>(0.4643056081310...</td>\n",
       "      <td>[0.0, 0.31858884...</td>\n",
       "      <td>[0.0, 0.02722674...</td>\n",
       "      <td>4</td>\n",
       "      <td>[-1.350818475779...</td>\n",
       "    </tr>\n",
       "  </tbody>\n",
       "</table>\n",
       "</div>"
      ],
      "text/plain": [
       "    course core  credits                title          description  \\\n",
       "0  IST 553   IM        3  Information Arch...  Building and man...   \n",
       "1  IST 558  CAS        3  Technologies in ...  Concepts and tec...   \n",
       "2  IST 565  CAS        3          Data Mining  Introduction to ...   \n",
       "3  IST 601   IM        3  Information and ...  A broad overview...   \n",
       "4  IST 614   IM        3  Management Princ...  Basic ideas, con...   \n",
       "\n",
       "                 words             filtered                   tf  \\\n",
       "0  [building, and, ...  [building, manag...  (4.0, 2.0, 0.0, ...   \n",
       "1  [concepts, and, ...  [concepts, techn...  (0.0, 1.0, 1.0, ...   \n",
       "2  [introduction, t...  [introduction, d...  (0.0, 0.0, 1.0, ...   \n",
       "3  [broad, overview...  [broad, overview...  (2.0, 0.0, 0.0, ...   \n",
       "4  [basic, ideas, c...  [basic, ideas, c...  (1.0, 1.0, 0.0, ...   \n",
       "\n",
       "                 tfidf       centered_tfidf           norm_tfidf  kmeans_feat  \\\n",
       "0  (1.8572224325243...  [1.3929168243932...  [0.1387283323560...            0   \n",
       "1  (0.0, 0.72213471...  [-0.464305608131...  [-0.036605311117...            4   \n",
       "2  (0.0, 0.0, 1.252...  [-0.464305608131...  [-0.039878871417...            3   \n",
       "3  (0.9286112162621...  [0.4643056081310...  [0.0515310315160...            0   \n",
       "4  (0.4643056081310...  [0.0, 0.31858884...  [0.0, 0.02722674...            4   \n",
       "\n",
       "                scores  \n",
       "0  [-0.675221334034...  \n",
       "1  [-1.056009219723...  \n",
       "2  [0.1961821942253...  \n",
       "3  [-0.682379184988...  \n",
       "4  [-1.350818475779...  "
      ]
     },
     "metadata": {},
     "output_type": "display_data"
    }
   ],
   "source": [
    "if is_databricks():\n",
    "  pipeline_model.transform(im_courses).show(5, 10)\n",
    "else:\n",
    "  pd.set_option('display.max_colwidth', 20)\n",
    "  display(pipeline_model.transform(im_courses).toPandas().head())"
   ]
  },
  {
   "cell_type": "code",
   "execution_count": 32,
   "metadata": {},
   "outputs": [
    {
     "name": "stdout",
     "output_type": "stream",
     "text": [
      "+------------------------------------------------------------+\n",
      "|                                                       tfidf|\n",
      "+------------------------------------------------------------+\n",
      "|(357,[0,1,9,12,14,18,36,38,50,94,117,128,244,296,327],[1....|\n",
      "|(357,[1,2,3,4,14,20,23,25,38,57,84,86,105,123,163,165,192...|\n",
      "|(357,[2,3,8,24,28,30,82,98,115,131,135,148,150,164,171,25...|\n",
      "|(357,[0,26,44,55,131,135,160,177,181,188,345],[0.92861121...|\n",
      "|(357,[0,1,3,4,6,14,18,27,57,60,61,70,118,138,156,170,220,...|\n",
      "+------------------------------------------------------------+\n",
      "only showing top 5 rows\n",
      "\n"
     ]
    }
   ],
   "source": [
    "tfidf.transform(im_courses).select('tfidf').show(5, 60)"
   ]
  },
  {
   "cell_type": "code",
   "execution_count": 33,
   "metadata": {},
   "outputs": [
    {
     "name": "stdout",
     "output_type": "stream",
     "text": [
      "+-------+------------------------------------------------------------+-----------+\n",
      "| course|                                                      scores|kmeans_feat|\n",
      "+-------+------------------------------------------------------------+-----------+\n",
      "|IST 553|[-0.675221334034272,0.5785435268413789,-0.073391305874536...|          0|\n",
      "|IST 558|[-1.0560092197231878,0.16173650604118453,1.76742656265283...|          4|\n",
      "|IST 565|[0.1961821942253031,0.39547586667094387,0.745455205235985...|          3|\n",
      "|IST 601|[-0.6823791849888847,0.07779816332342937,0.24294081466326...|          0|\n",
      "|IST 614|[-1.350818475779723,0.27863650811256746,0.042220706401102...|          4|\n",
      "+-------+------------------------------------------------------------+-----------+\n",
      "only showing top 5 rows\n",
      "\n"
     ]
    }
   ],
   "source": [
    "# note: scores col is the PCA scores\n",
    "pipeline_model.transform(im_courses).select('course', 'scores', 'kmeans_feat').show(5, 60)"
   ]
  },
  {
   "cell_type": "markdown",
   "metadata": {},
   "source": [
    "# Interpretation\n",
    "\n",
    "We can examine the PCA loadings:"
   ]
  },
  {
   "cell_type": "code",
   "execution_count": 34,
   "metadata": {},
   "outputs": [],
   "source": [
    "import pandas as pd"
   ]
  },
  {
   "cell_type": "code",
   "execution_count": 35,
   "metadata": {},
   "outputs": [
    {
     "data": {
      "text/plain": [
       "[RegexTokenizer_7dc4a95358bf,\n",
       " StopWordsRemover_67a19a84dd4a,\n",
       " CountVectorizerModel: uid=CountVectorizer_45a707ff977c, vocabularySize=357,\n",
       " IDFModel: uid=IDF_61f6c73dbaa1, numDocs=34, numFeatures=357,\n",
       " StandardScalerModel: uid=StandardScaler_6288e61535d7, numFeatures=357, withMean=true, withStd=false,\n",
       " Normalizer_db2949f45da4,\n",
       " KMeansModel: uid=KMeans_e665845a1d31, k=5, distanceMeasure=euclidean, numFeatures=357,\n",
       " PCAModel: uid=PCA_308d127cbcab, k=10]"
      ]
     },
     "execution_count": 35,
     "metadata": {},
     "output_type": "execute_result"
    }
   ],
   "source": [
    "pipeline_model.stages"
   ]
  },
  {
   "cell_type": "code",
   "execution_count": 36,
   "metadata": {},
   "outputs": [],
   "source": [
    "pca_model = pipeline_model.stages[-1]"
   ]
  },
  {
   "cell_type": "code",
   "execution_count": 37,
   "metadata": {},
   "outputs": [],
   "source": [
    "pc1 = pca_model.pc.toArray()[:, 0].tolist()\n",
    "pc2 = pca_model.pc.toArray()[:, 1].tolist()\n",
    "pc3 = pca_model.pc.toArray()[:, 2].tolist()"
   ]
  },
  {
   "cell_type": "code",
   "execution_count": 38,
   "metadata": {},
   "outputs": [],
   "source": [
    "vocabulary = pipeline_model.stages[2].vocabulary"
   ]
  },
  {
   "cell_type": "code",
   "execution_count": 39,
   "metadata": {
    "scrolled": true
   },
   "outputs": [
    {
     "name": "stdout",
     "output_type": "stream",
     "text": [
      "(357, 4)\n"
     ]
    }
   ],
   "source": [
    "pc_loadings = pd.DataFrame([vocabulary, pc1, pc2, pc3]).T.rename(columns={0: 'word', \n",
    "                                                                          1: 'load_pc1',\n",
    "                                                                          2: 'load_pc2',\n",
    "                                                                          3: 'load_pc3',})\n",
    "print(pc_loadings.shape)"
   ]
  },
  {
   "cell_type": "markdown",
   "metadata": {},
   "source": [
    "Show the smallest and largest loadings"
   ]
  },
  {
   "cell_type": "code",
   "execution_count": 40,
   "metadata": {},
   "outputs": [
    {
     "data": {
      "text/html": [
       "<div>\n",
       "<style scoped>\n",
       "    .dataframe tbody tr th:only-of-type {\n",
       "        vertical-align: middle;\n",
       "    }\n",
       "\n",
       "    .dataframe tbody tr th {\n",
       "        vertical-align: top;\n",
       "    }\n",
       "\n",
       "    .dataframe thead th {\n",
       "        text-align: right;\n",
       "    }\n",
       "</style>\n",
       "<table border=\"1\" class=\"dataframe\">\n",
       "  <thead>\n",
       "    <tr style=\"text-align: right;\">\n",
       "      <th></th>\n",
       "      <th>word</th>\n",
       "      <th>load_pc1</th>\n",
       "      <th>load_pc2</th>\n",
       "      <th>load_pc3</th>\n",
       "    </tr>\n",
       "  </thead>\n",
       "  <tbody>\n",
       "    <tr>\n",
       "      <th>49</th>\n",
       "      <td>required</td>\n",
       "      <td>-0.067063</td>\n",
       "      <td>0.0054385</td>\n",
       "      <td>0.0715218</td>\n",
       "    </tr>\n",
       "    <tr>\n",
       "      <th>59</th>\n",
       "      <td>processing</td>\n",
       "      <td>-0.0654304</td>\n",
       "      <td>0.00737648</td>\n",
       "      <td>0.0743025</td>\n",
       "    </tr>\n",
       "    <tr>\n",
       "      <th>129</th>\n",
       "      <td>computational</td>\n",
       "      <td>-0.0613542</td>\n",
       "      <td>0.00504601</td>\n",
       "      <td>0.0764562</td>\n",
       "    </tr>\n",
       "    <tr>\n",
       "      <th>88</th>\n",
       "      <td>linguistic</td>\n",
       "      <td>-0.0613542</td>\n",
       "      <td>0.00504601</td>\n",
       "      <td>0.0764562</td>\n",
       "    </tr>\n",
       "    <tr>\n",
       "      <th>6</th>\n",
       "      <td>students</td>\n",
       "      <td>-0.0579638</td>\n",
       "      <td>0.00405441</td>\n",
       "      <td>0.0680286</td>\n",
       "    </tr>\n",
       "    <tr>\n",
       "      <th>83</th>\n",
       "      <td>complex</td>\n",
       "      <td>0.188491</td>\n",
       "      <td>-0.051103</td>\n",
       "      <td>0.00445523</td>\n",
       "    </tr>\n",
       "    <tr>\n",
       "      <th>87</th>\n",
       "      <td>architecture</td>\n",
       "      <td>0.188491</td>\n",
       "      <td>-0.051103</td>\n",
       "      <td>0.00445523</td>\n",
       "    </tr>\n",
       "    <tr>\n",
       "      <th>36</th>\n",
       "      <td>enterprise</td>\n",
       "      <td>0.254813</td>\n",
       "      <td>-0.453853</td>\n",
       "      <td>-0.0290984</td>\n",
       "    </tr>\n",
       "    <tr>\n",
       "      <th>20</th>\n",
       "      <td>databases</td>\n",
       "      <td>0.275076</td>\n",
       "      <td>0.199085</td>\n",
       "      <td>0.0735311</td>\n",
       "    </tr>\n",
       "    <tr>\n",
       "      <th>28</th>\n",
       "      <td>database</td>\n",
       "      <td>0.538651</td>\n",
       "      <td>0.366988</td>\n",
       "      <td>0.0595601</td>\n",
       "    </tr>\n",
       "  </tbody>\n",
       "</table>\n",
       "</div>"
      ],
      "text/plain": [
       "              word   load_pc1    load_pc2    load_pc3\n",
       "49        required  -0.067063   0.0054385   0.0715218\n",
       "59      processing -0.0654304  0.00737648   0.0743025\n",
       "129  computational -0.0613542  0.00504601   0.0764562\n",
       "88      linguistic -0.0613542  0.00504601   0.0764562\n",
       "6         students -0.0579638  0.00405441   0.0680286\n",
       "83         complex   0.188491   -0.051103  0.00445523\n",
       "87    architecture   0.188491   -0.051103  0.00445523\n",
       "36      enterprise   0.254813   -0.453853  -0.0290984\n",
       "20       databases   0.275076    0.199085   0.0735311\n",
       "28        database   0.538651    0.366988   0.0595601"
      ]
     },
     "execution_count": 40,
     "metadata": {},
     "output_type": "execute_result"
    }
   ],
   "source": [
    "# smallest and biggest loadings of pc1\n",
    "pd.concat((pc_loadings.sort_values('load_pc1').head(), \n",
    "           pc_loadings.sort_values('load_pc1').tail()))"
   ]
  },
  {
   "cell_type": "code",
   "execution_count": 41,
   "metadata": {},
   "outputs": [
    {
     "data": {
      "text/html": [
       "<div>\n",
       "<style scoped>\n",
       "    .dataframe tbody tr th:only-of-type {\n",
       "        vertical-align: middle;\n",
       "    }\n",
       "\n",
       "    .dataframe tbody tr th {\n",
       "        vertical-align: top;\n",
       "    }\n",
       "\n",
       "    .dataframe thead th {\n",
       "        text-align: right;\n",
       "    }\n",
       "</style>\n",
       "<table border=\"1\" class=\"dataframe\">\n",
       "  <thead>\n",
       "    <tr style=\"text-align: right;\">\n",
       "      <th></th>\n",
       "      <th>word</th>\n",
       "      <th>load_pc1</th>\n",
       "      <th>load_pc2</th>\n",
       "      <th>load_pc3</th>\n",
       "    </tr>\n",
       "  </thead>\n",
       "  <tbody>\n",
       "    <tr>\n",
       "      <th>36</th>\n",
       "      <td>enterprise</td>\n",
       "      <td>0.254813</td>\n",
       "      <td>-0.453853</td>\n",
       "      <td>-0.0290984</td>\n",
       "    </tr>\n",
       "    <tr>\n",
       "      <th>101</th>\n",
       "      <td>computing</td>\n",
       "      <td>0.169875</td>\n",
       "      <td>-0.302568</td>\n",
       "      <td>-0.019399</td>\n",
       "    </tr>\n",
       "    <tr>\n",
       "      <th>53</th>\n",
       "      <td>large</td>\n",
       "      <td>0.144783</td>\n",
       "      <td>-0.263025</td>\n",
       "      <td>-0.0181318</td>\n",
       "    </tr>\n",
       "    <tr>\n",
       "      <th>4</th>\n",
       "      <td>systems</td>\n",
       "      <td>0.0903704</td>\n",
       "      <td>-0.160692</td>\n",
       "      <td>0.0276732</td>\n",
       "    </tr>\n",
       "    <tr>\n",
       "      <th>332</th>\n",
       "      <td>solutions</td>\n",
       "      <td>0.0849375</td>\n",
       "      <td>-0.151284</td>\n",
       "      <td>-0.00969948</td>\n",
       "    </tr>\n",
       "    <tr>\n",
       "      <th>249</th>\n",
       "      <td>forms</td>\n",
       "      <td>0.134663</td>\n",
       "      <td>0.091747</td>\n",
       "      <td>0.01489</td>\n",
       "    </tr>\n",
       "    <tr>\n",
       "      <th>104</th>\n",
       "      <td>security</td>\n",
       "      <td>0.116207</td>\n",
       "      <td>0.094556</td>\n",
       "      <td>-0.129068</td>\n",
       "    </tr>\n",
       "    <tr>\n",
       "      <th>114</th>\n",
       "      <td>warehouses</td>\n",
       "      <td>0.116554</td>\n",
       "      <td>0.097372</td>\n",
       "      <td>0.0149755</td>\n",
       "    </tr>\n",
       "    <tr>\n",
       "      <th>20</th>\n",
       "      <td>databases</td>\n",
       "      <td>0.275076</td>\n",
       "      <td>0.199085</td>\n",
       "      <td>0.0735311</td>\n",
       "    </tr>\n",
       "    <tr>\n",
       "      <th>28</th>\n",
       "      <td>database</td>\n",
       "      <td>0.538651</td>\n",
       "      <td>0.366988</td>\n",
       "      <td>0.0595601</td>\n",
       "    </tr>\n",
       "  </tbody>\n",
       "</table>\n",
       "</div>"
      ],
      "text/plain": [
       "           word   load_pc1  load_pc2    load_pc3\n",
       "36   enterprise   0.254813 -0.453853  -0.0290984\n",
       "101   computing   0.169875 -0.302568   -0.019399\n",
       "53        large   0.144783 -0.263025  -0.0181318\n",
       "4       systems  0.0903704 -0.160692   0.0276732\n",
       "332   solutions  0.0849375 -0.151284 -0.00969948\n",
       "249       forms   0.134663  0.091747     0.01489\n",
       "104    security   0.116207  0.094556   -0.129068\n",
       "114  warehouses   0.116554  0.097372   0.0149755\n",
       "20    databases   0.275076  0.199085   0.0735311\n",
       "28     database   0.538651  0.366988   0.0595601"
      ]
     },
     "execution_count": 41,
     "metadata": {},
     "output_type": "execute_result"
    }
   ],
   "source": [
    "# smallest and biggest loadings of pc2\n",
    "pd.concat((pc_loadings.sort_values('load_pc2').head(), \n",
    "           pc_loadings.sort_values('load_pc2').tail()))"
   ]
  },
  {
   "cell_type": "code",
   "execution_count": 42,
   "metadata": {},
   "outputs": [
    {
     "data": {
      "text/html": [
       "<div>\n",
       "<style scoped>\n",
       "    .dataframe tbody tr th:only-of-type {\n",
       "        vertical-align: middle;\n",
       "    }\n",
       "\n",
       "    .dataframe tbody tr th {\n",
       "        vertical-align: top;\n",
       "    }\n",
       "\n",
       "    .dataframe thead th {\n",
       "        text-align: right;\n",
       "    }\n",
       "</style>\n",
       "<table border=\"1\" class=\"dataframe\">\n",
       "  <thead>\n",
       "    <tr style=\"text-align: right;\">\n",
       "      <th></th>\n",
       "      <th>word</th>\n",
       "      <th>load_pc1</th>\n",
       "      <th>load_pc2</th>\n",
       "      <th>load_pc3</th>\n",
       "    </tr>\n",
       "  </thead>\n",
       "  <tbody>\n",
       "    <tr>\n",
       "      <th>75</th>\n",
       "      <td>policy</td>\n",
       "      <td>0.00144676</td>\n",
       "      <td>0.0368293</td>\n",
       "      <td>-0.330519</td>\n",
       "    </tr>\n",
       "    <tr>\n",
       "      <th>73</th>\n",
       "      <td>public</td>\n",
       "      <td>0.00144676</td>\n",
       "      <td>0.0368293</td>\n",
       "      <td>-0.330519</td>\n",
       "    </tr>\n",
       "    <tr>\n",
       "      <th>34</th>\n",
       "      <td>economic</td>\n",
       "      <td>-0.0149275</td>\n",
       "      <td>0.0125956</td>\n",
       "      <td>-0.184823</td>\n",
       "    </tr>\n",
       "    <tr>\n",
       "      <th>211</th>\n",
       "      <td>affect</td>\n",
       "      <td>0.000723382</td>\n",
       "      <td>0.0184146</td>\n",
       "      <td>-0.165259</td>\n",
       "    </tr>\n",
       "    <tr>\n",
       "      <th>312</th>\n",
       "      <td>privacy</td>\n",
       "      <td>0.000723382</td>\n",
       "      <td>0.0184146</td>\n",
       "      <td>-0.165259</td>\n",
       "    </tr>\n",
       "    <tr>\n",
       "      <th>126</th>\n",
       "      <td>administration</td>\n",
       "      <td>0.0155463</td>\n",
       "      <td>0.00854415</td>\n",
       "      <td>0.079552</td>\n",
       "    </tr>\n",
       "    <tr>\n",
       "      <th>22</th>\n",
       "      <td>modeling</td>\n",
       "      <td>0.00457799</td>\n",
       "      <td>0.00875369</td>\n",
       "      <td>0.0798089</td>\n",
       "    </tr>\n",
       "    <tr>\n",
       "      <th>52</th>\n",
       "      <td>projects</td>\n",
       "      <td>-0.0324584</td>\n",
       "      <td>-0.0187311</td>\n",
       "      <td>0.0871006</td>\n",
       "    </tr>\n",
       "    <tr>\n",
       "      <th>2</th>\n",
       "      <td>data</td>\n",
       "      <td>0.0864014</td>\n",
       "      <td>0.0851734</td>\n",
       "      <td>0.133236</td>\n",
       "    </tr>\n",
       "    <tr>\n",
       "      <th>50</th>\n",
       "      <td>metadata</td>\n",
       "      <td>-0.0223883</td>\n",
       "      <td>-0.0428104</td>\n",
       "      <td>0.194214</td>\n",
       "    </tr>\n",
       "  </tbody>\n",
       "</table>\n",
       "</div>"
      ],
      "text/plain": [
       "               word     load_pc1    load_pc2   load_pc3\n",
       "75           policy   0.00144676   0.0368293  -0.330519\n",
       "73           public   0.00144676   0.0368293  -0.330519\n",
       "34         economic   -0.0149275   0.0125956  -0.184823\n",
       "211          affect  0.000723382   0.0184146  -0.165259\n",
       "312         privacy  0.000723382   0.0184146  -0.165259\n",
       "126  administration    0.0155463  0.00854415   0.079552\n",
       "22         modeling   0.00457799  0.00875369  0.0798089\n",
       "52         projects   -0.0324584  -0.0187311  0.0871006\n",
       "2              data    0.0864014   0.0851734   0.133236\n",
       "50         metadata   -0.0223883  -0.0428104   0.194214"
      ]
     },
     "execution_count": 42,
     "metadata": {},
     "output_type": "execute_result"
    }
   ],
   "source": [
    "# smallest and biggest loadings of pc3\n",
    "pd.concat((pc_loadings.sort_values('load_pc3').head(), \n",
    "           pc_loadings.sort_values('load_pc3').tail()))"
   ]
  },
  {
   "cell_type": "markdown",
   "metadata": {},
   "source": [
    "# Visualize fit with 2 dimensional PCA"
   ]
  },
  {
   "cell_type": "markdown",
   "metadata": {},
   "source": [
    "The cell below creates a new pipeline to compute PCA scores on the course descriptions."
   ]
  },
  {
   "cell_type": "code",
   "execution_count": 43,
   "metadata": {},
   "outputs": [],
   "source": [
    "#pca2 = feature.PCA(k=2, inputCol='centered_tfidf', outputCol='scores')\n",
    "#pipeline2 = Pipeline(stages=[tokenizer, sw_filter, cv, idf, center, norm, kmeans, pca2]).fit(im_courses)"
   ]
  },
  {
   "cell_type": "code",
   "execution_count": 44,
   "metadata": {},
   "outputs": [],
   "source": [
    "pipeline2_model = Pipeline(stages=[tokenizer, sw_filter, cv, idf, \n",
    "                                   feature.Normalizer(inputCol='tfidf', outputCol='norm_tfidf'), \n",
    "                                   feature.StandardScaler(withMean=True, withStd=False, \n",
    "                                                          inputCol='norm_tfidf',\n",
    "                                                          outputCol='centered_tfidf'),\n",
    "                                   feature.PCA(k=2, inputCol='centered_tfidf', outputCol='scores')])\\\n",
    "    .fit(im_courses)"
   ]
  },
  {
   "cell_type": "markdown",
   "metadata": {},
   "source": [
    "The cell below extracts the PCA scores from the transformed pipeline2_model."
   ]
  },
  {
   "cell_type": "code",
   "execution_count": 45,
   "metadata": {},
   "outputs": [
    {
     "name": "stdout",
     "output_type": "stream",
     "text": [
      "X.shape: (34, 2)\n"
     ]
    }
   ],
   "source": [
    "course_names = np.array(im_courses.select('course').rdd.map(lambda x: x['course']).collect())\n",
    "X = np.array(pipeline2_model.transform(im_courses).select('scores').rdd.map(lambda x: x['scores']).collect())\n",
    "print(\"X.shape:\", X.shape)"
   ]
  },
  {
   "cell_type": "markdown",
   "metadata": {},
   "source": [
    "Plot PCA2 scores against PCA1 scores"
   ]
  },
  {
   "cell_type": "code",
   "execution_count": 46,
   "metadata": {},
   "outputs": [
    {
     "data": {
      "image/png": "[encoded data removed]",
      "text/plain": [
       "<Figure size 504x504 with 1 Axes>"
      ]
     },
     "metadata": {
      "needs_background": "light"
     },
     "output_type": "display_data"
    },
    {
     "data": {
      "text/plain": [
       "None"
      ]
     },
     "metadata": {},
     "output_type": "display_data"
    }
   ],
   "source": [
    "# now plot the data\n",
    "fig, ax = plt.subplots()\n",
    "fig.set_figheight(7)\n",
    "fig.set_figwidth(7)\n",
    "ax.scatter(X[:,0], X[:,1])\n",
    "fig.suptitle(\"Diabetes Data PC2 Scores vs. PC1 Scores\", y=.92)\n",
    "ax.set_xlabel(\"PC1\")\n",
    "ax.set_ylabel(\"PC2\")\n",
    "\n",
    "for i, txt in enumerate(course_names):\n",
    "    ax.annotate(txt, (X[i,0], X[i,1]))\n",
    "    \n",
    "display(plt.show())"
   ]
  },
  {
   "cell_type": "markdown",
   "metadata": {},
   "source": [
    "The cell below sets up to print a zoomed in plot by filtering by data less than 0.2"
   ]
  },
  {
   "cell_type": "code",
   "execution_count": 47,
   "metadata": {},
   "outputs": [],
   "source": [
    "idx = np.abs(X[:, 0]) < 0.2\n",
    "X = X[idx]\n",
    "course_names = course_names[idx]"
   ]
  },
  {
   "cell_type": "code",
   "execution_count": 48,
   "metadata": {},
   "outputs": [
    {
     "data": {
      "image/png": "[encoded data removed]",
      "text/plain": [
       "<Figure size 504x504 with 1 Axes>"
      ]
     },
     "metadata": {
      "needs_background": "light"
     },
     "output_type": "display_data"
    },
    {
     "data": {
      "text/plain": [
       "None"
      ]
     },
     "metadata": {},
     "output_type": "display_data"
    }
   ],
   "source": [
    "# now plot the zoomed data\n",
    "fig, ax = plt.subplots()\n",
    "fig.set_figheight(7)\n",
    "fig.set_figwidth(7)\n",
    "ax.scatter(X[:,0], X[:,1])\n",
    "fig.suptitle(\"Zoomed In Diabetes Data PC2 Scores vs. PC1 Scores\", y=.92)\n",
    "ax.set_xlabel(\"PC1\")\n",
    "ax.set_ylabel(\"PC2\")\n",
    "\n",
    "for i, txt in enumerate(course_names):\n",
    "    ax.annotate(txt, (X[i,0], X[i,1]))\n",
    "    \n",
    "display(plt.show())"
   ]
  },
  {
   "cell_type": "code",
   "execution_count": 49,
   "metadata": {},
   "outputs": [],
   "source": [
    "pca_model = pipeline2_model.stages[-1]"
   ]
  },
  {
   "cell_type": "code",
   "execution_count": 50,
   "metadata": {},
   "outputs": [],
   "source": [
    "pc1 = pca_model.pc.toArray()[:, 0].tolist()\n",
    "pc2 = pca_model.pc.toArray()[:, 1].tolist()"
   ]
  },
  {
   "cell_type": "code",
   "execution_count": 51,
   "metadata": {},
   "outputs": [],
   "source": [
    "vocabulary = pipeline2_model.stages[2].vocabulary"
   ]
  },
  {
   "cell_type": "code",
   "execution_count": 52,
   "metadata": {},
   "outputs": [],
   "source": [
    "pc_loadings = pd.DataFrame([vocabulary, pc1, pc2]).T.rename(columns={0: 'word', \n",
    "                                                                     1: 'load_pc1',\n",
    "                                                                     2: 'load_pc2'})"
   ]
  },
  {
   "cell_type": "code",
   "execution_count": 53,
   "metadata": {
    "scrolled": true
   },
   "outputs": [
    {
     "data": {
      "text/html": [
       "<div>\n",
       "<style scoped>\n",
       "    .dataframe tbody tr th:only-of-type {\n",
       "        vertical-align: middle;\n",
       "    }\n",
       "\n",
       "    .dataframe tbody tr th {\n",
       "        vertical-align: top;\n",
       "    }\n",
       "\n",
       "    .dataframe thead th {\n",
       "        text-align: right;\n",
       "    }\n",
       "</style>\n",
       "<table border=\"1\" class=\"dataframe\">\n",
       "  <thead>\n",
       "    <tr style=\"text-align: right;\">\n",
       "      <th></th>\n",
       "      <th>word</th>\n",
       "      <th>load_pc1</th>\n",
       "    </tr>\n",
       "  </thead>\n",
       "  <tbody>\n",
       "    <tr>\n",
       "      <th>17</th>\n",
       "      <td>research</td>\n",
       "      <td>0.11137</td>\n",
       "    </tr>\n",
       "    <tr>\n",
       "      <th>18</th>\n",
       "      <td>digital</td>\n",
       "      <td>0.0683895</td>\n",
       "    </tr>\n",
       "    <tr>\n",
       "      <th>6</th>\n",
       "      <td>design</td>\n",
       "      <td>0.0668912</td>\n",
       "    </tr>\n",
       "    <tr>\n",
       "      <th>10</th>\n",
       "      <td>issues</td>\n",
       "      <td>0.0572029</td>\n",
       "    </tr>\n",
       "    <tr>\n",
       "      <th>59</th>\n",
       "      <td>networks</td>\n",
       "      <td>0.0537774</td>\n",
       "    </tr>\n",
       "  </tbody>\n",
       "</table>\n",
       "</div>"
      ],
      "text/plain": [
       "        word   load_pc1\n",
       "17  research    0.11137\n",
       "18   digital  0.0683895\n",
       "6     design  0.0668912\n",
       "10    issues  0.0572029\n",
       "59  networks  0.0537774"
      ]
     },
     "execution_count": 53,
     "metadata": {},
     "output_type": "execute_result"
    }
   ],
   "source": [
    "pc_loadings.sort_values('load_pc1').\\\n",
    "    apply({'word': lambda x: x, 'load_pc1': np.abs}, axis=0).head(5)"
   ]
  },
  {
   "cell_type": "code",
   "execution_count": 54,
   "metadata": {
    "scrolled": true
   },
   "outputs": [
    {
     "data": {
      "text/html": [
       "<div>\n",
       "<style scoped>\n",
       "    .dataframe tbody tr th:only-of-type {\n",
       "        vertical-align: middle;\n",
       "    }\n",
       "\n",
       "    .dataframe tbody tr th {\n",
       "        vertical-align: top;\n",
       "    }\n",
       "\n",
       "    .dataframe thead th {\n",
       "        text-align: right;\n",
       "    }\n",
       "</style>\n",
       "<table border=\"1\" class=\"dataframe\">\n",
       "  <thead>\n",
       "    <tr style=\"text-align: right;\">\n",
       "      <th></th>\n",
       "      <th>word</th>\n",
       "      <th>load_pc2</th>\n",
       "    </tr>\n",
       "  </thead>\n",
       "  <tbody>\n",
       "    <tr>\n",
       "      <th>2</th>\n",
       "      <td>data</td>\n",
       "      <td>0.243194</td>\n",
       "    </tr>\n",
       "    <tr>\n",
       "      <th>5</th>\n",
       "      <td>systems</td>\n",
       "      <td>0.1452</td>\n",
       "    </tr>\n",
       "    <tr>\n",
       "      <th>24</th>\n",
       "      <td>databases</td>\n",
       "      <td>0.139927</td>\n",
       "    </tr>\n",
       "    <tr>\n",
       "      <th>12</th>\n",
       "      <td>analysis</td>\n",
       "      <td>0.133891</td>\n",
       "    </tr>\n",
       "    <tr>\n",
       "      <th>48</th>\n",
       "      <td>metadata</td>\n",
       "      <td>0.128186</td>\n",
       "    </tr>\n",
       "  </tbody>\n",
       "</table>\n",
       "</div>"
      ],
      "text/plain": [
       "         word  load_pc2\n",
       "2        data  0.243194\n",
       "5     systems    0.1452\n",
       "24  databases  0.139927\n",
       "12   analysis  0.133891\n",
       "48   metadata  0.128186"
      ]
     },
     "execution_count": 54,
     "metadata": {},
     "output_type": "execute_result"
    }
   ],
   "source": [
    "pc_loadings.sort_values('load_pc2').\\\n",
    "    apply({'word': lambda x: x, 'load_pc2': np.abs}, axis=0).head(5)"
   ]
  },
  {
   "cell_type": "markdown",
   "metadata": {},
   "source": [
    "# Examine K-means"
   ]
  },
  {
   "cell_type": "markdown",
   "metadata": {},
   "source": [
    "The cell below displays the im_courses dataframe, followed by a print out of the course"
   ]
  },
  {
   "cell_type": "code",
   "execution_count": 55,
   "metadata": {},
   "outputs": [
    {
     "data": {
      "text/plain": [
       "'im_courses head:'"
      ]
     },
     "metadata": {},
     "output_type": "display_data"
    },
    {
     "data": {
      "text/html": [
       "<div>\n",
       "<style scoped>\n",
       "    .dataframe tbody tr th:only-of-type {\n",
       "        vertical-align: middle;\n",
       "    }\n",
       "\n",
       "    .dataframe tbody tr th {\n",
       "        vertical-align: top;\n",
       "    }\n",
       "\n",
       "    .dataframe thead th {\n",
       "        text-align: right;\n",
       "    }\n",
       "</style>\n",
       "<table border=\"1\" class=\"dataframe\">\n",
       "  <thead>\n",
       "    <tr style=\"text-align: right;\">\n",
       "      <th></th>\n",
       "      <th>course</th>\n",
       "      <th>core</th>\n",
       "      <th>credits</th>\n",
       "      <th>title</th>\n",
       "      <th>description</th>\n",
       "    </tr>\n",
       "  </thead>\n",
       "  <tbody>\n",
       "    <tr>\n",
       "      <th>0</th>\n",
       "      <td>IST 553</td>\n",
       "      <td>IM</td>\n",
       "      <td>3</td>\n",
       "      <td>Information Architecture for Internet Services</td>\n",
       "      <td>Building and management of Internet information services, including information organization, information management, and information dissemination. Understanding of the use of Internet technologies within an organizational context. Practice with current technologies.</td>\n",
       "    </tr>\n",
       "    <tr>\n",
       "      <th>1</th>\n",
       "      <td>IST 558</td>\n",
       "      <td>CAS</td>\n",
       "      <td>3</td>\n",
       "      <td>Technologies in Web Content Management</td>\n",
       "      <td>Concepts and techniques in web content representation, organization, presentation, development, and management with the eXtensible Markup Language (XML), including basic XML syntax, vocabulary specification, data modeling, transformation, and Document Object Model (DOM).</td>\n",
       "    </tr>\n",
       "    <tr>\n",
       "      <th>2</th>\n",
       "      <td>IST 565</td>\n",
       "      <td>CAS</td>\n",
       "      <td>3</td>\n",
       "      <td>Data Mining</td>\n",
       "      <td>Introduction to data mining techniques, familiarity with particular real-world applications, challenges involved in these applications, and future directions of the field. Optional hands-on experience with commercially available software packages.</td>\n",
       "    </tr>\n",
       "    <tr>\n",
       "      <th>3</th>\n",
       "      <td>IST 601</td>\n",
       "      <td>IM</td>\n",
       "      <td>3</td>\n",
       "      <td>Information and Information Environments</td>\n",
       "      <td>A broad overview of the field and an orientation to the School of Information Studies. Describes the past, present, and future of information studies.</td>\n",
       "    </tr>\n",
       "    <tr>\n",
       "      <th>4</th>\n",
       "      <td>IST 614</td>\n",
       "      <td>IM</td>\n",
       "      <td>3</td>\n",
       "      <td>Management Principles for Information Professionals</td>\n",
       "      <td>Basic ideas, concepts and perspectives of management as they apply to the information professions. Students learn to understand and apply basic principles of organization theory and behavior and managerial techniques needed to improve organizational effectiveness.</td>\n",
       "    </tr>\n",
       "  </tbody>\n",
       "</table>\n",
       "</div>"
      ],
      "text/plain": [
       "    course core  credits                                                title  \\\n",
       "0  IST 553   IM        3       Information Architecture for Internet Services   \n",
       "1  IST 558  CAS        3               Technologies in Web Content Management   \n",
       "2  IST 565  CAS        3                                          Data Mining   \n",
       "3  IST 601   IM        3             Information and Information Environments   \n",
       "4  IST 614   IM        3  Management Principles for Information Professionals   \n",
       "\n",
       "                                                                                                                                                                                                                                                                       description  \n",
       "0     Building and management of Internet information services, including information organization, information management, and information dissemination. Understanding of the use of Internet technologies within an organizational context. Practice with current technologies.  \n",
       "1  Concepts and techniques in web content representation, organization, presentation, development, and management with the eXtensible Markup Language (XML), including basic XML syntax, vocabulary specification, data modeling, transformation, and Document Object Model (DOM).  \n",
       "2                          Introduction to data mining techniques, familiarity with particular real-world applications, challenges involved in these applications, and future directions of the field. Optional hands-on experience with commercially available software packages.  \n",
       "3                                                                                                                           A broad overview of the field and an orientation to the School of Information Studies. Describes the past, present, and future of information studies.  \n",
       "4         Basic ideas, concepts and perspectives of management as they apply to the information professions. Students learn to understand and apply basic principles of organization theory and behavior and managerial techniques needed to improve organizational effectiveness.  "
      ]
     },
     "metadata": {},
     "output_type": "display_data"
    },
    {
     "data": {
      "text/plain": [
       "'courses grouped by k-means group:'"
      ]
     },
     "metadata": {},
     "output_type": "display_data"
    },
    {
     "data": {
      "text/html": [
       "<div>\n",
       "<style scoped>\n",
       "    .dataframe tbody tr th:only-of-type {\n",
       "        vertical-align: middle;\n",
       "    }\n",
       "\n",
       "    .dataframe tbody tr th {\n",
       "        vertical-align: top;\n",
       "    }\n",
       "\n",
       "    .dataframe thead th {\n",
       "        text-align: right;\n",
       "    }\n",
       "</style>\n",
       "<table border=\"1\" class=\"dataframe\">\n",
       "  <thead>\n",
       "    <tr style=\"text-align: right;\">\n",
       "      <th></th>\n",
       "      <th>kmeans_feat</th>\n",
       "      <th>courses</th>\n",
       "    </tr>\n",
       "  </thead>\n",
       "  <tbody>\n",
       "    <tr>\n",
       "      <th>0</th>\n",
       "      <td>1</td>\n",
       "      <td>[IST 664-Natural Language Processing]</td>\n",
       "    </tr>\n",
       "    <tr>\n",
       "      <th>1</th>\n",
       "      <td>3</td>\n",
       "      <td>[IST 565-Data Mining, IST 662-Instructional Strategies and Techniques for Information Professionals, IST 769-Advanced Database Administration Concepts and Database Management]</td>\n",
       "    </tr>\n",
       "    <tr>\n",
       "      <th>2</th>\n",
       "      <td>4</td>\n",
       "      <td>[IST 558-Technologies in Web Content Management, IST 614-Management Principles for Information Professionals]</td>\n",
       "    </tr>\n",
       "    <tr>\n",
       "      <th>3</th>\n",
       "      <td>2</td>\n",
       "      <td>[IST 631-Theory of Classification and Subject Representation, IST 676-Foundations of Digital Data]</td>\n",
       "    </tr>\n",
       "    <tr>\n",
       "      <th>4</th>\n",
       "      <td>0</td>\n",
       "      <td>[IST 553-Information Architecture for Internet Services, IST 601-Information and Information Environments, IST 617-Motivational Aspects of Information Use, IST 618-Information Policy, IST 619-Applied Economics for Information Managers, IST 621-Introduction to Information Management, IST 639-Enterprise Technologies, IST 641-User-Based Design, IST 645-Managing Information Systems Projects, IST 649-Human Interaction with Computers, IST 653-Telecommunications and Enterprise Network Management I, IST 654-Information Systems Analysis, IST 656-Telecommunications and Enterprise Network Management II, IST 657-Basics of Information Retrieval Systems, IST 659-Data Administration Concepts and Database Management, IST 677-Creating, Managing, and Preserving Digital Assets, IST 681-Metadata, IST 687-Applied Data Science, IST 718-Advanced Information Analytics, IST 719-Information Visualization, IST 722-Data Warehouse, IST 736-Text Mining, IST 755-Strategic Management of Information Resources, IST 776-Research Methods in Information Science and Technology, IST 777-Statistical Methods in Information Science and Technology, IST 971-Internship in Information Studies]</td>\n",
       "    </tr>\n",
       "  </tbody>\n",
       "</table>\n",
       "</div>"
      ],
      "text/plain": [
       "   kmeans_feat  \\\n",
       "0            1   \n",
       "1            3   \n",
       "2            4   \n",
       "3            2   \n",
       "4            0   \n",
       "\n",
       "                                                                                                                                                                                                                                                                                                                                                                                                                                                                                                                                                                                                                                                                                                                                                                                                                                                                                                                                                                                                                                                                                                                                                                                                          courses  \n",
       "0                                                                                                                                                                                                                                                                                                                                                                                                                                                                                                                                                                                                                                                                                                                                                                                                                                                                                                                                                                                                                                                                                                                                                                           [IST 664-Natural Language Processing]  \n",
       "1                                                                                                                                                                                                                                                                                                                                                                                                                                                                                                                                                                                                                                                                                                                                                                                                                                                                                                                                                                                                                                 [IST 565-Data Mining, IST 662-Instructional Strategies and Techniques for Information Professionals, IST 769-Advanced Database Administration Concepts and Database Management]  \n",
       "2                                                                                                                                                                                                                                                                                                                                                                                                                                                                                                                                                                                                                                                                                                                                                                                                                                                                                                                                                                                                                                                                                                   [IST 558-Technologies in Web Content Management, IST 614-Management Principles for Information Professionals]  \n",
       "3                                                                                                                                                                                                                                                                                                                                                                                                                                                                                                                                                                                                                                                                                                                                                                                                                                                                                                                                                                                                                                                                                                              [IST 631-Theory of Classification and Subject Representation, IST 676-Foundations of Digital Data]  \n",
       "4  [IST 553-Information Architecture for Internet Services, IST 601-Information and Information Environments, IST 617-Motivational Aspects of Information Use, IST 618-Information Policy, IST 619-Applied Economics for Information Managers, IST 621-Introduction to Information Management, IST 639-Enterprise Technologies, IST 641-User-Based Design, IST 645-Managing Information Systems Projects, IST 649-Human Interaction with Computers, IST 653-Telecommunications and Enterprise Network Management I, IST 654-Information Systems Analysis, IST 656-Telecommunications and Enterprise Network Management II, IST 657-Basics of Information Retrieval Systems, IST 659-Data Administration Concepts and Database Management, IST 677-Creating, Managing, and Preserving Digital Assets, IST 681-Metadata, IST 687-Applied Data Science, IST 718-Advanced Information Analytics, IST 719-Information Visualization, IST 722-Data Warehouse, IST 736-Text Mining, IST 755-Strategic Management of Information Resources, IST 776-Research Methods in Information Science and Technology, IST 777-Statistical Methods in Information Science and Technology, IST 971-Internship in Information Studies]  "
      ]
     },
     "metadata": {},
     "output_type": "display_data"
    }
   ],
   "source": [
    "#pd.set_option('display.max_colwidth', -1)\n",
    "pd.set_option('display.max_colwidth', None)\n",
    "if is_databricks(): \n",
    "  print(\"original im_courses:\")\n",
    "  im_courses.show(5, 80)\n",
    "  print(\"courses grouped by k-means group:\")\n",
    "  pipeline_model.transform(im_courses).\\\n",
    "           groupBy('kmeans_feat').agg(fn.collect_list(\n",
    "           fn.concat_ws('-', fn.col('course'), fn.col('title'))).alias('courses')).show(5, 80)\n",
    "else:\n",
    "  display(\"im_courses head:\", im_courses.toPandas().head())\n",
    "  display(\"courses grouped by k-means group:\", pipeline_model.transform(im_courses).\\\n",
    "          groupBy('kmeans_feat').agg(fn.collect_list(\n",
    "          fn.concat_ws('-', fn.col('course'), fn.col('title'))).alias('courses')).toPandas().head())"
   ]
  },
  {
   "cell_type": "markdown",
   "metadata": {},
   "source": [
    "# Make recommendations"
   ]
  },
  {
   "cell_type": "markdown",
   "metadata": {},
   "source": [
    "To make recommendations, we need compute the distance between a vector and all the other courses in our dataset. To do this, we need to define a User Defined Function (UDF) that takes as input two column vectors and returns the distance between them."
   ]
  },
  {
   "cell_type": "code",
   "execution_count": 56,
   "metadata": {},
   "outputs": [],
   "source": [
    "from pyspark.sql import types"
   ]
  },
  {
   "cell_type": "code",
   "execution_count": 57,
   "metadata": {},
   "outputs": [],
   "source": [
    "import numpy as np\n",
    "def l2_dist(c1, c2):    \n",
    "    return float(np.sqrt((c1 - c2).T.dot((c1 - c2))))"
   ]
  },
  {
   "cell_type": "markdown",
   "metadata": {},
   "source": [
    "Let's take the PCA features of IST 718."
   ]
  },
  {
   "cell_type": "code",
   "execution_count": 58,
   "metadata": {},
   "outputs": [],
   "source": [
    "l2_dist_udf = fn.udf(l2_dist, types.FloatType())"
   ]
  },
  {
   "cell_type": "markdown",
   "metadata": {},
   "source": [
    "Spark doesn't allow a cross join without a condition because it could be too computationally expensive. The command in the cell below triggers a cross join using the regular inner join syntax.  A cross join is used when you wish to create combination of every row from two tables. All row combinations are included in the result; this is commonly called cross product join. A common use for a cross join is to create obtain all combinations of items, such as colors and sizes."
   ]
  },
  {
   "cell_type": "code",
   "execution_count": 59,
   "metadata": {},
   "outputs": [
    {
     "name": "stdout",
     "output_type": "stream",
     "text": [
      "+--------------------+-----+\n",
      "|                 key|value|\n",
      "+--------------------+-----+\n",
      "|spark.sql.crossJo...| TRUE|\n",
      "+--------------------+-----+\n",
      "\n"
     ]
    }
   ],
   "source": [
    "spark.sql(\"SET spark.sql.crossJoin.enabled=TRUE\").show()"
   ]
  },
  {
   "cell_type": "code",
   "execution_count": 60,
   "metadata": {},
   "outputs": [
    {
     "data": {
      "text/html": [
       "<div>\n",
       "<style scoped>\n",
       "    .dataframe tbody tr th:only-of-type {\n",
       "        vertical-align: middle;\n",
       "    }\n",
       "\n",
       "    .dataframe tbody tr th {\n",
       "        vertical-align: top;\n",
       "    }\n",
       "\n",
       "    .dataframe thead th {\n",
       "        text-align: right;\n",
       "    }\n",
       "</style>\n",
       "<table border=\"1\" class=\"dataframe\">\n",
       "  <thead>\n",
       "    <tr style=\"text-align: right;\">\n",
       "      <th></th>\n",
       "      <th>course</th>\n",
       "      <th>description</th>\n",
       "      <th>dist</th>\n",
       "    </tr>\n",
       "  </thead>\n",
       "  <tbody>\n",
       "    <tr>\n",
       "      <th>0</th>\n",
       "      <td>IST 718</td>\n",
       "      <td>A broad introduction to analytical processing tools and techniques for information professionals. Students will develop a portfolio of resources, demonstrations, recipes, and examples of various analytical techniques.</td>\n",
       "      <td>0.000000</td>\n",
       "    </tr>\n",
       "    <tr>\n",
       "      <th>1</th>\n",
       "      <td>IST 719</td>\n",
       "      <td>A broad introduction to data visualization for information professionals. Students will develop a portfolio of resources, demonstrations, recipes, and examples of various data visualization techniques.</td>\n",
       "      <td>1.466475</td>\n",
       "    </tr>\n",
       "    <tr>\n",
       "      <th>2</th>\n",
       "      <td>IST 565</td>\n",
       "      <td>Introduction to data mining techniques, familiarity with particular real-world applications, challenges involved in these applications, and future directions of the field. Optional hands-on experience with commercially available software packages.</td>\n",
       "      <td>4.206517</td>\n",
       "    </tr>\n",
       "    <tr>\n",
       "      <th>3</th>\n",
       "      <td>IST 662</td>\n",
       "      <td>Introduction to information literacy models for application to instruction in information organizations. Focus on strategies and techniques for designing, presenting, and evaluating information technology training and training materials for real clients.</td>\n",
       "      <td>4.281012</td>\n",
       "    </tr>\n",
       "    <tr>\n",
       "      <th>4</th>\n",
       "      <td>IST 601</td>\n",
       "      <td>A broad overview of the field and an orientation to the School of Information Studies. Describes the past, present, and future of information studies.</td>\n",
       "      <td>4.523474</td>\n",
       "    </tr>\n",
       "    <tr>\n",
       "      <th>5</th>\n",
       "      <td>IST 971</td>\n",
       "      <td>Fully supervised internship experience. Prereq: IST masters students only. Must meet GPA requirements and complete a learning agreement with site supervisor.</td>\n",
       "      <td>4.798213</td>\n",
       "    </tr>\n",
       "    <tr>\n",
       "      <th>6</th>\n",
       "      <td>IST 736</td>\n",
       "      <td>Introduces concepts and methods for knowledge discovery from large amount of text data, and the application of text mining techniques for business intelligence, digital humanities, and social behavior analysis.</td>\n",
       "      <td>5.518248</td>\n",
       "    </tr>\n",
       "    <tr>\n",
       "      <th>7</th>\n",
       "      <td>IST 755</td>\n",
       "      <td>Seminar. Integration of previous learning on the various components of management, user needs, and technologies. In-depth review and use of case studies on a range of critical information resources management areas.</td>\n",
       "      <td>5.552835</td>\n",
       "    </tr>\n",
       "    <tr>\n",
       "      <th>8</th>\n",
       "      <td>IST 621</td>\n",
       "      <td>Overview of general management concepts, IM implementation concerns and strategies, information life cycle management, and preparation for an IM career.</td>\n",
       "      <td>5.588045</td>\n",
       "    </tr>\n",
       "    <tr>\n",
       "      <th>9</th>\n",
       "      <td>IST 656</td>\n",
       "      <td>Hardware and software technologies in telecommunication and information networks. TCP/IP protocols. Design, maintenance and management.</td>\n",
       "      <td>5.759579</td>\n",
       "    </tr>\n",
       "  </tbody>\n",
       "</table>\n",
       "</div>"
      ],
      "text/plain": [
       "    course  \\\n",
       "0  IST 718   \n",
       "1  IST 719   \n",
       "2  IST 565   \n",
       "3  IST 662   \n",
       "4  IST 601   \n",
       "5  IST 971   \n",
       "6  IST 736   \n",
       "7  IST 755   \n",
       "8  IST 621   \n",
       "9  IST 656   \n",
       "\n",
       "                                                                                                                                                                                                                                                      description  \\\n",
       "0                                       A broad introduction to analytical processing tools and techniques for information professionals. Students will develop a portfolio of resources, demonstrations, recipes, and examples of various analytical techniques.   \n",
       "1                                                       A broad introduction to data visualization for information professionals. Students will develop a portfolio of resources, demonstrations, recipes, and examples of various data visualization techniques.   \n",
       "2         Introduction to data mining techniques, familiarity with particular real-world applications, challenges involved in these applications, and future directions of the field. Optional hands-on experience with commercially available software packages.   \n",
       "3  Introduction to information literacy models for application to instruction in information organizations. Focus on strategies and techniques for designing, presenting, and evaluating information technology training and training materials for real clients.   \n",
       "4                                                                                                          A broad overview of the field and an orientation to the School of Information Studies. Describes the past, present, and future of information studies.   \n",
       "5                                                                                                   Fully supervised internship experience. Prereq: IST masters students only. Must meet GPA requirements and complete a learning agreement with site supervisor.   \n",
       "6                                              Introduces concepts and methods for knowledge discovery from large amount of text data, and the application of text mining techniques for business intelligence, digital humanities, and social behavior analysis.   \n",
       "7                                         Seminar. Integration of previous learning on the various components of management, user needs, and technologies. In-depth review and use of case studies on a range of critical information resources management areas.   \n",
       "8                                                                                                        Overview of general management concepts, IM implementation concerns and strategies, information life cycle management, and preparation for an IM career.   \n",
       "9                                                                                                                         Hardware and software technologies in telecommunication and information networks. TCP/IP protocols. Design, maintenance and management.   \n",
       "\n",
       "       dist  \n",
       "0  0.000000  \n",
       "1  1.466475  \n",
       "2  4.206517  \n",
       "3  4.281012  \n",
       "4  4.523474  \n",
       "5  4.798213  \n",
       "6  5.518248  \n",
       "7  5.552835  \n",
       "8  5.588045  \n",
       "9  5.759579  "
      ]
     },
     "metadata": {},
     "output_type": "display_data"
    }
   ],
   "source": [
    "if is_databricks():\n",
    "  pipeline_model.transform(im_courses).\\\n",
    "        where('course == \"IST 718\"').\\\n",
    "        select(fn.col(\"scores\").alias('ist718_scores')).\\\n",
    "        join(pipeline_model.transform(im_courses)).\\\n",
    "        withColumn('dist', l2_dist_udf('scores', 'ist718_scores')).\\\n",
    "        select(\"course\", \"description\", \"dist\").\\\n",
    "        orderBy(fn.asc(\"dist\")).\\\n",
    "        show(5, 80)  \n",
    "else:\n",
    "  display(pipeline_model.transform(im_courses).\\\n",
    "          where('course == \"IST 718\"').\\\n",
    "          select(fn.col(\"scores\").alias('ist718_scores')).\\\n",
    "          join(pipeline_model.transform(im_courses)).\\\n",
    "          withColumn('dist', l2_dist_udf('scores', 'ist718_scores')).\\\n",
    "          select(\"course\", \"description\", \"dist\").\\\n",
    "          orderBy(fn.asc(\"dist\")).\\\n",
    "          limit(10).\\\n",
    "          toPandas())"
   ]
  },
  {
   "cell_type": "markdown",
   "metadata": {},
   "source": [
    "Define a function to create a biplot"
   ]
  },
  {
   "cell_type": "code",
   "execution_count": 61,
   "metadata": {},
   "outputs": [],
   "source": [
    "def biplot(score, coeff, score_labels=None, col_labels=None):\n",
    "    xs = score[:,0]\n",
    "    ys = score[:,1]\n",
    "    n = coeff.shape[0]\n",
    "    scalex = 1.0/(xs.max() - xs.min())\n",
    "    scaley = 1.0/(ys.max() - ys.min())\n",
    "    \n",
    "    plt.scatter(xs * scalex, ys * scaley)\n",
    "    for i in range(n):\n",
    "        plt.arrow(0, 0, coeff[i,0], coeff[i,1],color = 'r',alpha = 0.5)\n",
    "        if col_labels is None:\n",
    "            plt.text(coeff[i,0]* 1.15, coeff[i,1] * 1.15, \"Var\"+str(i+1), color = 'g', ha = 'center', va = 'center')\n",
    "        else:\n",
    "            plt.text(coeff[i,0]* 1.15, coeff[i,1] * 1.15, col_labels[i], color = 'g', ha = 'center', va = 'center')\n",
    "    plt.xlim(-1,1)\n",
    "    plt.ylim(-1,1)\n",
    "    plt.xlabel(\"PC{}\".format(1))\n",
    "    plt.ylabel(\"PC{}\".format(2))\n",
    "    plt.grid()"
   ]
  },
  {
   "cell_type": "code",
   "execution_count": 62,
   "metadata": {},
   "outputs": [],
   "source": [
    "df = pipeline2_model.transform(im_courses)\n",
    "scores = np.array(df.select('scores').rdd.map(lambda x: x['scores']).collect())\n",
    "course_names = np.array(im_courses.select('course').rdd.map(lambda x: x['course']).collect())\n",
    "loadings = pipeline2_model.stages[-1].pc.toArray()"
   ]
  },
  {
   "cell_type": "code",
   "execution_count": 63,
   "metadata": {},
   "outputs": [
    {
     "name": "stdout",
     "output_type": "stream",
     "text": [
      "(34, 2)\n",
      "(34,)\n",
      "(357, 2)\n"
     ]
    }
   ],
   "source": [
    "print(scores.shape)\n",
    "print(course_names.shape)\n",
    "print(loadings.shape)\n",
    "#display(df.toPandas().head())"
   ]
  },
  {
   "cell_type": "code",
   "execution_count": 64,
   "metadata": {
    "scrolled": true
   },
   "outputs": [
    {
     "data": {
      "application/javascript": [
       "/* Put everything inside the global mpl namespace */\n",
       "window.mpl = {};\n",
       "\n",
       "\n",
       "mpl.get_websocket_type = function() {\n",
       "    if (typeof(WebSocket) !== 'undefined') {\n",
       "        return WebSocket;\n",
       "    } else if (typeof(MozWebSocket) !== 'undefined') {\n",
       "        return MozWebSocket;\n",
       "    } else {\n",
       "        alert('Your browser does not have WebSocket support. ' +\n",
       "              'Please try Chrome, Safari or Firefox ≥ 6. ' +\n",
       "              'Firefox 4 and 5 are also supported but you ' +\n",
       "              'have to enable WebSockets in about:config.');\n",
       "    };\n",
       "}\n",
       "\n",
       "mpl.figure = function(figure_id, websocket, ondownload, parent_element) {\n",
       "    this.id = figure_id;\n",
       "\n",
       "    this.ws = websocket;\n",
       "\n",
       "    this.supports_binary = (this.ws.binaryType != undefined);\n",
       "\n",
       "    if (!this.supports_binary) {\n",
       "        var warnings = document.getElementById(\"mpl-warnings\");\n",
       "        if (warnings) {\n",
       "            warnings.style.display = 'block';\n",
       "            warnings.textContent = (\n",
       "                \"This browser does not support binary websocket messages. \" +\n",
       "                    \"Performance may be slow.\");\n",
       "        }\n",
       "    }\n",
       "\n",
       "    this.imageObj = new Image();\n",
       "\n",
       "    this.context = undefined;\n",
       "    this.message = undefined;\n",
       "    this.canvas = undefined;\n",
       "    this.rubberband_canvas = undefined;\n",
       "    this.rubberband_context = undefined;\n",
       "    this.format_dropdown = undefined;\n",
       "\n",
       "    this.image_mode = 'full';\n",
       "\n",
       "    this.root = $('<div/>');\n",
       "    this._root_extra_style(this.root)\n",
       "    this.root.attr('style', 'display: inline-block');\n",
       "\n",
       "    $(parent_element).append(this.root);\n",
       "\n",
       "    this._init_header(this);\n",
       "    this._init_canvas(this);\n",
       "    this._init_toolbar(this);\n",
       "\n",
       "    var fig = this;\n",
       "\n",
       "    this.waiting = false;\n",
       "\n",
       "    this.ws.onopen =  function () {\n",
       "            fig.send_message(\"supports_binary\", {value: fig.supports_binary});\n",
       "            fig.send_message(\"send_image_mode\", {});\n",
       "            if (mpl.ratio != 1) {\n",
       "                fig.send_message(\"set_dpi_ratio\", {'dpi_ratio': mpl.ratio});\n",
       "            }\n",
       "            fig.send_message(\"refresh\", {});\n",
       "        }\n",
       "\n",
       "    this.imageObj.onload = function() {\n",
       "            if (fig.image_mode == 'full') {\n",
       "                // Full images could contain transparency (where diff images\n",
       "                // almost always do), so we need to clear the canvas so that\n",
       "                // there is no ghosting.\n",
       "                fig.context.clearRect(0, 0, fig.canvas.width, fig.canvas.height);\n",
       "            }\n",
       "            fig.context.drawImage(fig.imageObj, 0, 0);\n",
       "        };\n",
       "\n",
       "    this.imageObj.onunload = function() {\n",
       "        fig.ws.close();\n",
       "    }\n",
       "\n",
       "    this.ws.onmessage = this._make_on_message_function(this);\n",
       "\n",
       "    this.ondownload = ondownload;\n",
       "}\n",
       "\n",
       "mpl.figure.prototype._init_header = function() {\n",
       "    var titlebar = $(\n",
       "        '<div class=\"ui-dialog-titlebar ui-widget-header ui-corner-all ' +\n",
       "        'ui-helper-clearfix\"/>');\n",
       "    var titletext = $(\n",
       "        '<div class=\"ui-dialog-title\" style=\"width: 100%; ' +\n",
       "        'text-align: center; padding: 3px;\"/>');\n",
       "    titlebar.append(titletext)\n",
       "    this.root.append(titlebar);\n",
       "    this.header = titletext[0];\n",
       "}\n",
       "\n",
       "\n",
       "\n",
       "mpl.figure.prototype._canvas_extra_style = function(canvas_div) {\n",
       "\n",
       "}\n",
       "\n",
       "\n",
       "mpl.figure.prototype._root_extra_style = function(canvas_div) {\n",
       "\n",
       "}\n",
       "\n",
       "mpl.figure.prototype._init_canvas = function() {\n",
       "    var fig = this;\n",
       "\n",
       "    var canvas_div = $('<div/>');\n",
       "\n",
       "    canvas_div.attr('style', 'position: relative; clear: both; outline: 0');\n",
       "\n",
       "    function canvas_keyboard_event(event) {\n",
       "        return fig.key_event(event, event['data']);\n",
       "    }\n",
       "\n",
       "    canvas_div.keydown('key_press', canvas_keyboard_event);\n",
       "    canvas_div.keyup('key_release', canvas_keyboard_event);\n",
       "    this.canvas_div = canvas_div\n",
       "    this._canvas_extra_style(canvas_div)\n",
       "    this.root.append(canvas_div);\n",
       "\n",
       "    var canvas = $('<canvas/>');\n",
       "    canvas.addClass('mpl-canvas');\n",
       "    canvas.attr('style', \"left: 0; top: 0; z-index: 0; outline: 0\")\n",
       "\n",
       "    this.canvas = canvas[0];\n",
       "    this.context = canvas[0].getContext(\"2d\");\n",
       "\n",
       "    var backingStore = this.context.backingStorePixelRatio ||\n",
       "\tthis.context.webkitBackingStorePixelRatio ||\n",
       "\tthis.context.mozBackingStorePixelRatio ||\n",
       "\tthis.context.msBackingStorePixelRatio ||\n",
       "\tthis.context.oBackingStorePixelRatio ||\n",
       "\tthis.context.backingStorePixelRatio || 1;\n",
       "\n",
       "    mpl.ratio = (window.devicePixelRatio || 1) / backingStore;\n",
       "\n",
       "    var rubberband = $('<canvas/>');\n",
       "    rubberband.attr('style', \"position: absolute; left: 0; top: 0; z-index: 1;\")\n",
       "\n",
       "    var pass_mouse_events = true;\n",
       "\n",
       "    canvas_div.resizable({\n",
       "        start: function(event, ui) {\n",
       "            pass_mouse_events = false;\n",
       "        },\n",
       "        resize: function(event, ui) {\n",
       "            fig.request_resize(ui.size.width, ui.size.height);\n",
       "        },\n",
       "        stop: function(event, ui) {\n",
       "            pass_mouse_events = true;\n",
       "            fig.request_resize(ui.size.width, ui.size.height);\n",
       "        },\n",
       "    });\n",
       "\n",
       "    function mouse_event_fn(event) {\n",
       "        if (pass_mouse_events)\n",
       "            return fig.mouse_event(event, event['data']);\n",
       "    }\n",
       "\n",
       "    rubberband.mousedown('button_press', mouse_event_fn);\n",
       "    rubberband.mouseup('button_release', mouse_event_fn);\n",
       "    // Throttle sequential mouse events to 1 every 20ms.\n",
       "    rubberband.mousemove('motion_notify', mouse_event_fn);\n",
       "\n",
       "    rubberband.mouseenter('figure_enter', mouse_event_fn);\n",
       "    rubberband.mouseleave('figure_leave', mouse_event_fn);\n",
       "\n",
       "    canvas_div.on(\"wheel\", function (event) {\n",
       "        event = event.originalEvent;\n",
       "        event['data'] = 'scroll'\n",
       "        if (event.deltaY < 0) {\n",
       "            event.step = 1;\n",
       "        } else {\n",
       "            event.step = -1;\n",
       "        }\n",
       "        mouse_event_fn(event);\n",
       "    });\n",
       "\n",
       "    canvas_div.append(canvas);\n",
       "    canvas_div.append(rubberband);\n",
       "\n",
       "    this.rubberband = rubberband;\n",
       "    this.rubberband_canvas = rubberband[0];\n",
       "    this.rubberband_context = rubberband[0].getContext(\"2d\");\n",
       "    this.rubberband_context.strokeStyle = \"#000000\";\n",
       "\n",
       "    this._resize_canvas = function(width, height) {\n",
       "        // Keep the size of the canvas, canvas container, and rubber band\n",
       "        // canvas in synch.\n",
       "        canvas_div.css('width', width)\n",
       "        canvas_div.css('height', height)\n",
       "\n",
       "        canvas.attr('width', width * mpl.ratio);\n",
       "        canvas.attr('height', height * mpl.ratio);\n",
       "        canvas.attr('style', 'width: ' + width + 'px; height: ' + height + 'px;');\n",
       "\n",
       "        rubberband.attr('width', width);\n",
       "        rubberband.attr('height', height);\n",
       "    }\n",
       "\n",
       "    // Set the figure to an initial 600x600px, this will subsequently be updated\n",
       "    // upon first draw.\n",
       "    this._resize_canvas(600, 600);\n",
       "\n",
       "    // Disable right mouse context menu.\n",
       "    $(this.rubberband_canvas).bind(\"contextmenu\",function(e){\n",
       "        return false;\n",
       "    });\n",
       "\n",
       "    function set_focus () {\n",
       "        canvas.focus();\n",
       "        canvas_div.focus();\n",
       "    }\n",
       "\n",
       "    window.setTimeout(set_focus, 100);\n",
       "}\n",
       "\n",
       "mpl.figure.prototype._init_toolbar = function() {\n",
       "    var fig = this;\n",
       "\n",
       "    var nav_element = $('<div/>');\n",
       "    nav_element.attr('style', 'width: 100%');\n",
       "    this.root.append(nav_element);\n",
       "\n",
       "    // Define a callback function for later on.\n",
       "    function toolbar_event(event) {\n",
       "        return fig.toolbar_button_onclick(event['data']);\n",
       "    }\n",
       "    function toolbar_mouse_event(event) {\n",
       "        return fig.toolbar_button_onmouseover(event['data']);\n",
       "    }\n",
       "\n",
       "    for(var toolbar_ind in mpl.toolbar_items) {\n",
       "        var name = mpl.toolbar_items[toolbar_ind][0];\n",
       "        var tooltip = mpl.toolbar_items[toolbar_ind][1];\n",
       "        var image = mpl.toolbar_items[toolbar_ind][2];\n",
       "        var method_name = mpl.toolbar_items[toolbar_ind][3];\n",
       "\n",
       "        if (!name) {\n",
       "            // put a spacer in here.\n",
       "            continue;\n",
       "        }\n",
       "        var button = $('<button/>');\n",
       "        button.addClass('ui-button ui-widget ui-state-default ui-corner-all ' +\n",
       "                        'ui-button-icon-only');\n",
       "        button.attr('role', 'button');\n",
       "        button.attr('aria-disabled', 'false');\n",
       "        button.click(method_name, toolbar_event);\n",
       "        button.mouseover(tooltip, toolbar_mouse_event);\n",
       "\n",
       "        var icon_img = $('<span/>');\n",
       "        icon_img.addClass('ui-button-icon-primary ui-icon');\n",
       "        icon_img.addClass(image);\n",
       "        icon_img.addClass('ui-corner-all');\n",
       "\n",
       "        var tooltip_span = $('<span/>');\n",
       "        tooltip_span.addClass('ui-button-text');\n",
       "        tooltip_span.html(tooltip);\n",
       "\n",
       "        button.append(icon_img);\n",
       "        button.append(tooltip_span);\n",
       "\n",
       "        nav_element.append(button);\n",
       "    }\n",
       "\n",
       "    var fmt_picker_span = $('<span/>');\n",
       "\n",
       "    var fmt_picker = $('<select/>');\n",
       "    fmt_picker.addClass('mpl-toolbar-option ui-widget ui-widget-content');\n",
       "    fmt_picker_span.append(fmt_picker);\n",
       "    nav_element.append(fmt_picker_span);\n",
       "    this.format_dropdown = fmt_picker[0];\n",
       "\n",
       "    for (var ind in mpl.extensions) {\n",
       "        var fmt = mpl.extensions[ind];\n",
       "        var option = $(\n",
       "            '<option/>', {selected: fmt === mpl.default_extension}).html(fmt);\n",
       "        fmt_picker.append(option);\n",
       "    }\n",
       "\n",
       "    // Add hover states to the ui-buttons\n",
       "    $( \".ui-button\" ).hover(\n",
       "        function() { $(this).addClass(\"ui-state-hover\");},\n",
       "        function() { $(this).removeClass(\"ui-state-hover\");}\n",
       "    );\n",
       "\n",
       "    var status_bar = $('<span class=\"mpl-message\"/>');\n",
       "    nav_element.append(status_bar);\n",
       "    this.message = status_bar[0];\n",
       "}\n",
       "\n",
       "mpl.figure.prototype.request_resize = function(x_pixels, y_pixels) {\n",
       "    // Request matplotlib to resize the figure. Matplotlib will then trigger a resize in the client,\n",
       "    // which will in turn request a refresh of the image.\n",
       "    this.send_message('resize', {'width': x_pixels, 'height': y_pixels});\n",
       "}\n",
       "\n",
       "mpl.figure.prototype.send_message = function(type, properties) {\n",
       "    properties['type'] = type;\n",
       "    properties['figure_id'] = this.id;\n",
       "    this.ws.send(JSON.stringify(properties));\n",
       "}\n",
       "\n",
       "mpl.figure.prototype.send_draw_message = function() {\n",
       "    if (!this.waiting) {\n",
       "        this.waiting = true;\n",
       "        this.ws.send(JSON.stringify({type: \"draw\", figure_id: this.id}));\n",
       "    }\n",
       "}\n",
       "\n",
       "\n",
       "mpl.figure.prototype.handle_save = function(fig, msg) {\n",
       "    var format_dropdown = fig.format_dropdown;\n",
       "    var format = format_dropdown.options[format_dropdown.selectedIndex].value;\n",
       "    fig.ondownload(fig, format);\n",
       "}\n",
       "\n",
       "\n",
       "mpl.figure.prototype.handle_resize = function(fig, msg) {\n",
       "    var size = msg['size'];\n",
       "    if (size[0] != fig.canvas.width || size[1] != fig.canvas.height) {\n",
       "        fig._resize_canvas(size[0], size[1]);\n",
       "        fig.send_message(\"refresh\", {});\n",
       "    };\n",
       "}\n",
       "\n",
       "mpl.figure.prototype.handle_rubberband = function(fig, msg) {\n",
       "    var x0 = msg['x0'] / mpl.ratio;\n",
       "    var y0 = (fig.canvas.height - msg['y0']) / mpl.ratio;\n",
       "    var x1 = msg['x1'] / mpl.ratio;\n",
       "    var y1 = (fig.canvas.height - msg['y1']) / mpl.ratio;\n",
       "    x0 = Math.floor(x0) + 0.5;\n",
       "    y0 = Math.floor(y0) + 0.5;\n",
       "    x1 = Math.floor(x1) + 0.5;\n",
       "    y1 = Math.floor(y1) + 0.5;\n",
       "    var min_x = Math.min(x0, x1);\n",
       "    var min_y = Math.min(y0, y1);\n",
       "    var width = Math.abs(x1 - x0);\n",
       "    var height = Math.abs(y1 - y0);\n",
       "\n",
       "    fig.rubberband_context.clearRect(\n",
       "        0, 0, fig.canvas.width / mpl.ratio, fig.canvas.height / mpl.ratio);\n",
       "\n",
       "    fig.rubberband_context.strokeRect(min_x, min_y, width, height);\n",
       "}\n",
       "\n",
       "mpl.figure.prototype.handle_figure_label = function(fig, msg) {\n",
       "    // Updates the figure title.\n",
       "    fig.header.textContent = msg['label'];\n",
       "}\n",
       "\n",
       "mpl.figure.prototype.handle_cursor = function(fig, msg) {\n",
       "    var cursor = msg['cursor'];\n",
       "    switch(cursor)\n",
       "    {\n",
       "    case 0:\n",
       "        cursor = 'pointer';\n",
       "        break;\n",
       "    case 1:\n",
       "        cursor = 'default';\n",
       "        break;\n",
       "    case 2:\n",
       "        cursor = 'crosshair';\n",
       "        break;\n",
       "    case 3:\n",
       "        cursor = 'move';\n",
       "        break;\n",
       "    }\n",
       "    fig.rubberband_canvas.style.cursor = cursor;\n",
       "}\n",
       "\n",
       "mpl.figure.prototype.handle_message = function(fig, msg) {\n",
       "    fig.message.textContent = msg['message'];\n",
       "}\n",
       "\n",
       "mpl.figure.prototype.handle_draw = function(fig, msg) {\n",
       "    // Request the server to send over a new figure.\n",
       "    fig.send_draw_message();\n",
       "}\n",
       "\n",
       "mpl.figure.prototype.handle_image_mode = function(fig, msg) {\n",
       "    fig.image_mode = msg['mode'];\n",
       "}\n",
       "\n",
       "mpl.figure.prototype.updated_canvas_event = function() {\n",
       "    // Called whenever the canvas gets updated.\n",
       "    this.send_message(\"ack\", {});\n",
       "}\n",
       "\n",
       "// A function to construct a web socket function for onmessage handling.\n",
       "// Called in the figure constructor.\n",
       "mpl.figure.prototype._make_on_message_function = function(fig) {\n",
       "    return function socket_on_message(evt) {\n",
       "        if (evt.data instanceof Blob) {\n",
       "            /* FIXME: We get \"Resource interpreted as Image but\n",
       "             * transferred with MIME type text/plain:\" errors on\n",
       "             * Chrome.  But how to set the MIME type?  It doesn't seem\n",
       "             * to be part of the websocket stream */\n",
       "            evt.data.type = \"image/png\";\n",
       "\n",
       "            /* Free the memory for the previous frames */\n",
       "            if (fig.imageObj.src) {\n",
       "                (window.URL || window.webkitURL).revokeObjectURL(\n",
       "                    fig.imageObj.src);\n",
       "            }\n",
       "\n",
       "            fig.imageObj.src = (window.URL || window.webkitURL).createObjectURL(\n",
       "                evt.data);\n",
       "            fig.updated_canvas_event();\n",
       "            fig.waiting = false;\n",
       "            return;\n",
       "        }\n",
       "        else if (typeof evt.data === 'string' && evt.data.slice(0, 21) == \"data:image/png;base64\") {\n",
       "            fig.imageObj.src = evt.data;\n",
       "            fig.updated_canvas_event();\n",
       "            fig.waiting = false;\n",
       "            return;\n",
       "        }\n",
       "\n",
       "        var msg = JSON.parse(evt.data);\n",
       "        var msg_type = msg['type'];\n",
       "\n",
       "        // Call the  \"handle_{type}\" callback, which takes\n",
       "        // the figure and JSON message as its only arguments.\n",
       "        try {\n",
       "            var callback = fig[\"handle_\" + msg_type];\n",
       "        } catch (e) {\n",
       "            console.log(\"No handler for the '\" + msg_type + \"' message type: \", msg);\n",
       "            return;\n",
       "        }\n",
       "\n",
       "        if (callback) {\n",
       "            try {\n",
       "                // console.log(\"Handling '\" + msg_type + \"' message: \", msg);\n",
       "                callback(fig, msg);\n",
       "            } catch (e) {\n",
       "                console.log(\"Exception inside the 'handler_\" + msg_type + \"' callback:\", e, e.stack, msg);\n",
       "            }\n",
       "        }\n",
       "    };\n",
       "}\n",
       "\n",
       "// from http://stackoverflow.com/questions/1114465/getting-mouse-location-in-canvas\n",
       "mpl.findpos = function(e) {\n",
       "    //this section is from http://www.quirksmode.org/js/events_properties.html\n",
       "    var targ;\n",
       "    if (!e)\n",
       "        e = window.event;\n",
       "    if (e.target)\n",
       "        targ = e.target;\n",
       "    else if (e.srcElement)\n",
       "        targ = e.srcElement;\n",
       "    if (targ.nodeType == 3) // defeat Safari bug\n",
       "        targ = targ.parentNode;\n",
       "\n",
       "    // jQuery normalizes the pageX and pageY\n",
       "    // pageX,Y are the mouse positions relative to the document\n",
       "    // offset() returns the position of the element relative to the document\n",
       "    var x = e.pageX - $(targ).offset().left;\n",
       "    var y = e.pageY - $(targ).offset().top;\n",
       "\n",
       "    return {\"x\": x, \"y\": y};\n",
       "};\n",
       "\n",
       "/*\n",
       " * return a copy of an object with only non-object keys\n",
       " * we need this to avoid circular references\n",
       " * http://stackoverflow.com/a/24161582/3208463\n",
       " */\n",
       "function simpleKeys (original) {\n",
       "  return Object.keys(original).reduce(function (obj, key) {\n",
       "    if (typeof original[key] !== 'object')\n",
       "        obj[key] = original[key]\n",
       "    return obj;\n",
       "  }, {});\n",
       "}\n",
       "\n",
       "mpl.figure.prototype.mouse_event = function(event, name) {\n",
       "    var canvas_pos = mpl.findpos(event)\n",
       "\n",
       "    if (name === 'button_press')\n",
       "    {\n",
       "        this.canvas.focus();\n",
       "        this.canvas_div.focus();\n",
       "    }\n",
       "\n",
       "    var x = canvas_pos.x * mpl.ratio;\n",
       "    var y = canvas_pos.y * mpl.ratio;\n",
       "\n",
       "    this.send_message(name, {x: x, y: y, button: event.button,\n",
       "                             step: event.step,\n",
       "                             guiEvent: simpleKeys(event)});\n",
       "\n",
       "    /* This prevents the web browser from automatically changing to\n",
       "     * the text insertion cursor when the button is pressed.  We want\n",
       "     * to control all of the cursor setting manually through the\n",
       "     * 'cursor' event from matplotlib */\n",
       "    event.preventDefault();\n",
       "    return false;\n",
       "}\n",
       "\n",
       "mpl.figure.prototype._key_event_extra = function(event, name) {\n",
       "    // Handle any extra behaviour associated with a key event\n",
       "}\n",
       "\n",
       "mpl.figure.prototype.key_event = function(event, name) {\n",
       "\n",
       "    // Prevent repeat events\n",
       "    if (name == 'key_press')\n",
       "    {\n",
       "        if (event.which === this._key)\n",
       "            return;\n",
       "        else\n",
       "            this._key = event.which;\n",
       "    }\n",
       "    if (name == 'key_release')\n",
       "        this._key = null;\n",
       "\n",
       "    var value = '';\n",
       "    if (event.ctrlKey && event.which != 17)\n",
       "        value += \"ctrl+\";\n",
       "    if (event.altKey && event.which != 18)\n",
       "        value += \"alt+\";\n",
       "    if (event.shiftKey && event.which != 16)\n",
       "        value += \"shift+\";\n",
       "\n",
       "    value += 'k';\n",
       "    value += event.which.toString();\n",
       "\n",
       "    this._key_event_extra(event, name);\n",
       "\n",
       "    this.send_message(name, {key: value,\n",
       "                             guiEvent: simpleKeys(event)});\n",
       "    return false;\n",
       "}\n",
       "\n",
       "mpl.figure.prototype.toolbar_button_onclick = function(name) {\n",
       "    if (name == 'download') {\n",
       "        this.handle_save(this, null);\n",
       "    } else {\n",
       "        this.send_message(\"toolbar_button\", {name: name});\n",
       "    }\n",
       "};\n",
       "\n",
       "mpl.figure.prototype.toolbar_button_onmouseover = function(tooltip) {\n",
       "    this.message.textContent = tooltip;\n",
       "};\n",
       "mpl.toolbar_items = [[\"Home\", \"Reset original view\", \"fa fa-home icon-home\", \"home\"], [\"Back\", \"Back to previous view\", \"fa fa-arrow-left icon-arrow-left\", \"back\"], [\"Forward\", \"Forward to next view\", \"fa fa-arrow-right icon-arrow-right\", \"forward\"], [\"\", \"\", \"\", \"\"], [\"Pan\", \"Pan axes with left mouse, zoom with right\", \"fa fa-arrows icon-move\", \"pan\"], [\"Zoom\", \"Zoom to rectangle\", \"fa fa-square-o icon-check-empty\", \"zoom\"], [\"\", \"\", \"\", \"\"], [\"Download\", \"Download plot\", \"fa fa-floppy-o icon-save\", \"download\"]];\n",
       "\n",
       "mpl.extensions = [\"eps\", \"jpeg\", \"pdf\", \"png\", \"ps\", \"raw\", \"svg\", \"tif\"];\n",
       "\n",
       "mpl.default_extension = \"png\";var comm_websocket_adapter = function(comm) {\n",
       "    // Create a \"websocket\"-like object which calls the given IPython comm\n",
       "    // object with the appropriate methods. Currently this is a non binary\n",
       "    // socket, so there is still some room for performance tuning.\n",
       "    var ws = {};\n",
       "\n",
       "    ws.close = function() {\n",
       "        comm.close()\n",
       "    };\n",
       "    ws.send = function(m) {\n",
       "        //console.log('sending', m);\n",
       "        comm.send(m);\n",
       "    };\n",
       "    // Register the callback with on_msg.\n",
       "    comm.on_msg(function(msg) {\n",
       "        //console.log('receiving', msg['content']['data'], msg);\n",
       "        // Pass the mpl event to the overridden (by mpl) onmessage function.\n",
       "        ws.onmessage(msg['content']['data'])\n",
       "    });\n",
       "    return ws;\n",
       "}\n",
       "\n",
       "mpl.mpl_figure_comm = function(comm, msg) {\n",
       "    // This is the function which gets called when the mpl process\n",
       "    // starts-up an IPython Comm through the \"matplotlib\" channel.\n",
       "\n",
       "    var id = msg.content.data.id;\n",
       "    // Get hold of the div created by the display call when the Comm\n",
       "    // socket was opened in Python.\n",
       "    var element = $(\"#\" + id);\n",
       "    var ws_proxy = comm_websocket_adapter(comm)\n",
       "\n",
       "    function ondownload(figure, format) {\n",
       "        window.open(figure.imageObj.src);\n",
       "    }\n",
       "\n",
       "    var fig = new mpl.figure(id, ws_proxy,\n",
       "                           ondownload,\n",
       "                           element.get(0));\n",
       "\n",
       "    // Call onopen now - mpl needs it, as it is assuming we've passed it a real\n",
       "    // web socket which is closed, not our websocket->open comm proxy.\n",
       "    ws_proxy.onopen();\n",
       "\n",
       "    fig.parent_element = element.get(0);\n",
       "    fig.cell_info = mpl.find_output_cell(\"<div id='\" + id + \"'></div>\");\n",
       "    if (!fig.cell_info) {\n",
       "        console.error(\"Failed to find cell for figure\", id, fig);\n",
       "        return;\n",
       "    }\n",
       "\n",
       "    var output_index = fig.cell_info[2]\n",
       "    var cell = fig.cell_info[0];\n",
       "\n",
       "};\n",
       "\n",
       "mpl.figure.prototype.handle_close = function(fig, msg) {\n",
       "    var width = fig.canvas.width/mpl.ratio\n",
       "    fig.root.unbind('remove')\n",
       "\n",
       "    // Update the output cell to use the data from the current canvas.\n",
       "    fig.push_to_output();\n",
       "    var dataURL = fig.canvas.toDataURL();\n",
       "    // Re-enable the keyboard manager in IPython - without this line, in FF,\n",
       "    // the notebook keyboard shortcuts fail.\n",
       "    IPython.keyboard_manager.enable()\n",
       "    $(fig.parent_element).html('<img src=\"' + dataURL + '\" width=\"' + width + '\">');\n",
       "    fig.close_ws(fig, msg);\n",
       "}\n",
       "\n",
       "mpl.figure.prototype.close_ws = function(fig, msg){\n",
       "    fig.send_message('closing', msg);\n",
       "    // fig.ws.close()\n",
       "}\n",
       "\n",
       "mpl.figure.prototype.push_to_output = function(remove_interactive) {\n",
       "    // Turn the data on the canvas into data in the output cell.\n",
       "    var width = this.canvas.width/mpl.ratio\n",
       "    var dataURL = this.canvas.toDataURL();\n",
       "    this.cell_info[1]['text/html'] = '<img src=\"' + dataURL + '\" width=\"' + width + '\">';\n",
       "}\n",
       "\n",
       "mpl.figure.prototype.updated_canvas_event = function() {\n",
       "    // Tell IPython that the notebook contents must change.\n",
       "    IPython.notebook.set_dirty(true);\n",
       "    this.send_message(\"ack\", {});\n",
       "    var fig = this;\n",
       "    // Wait a second, then push the new image to the DOM so\n",
       "    // that it is saved nicely (might be nice to debounce this).\n",
       "    setTimeout(function () { fig.push_to_output() }, 1000);\n",
       "}\n",
       "\n",
       "mpl.figure.prototype._init_toolbar = function() {\n",
       "    var fig = this;\n",
       "\n",
       "    var nav_element = $('<div/>');\n",
       "    nav_element.attr('style', 'width: 100%');\n",
       "    this.root.append(nav_element);\n",
       "\n",
       "    // Define a callback function for later on.\n",
       "    function toolbar_event(event) {\n",
       "        return fig.toolbar_button_onclick(event['data']);\n",
       "    }\n",
       "    function toolbar_mouse_event(event) {\n",
       "        return fig.toolbar_button_onmouseover(event['data']);\n",
       "    }\n",
       "\n",
       "    for(var toolbar_ind in mpl.toolbar_items){\n",
       "        var name = mpl.toolbar_items[toolbar_ind][0];\n",
       "        var tooltip = mpl.toolbar_items[toolbar_ind][1];\n",
       "        var image = mpl.toolbar_items[toolbar_ind][2];\n",
       "        var method_name = mpl.toolbar_items[toolbar_ind][3];\n",
       "\n",
       "        if (!name) { continue; };\n",
       "\n",
       "        var button = $('<button class=\"btn btn-default\" href=\"#\" title=\"' + name + '\"><i class=\"fa ' + image + ' fa-lg\"></i></button>');\n",
       "        button.click(method_name, toolbar_event);\n",
       "        button.mouseover(tooltip, toolbar_mouse_event);\n",
       "        nav_element.append(button);\n",
       "    }\n",
       "\n",
       "    // Add the status bar.\n",
       "    var status_bar = $('<span class=\"mpl-message\" style=\"text-align:right; float: right;\"/>');\n",
       "    nav_element.append(status_bar);\n",
       "    this.message = status_bar[0];\n",
       "\n",
       "    // Add the close button to the window.\n",
       "    var buttongrp = $('<div class=\"btn-group inline pull-right\"></div>');\n",
       "    var button = $('<button class=\"btn btn-mini btn-primary\" href=\"#\" title=\"Stop Interaction\"><i class=\"fa fa-power-off icon-remove icon-large\"></i></button>');\n",
       "    button.click(function (evt) { fig.handle_close(fig, {}); } );\n",
       "    button.mouseover('Stop Interaction', toolbar_mouse_event);\n",
       "    buttongrp.append(button);\n",
       "    var titlebar = this.root.find($('.ui-dialog-titlebar'));\n",
       "    titlebar.prepend(buttongrp);\n",
       "}\n",
       "\n",
       "mpl.figure.prototype._root_extra_style = function(el){\n",
       "    var fig = this\n",
       "    el.on(\"remove\", function(){\n",
       "\tfig.close_ws(fig, {});\n",
       "    });\n",
       "}\n",
       "\n",
       "mpl.figure.prototype._canvas_extra_style = function(el){\n",
       "    // this is important to make the div 'focusable\n",
       "    el.attr('tabindex', 0)\n",
       "    // reach out to IPython and tell the keyboard manager to turn it's self\n",
       "    // off when our div gets focus\n",
       "\n",
       "    // location in version 3\n",
       "    if (IPython.notebook.keyboard_manager) {\n",
       "        IPython.notebook.keyboard_manager.register_events(el);\n",
       "    }\n",
       "    else {\n",
       "        // location in version 2\n",
       "        IPython.keyboard_manager.register_events(el);\n",
       "    }\n",
       "\n",
       "}\n",
       "\n",
       "mpl.figure.prototype._key_event_extra = function(event, name) {\n",
       "    var manager = IPython.notebook.keyboard_manager;\n",
       "    if (!manager)\n",
       "        manager = IPython.keyboard_manager;\n",
       "\n",
       "    // Check for shift+enter\n",
       "    if (event.shiftKey && event.which == 13) {\n",
       "        this.canvas_div.blur();\n",
       "        // select the cell after this one\n",
       "        var index = IPython.notebook.find_cell_index(this.cell_info[0]);\n",
       "        IPython.notebook.select(index + 1);\n",
       "    }\n",
       "}\n",
       "\n",
       "mpl.figure.prototype.handle_save = function(fig, msg) {\n",
       "    fig.ondownload(fig, null);\n",
       "}\n",
       "\n",
       "\n",
       "mpl.find_output_cell = function(html_output) {\n",
       "    // Return the cell and output element which can be found *uniquely* in the notebook.\n",
       "    // Note - this is a bit hacky, but it is done because the \"notebook_saving.Notebook\"\n",
       "    // IPython event is triggered only after the cells have been serialised, which for\n",
       "    // our purposes (turning an active figure into a static one), is too late.\n",
       "    var cells = IPython.notebook.get_cells();\n",
       "    var ncells = cells.length;\n",
       "    for (var i=0; i<ncells; i++) {\n",
       "        var cell = cells[i];\n",
       "        if (cell.cell_type === 'code'){\n",
       "            for (var j=0; j<cell.output_area.outputs.length; j++) {\n",
       "                var data = cell.output_area.outputs[j];\n",
       "                if (data.data) {\n",
       "                    // IPython >= 3 moved mimebundle to data attribute of output\n",
       "                    data = data.data;\n",
       "                }\n",
       "                if (data['text/html'] == html_output) {\n",
       "                    return [cell, data, j];\n",
       "                }\n",
       "            }\n",
       "        }\n",
       "    }\n",
       "}\n",
       "\n",
       "// Register the function which deals with the matplotlib target/channel.\n",
       "// The kernel may be null if the page has been refreshed.\n",
       "if (IPython.notebook.kernel != null) {\n",
       "    IPython.notebook.kernel.comm_manager.register_target('matplotlib', mpl.mpl_figure_comm);\n",
       "}\n"
      ],
      "text/plain": [
       "<IPython.core.display.Javascript object>"
      ]
     },
     "metadata": {},
     "output_type": "display_data"
    },
    {
     "data": {
      "text/html": [
       "<img src=\"data:image/png;base64,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\" width=\"639.9999861283738\">"
      ],
      "text/plain": [
       "<IPython.core.display.HTML object>"
      ]
     },
     "metadata": {},
     "output_type": "display_data"
    }
   ],
   "source": [
    "%matplotlib notebook\n",
    "biplot(scores, loadings, score_labels=course_names)"
   ]
  },
  {
   "cell_type": "markdown",
   "metadata": {},
   "source": [
    "*END OF CODE*"
   ]
  }
 ],
 "metadata": {
  "anaconda-cloud": {},
  "kernelspec": {
   "display_name": "Python 3",
   "language": "python",
   "name": "python3"
  },
  "language_info": {
   "codemirror_mode": {
    "name": "ipython",
    "version": 3
   },
   "file_extension": ".py",
   "mimetype": "text/x-python",
   "name": "python",
   "nbconvert_exporter": "python",
   "pygments_lexer": "ipython3",
   "version": "3.8.5"
  },
  "name": "unit+08-unsupervised+learning",
  "notebookId": 1880941953554025
 },
 "nbformat": 4,
 "nbformat_minor": 4
}
